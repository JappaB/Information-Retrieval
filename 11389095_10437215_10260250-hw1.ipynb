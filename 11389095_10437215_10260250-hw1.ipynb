{
 "cells": [
  {
   "cell_type": "markdown",
   "metadata": {},
   "source": [
    "### Theory\n",
    "\n",
    "#### Hypothesis Testing – The problem of multiple comparisons [5 points]\n",
    "\n",
    "Experimentation in AI often happens like this: \n",
    "\n",
    "* Modify/Build an algorithm\n",
    "* Compare the algorithm to a baseline by running a hypothesis test.\n",
    "* If not significant, go back to step A\n",
    "* If significant, start writing a paper. \n",
    "\n",
    "How many hypothesis tests, m, does it take to get to (with Type I error for each test = α):\n",
    "\n",
    "1. P(mth experiment gives significant result | m experiments lacking power to reject H0)?\n",
    "2. P(at least one significant result | m experiments lacking power to reject H0)?\n",
    "\n",
    "#### Bias and unfairness in Interleaving experiments [10 points]\n",
    "Balance interleaving has been shown to be biased in a number of corner cases. An example was given during the lecture with two ranked lists of length 3 being interleaved, and a randomly clicking population of users that resulted in algorithm A winning ⅔ of the time, even though in theory the percentage of wins should be 50% for both algorithms. Can you come up with a situation of two ranked lists of length 3 and a distribution of clicks over them for which Team-draft interleaving is unfair to the better algorithm?\n"
   ]
  },
  {
   "cell_type": "code",
   "execution_count": 26,
   "metadata": {},
   "outputs": [],
   "source": [
    "import itertools\n",
    "import numpy as np\n",
    "\n",
    "# Added the numbers to facilitate easy sorting.\n",
    "RELAVANCE_SYMBOLS = ['0N', '1R', '2HR']\n",
    "\n",
    "# Generate all possible rankings for both Production and Experimental systems\n",
    "P = list(itertools.product(RELAVANCE_SYMBOLS, repeat = 5))\n",
    "E = list(itertools.product(RELAVANCE_SYMBOLS, repeat = 5))\n",
    " \n",
    "rankings = itertools.product(P, E)\n",
    "\n",
    "rank_list = list(rankings)\n",
    "rank_len = len(rank_list)\n"
   ]
  },
  {
   "cell_type": "code",
   "execution_count": 45,
   "metadata": {},
   "outputs": [
    {
     "name": "stderr",
     "output_type": "stream",
     "text": [
      "/Users/rubenpolak/miniconda3/lib/python3.6/site-packages/ipykernel_launcher.py:32: RuntimeWarning: invalid value encountered in double_scalars\n"
     ]
    }
   ],
   "source": [
    "# quote from slide 15: \"usually user only looks at very few top results : e.g. precision@3\"\n",
    "def precision_at_k(ranking, k):\n",
    "    subset = ranking[:k]\n",
    "    n_relevant = 0\n",
    "    \n",
    "    for result in subset:\n",
    "        if result is not '0N':\n",
    "            n_relevant += 1\n",
    "    \n",
    "    return n_relevant / k\n",
    "\n",
    "def DGC_at_k(ranking, k):\n",
    "    subset = ranking[:k]\n",
    "    discounted_scores = []\n",
    "    \n",
    "    for i, result in enumerate(subset):\n",
    "        # prepare variables for DGC formula\n",
    "        rank = i + 1\n",
    "        rel = RELAVANCE_SYMBOLS.index(result)\n",
    "        \n",
    "        # Calculate score\n",
    "        score = (2**rel - 1) / np.log2(1 + rank)\n",
    "        discounted_scores.append(score)\n",
    "    \n",
    "    # NB: sum is part of the formula\n",
    "    return np.sum(discounted_scores)\n",
    "        \n",
    "def nDGC_at_k(ranking, k):\n",
    "    true = DGC_at_k(ranking, k)\n",
    "    best = DGC_at_k(sorted(ranking, reverse=True), k)\n",
    "    \n",
    "    return true / best\n",
    "\n",
    "precision_p = []\n",
    "precision_e = []\n",
    "dgc_p = []\n",
    "dgc_e = []\n",
    "\n",
    "for p, e in rankings:\n",
    "    precision_p.append(precision_at_k(p, 3))\n",
    "    precision_e.append(precision_at_k(e, 3))\n",
    "    \n",
    "    dgc_p.append(nDGC_at_k(p, 3))\n",
    "    dgc_e.append(nDGC_at_k(e, 3))"
   ]
  },
  {
   "cell_type": "code",
   "execution_count": null,
   "metadata": {
    "scrolled": false
   },
   "outputs": [],
   "source": [
    "print(dgc_p)"
   ]
  },
  {
   "cell_type": "code",
   "execution_count": 72,
   "metadata": {
    "scrolled": false
   },
   "outputs": [
    {
     "name": "stdout",
     "output_type": "stream",
     "text": [
      "B is first:\n",
      "['b', 'a', 'e', 'c', 'f', 'd', 'g', 'h']\n"
     ]
    }
   ],
   "source": [
    "import random\n",
    "# Step 4: Implement 2 interleaving algorithms: \n",
    "## (1) Team-Draft Interleaving OR Balanced Interleaving, AND \n",
    "## (2) Probabilistic Interleaving.\n",
    "\n",
    "# The interleaving algorithms should: \n",
    "## (a) given two rankings of relevance interleave them into a single ranking, and \n",
    "## (b) given the users clicks on the interleaved ranking assign credit to the algorithms \n",
    "##     that produced the rankings.\n",
    "\n",
    "\n",
    "### BALANCED INTERLEAVING:\n",
    "# Find two random rankings A and B and present them:\n",
    "random_pick = random.randint(0,rank_len)\n",
    "A, B = ['a','b','c','d','g','h'], ['b','e','a','f','g','h']\n",
    "#A, B = rank_list[random_pick]\n",
    "\n",
    "# initialize pointers p_a and p_b\n",
    "p_a, p_b, I = 0, 0, []\n",
    "\n",
    "# Flip a coin to decide which pointer to pick highest value from ranking.\n",
    "turn = 'A' if random.randint(0, 1) == 0 else 'B'\n",
    "\n",
    "# Greedily collect rankings from both lists and build the interleaved list.\n",
    "print(turn, \"is first:\")\n",
    "while p_a < len(A) and p_b < len(B):\n",
    "    if p_a < p_b or p_a == p_b and turn == 'A':\n",
    "        if A[p_a] not in I:\n",
    "            I.append(A[p_a])\n",
    "        p_a += 1\n",
    "    else:\n",
    "        if B[p_b] not in I:\n",
    "            I.append(B[p_b])\n",
    "        p_b += 1\n",
    "\n",
    "print(I)"
   ]
  },
  {
   "cell_type": "code",
   "execution_count": 108,
   "metadata": {},
   "outputs": [
    {
     "name": "stdout",
     "output_type": "stream",
     "text": [
      "Turn is:  A\n",
      "A\n",
      "Turn is:  B\n",
      "B\n",
      "Turn is:  A\n",
      "A\n",
      "Turn is:  A\n",
      "B\n",
      "Turn is:  A\n",
      "A\n",
      "Turn is:  B\n",
      "B\n",
      "Turn is:  A\n",
      "A\n",
      "Turn is:  A\n",
      "B\n",
      "['a', 'b', 'c', 'e', 'd', 'f', 'g', 'h']\n"
     ]
    }
   ],
   "source": [
    "### TEAM-DRAFT INTERLEAVING:\n",
    "\n",
    "# Fully based on example in paper:\n",
    "random_pick = random.randint(0,rank_len)\n",
    "A, B = ['a','b','c','d','g','h'], ['b','e','a','f','g','h']\n",
    "#A, B = rank_list[random_pick]\n",
    "\n",
    "# create teams\n",
    "team_a, team_b, I = 0, 0, []\n",
    "\n",
    "while any(set(A)-set(I)) and any(set(B)-set(I)):\n",
    "    turn = 'A' if random.randint(0, 1) == 0 else 'B'\n",
    "    print(\"Turn is: \", turn)\n",
    "    if team_a < team_b or team_a == team_b and turn == 'A':\n",
    "        print(\"A\")\n",
    "        for a in A:\n",
    "            if a not in I:\n",
    "                I.append(a)\n",
    "                break\n",
    "        team_a += 1\n",
    "    else:\n",
    "        print(\"B\")\n",
    "        for b in B:\n",
    "            if b not in I:\n",
    "                I.append(b)\n",
    "                break\n",
    "        team_b += 1\n",
    "\n",
    "print(I)"
   ]
  },
  {
   "cell_type": "code",
   "execution_count": null,
   "metadata": {},
   "outputs": [],
   "source": []
  }
 ],
 "metadata": {
  "kernelspec": {
   "display_name": "Python 3",
   "language": "python",
   "name": "python3"
  },
  "language_info": {
   "codemirror_mode": {
    "name": "ipython",
    "version": 3
   },
   "file_extension": ".py",
   "mimetype": "text/x-python",
   "name": "python",
   "nbconvert_exporter": "python",
   "pygments_lexer": "ipython3",
   "version": "3.6.1"
  }
 },
 "nbformat": 4,
 "nbformat_minor": 2
}
