{
 "cells": [
  {
   "cell_type": "markdown",
   "metadata": {},
   "source": [
    "### Theory\n",
    "\n",
    "#### Hypothesis Testing – The problem of multiple comparisons [5 points]\n",
    "\n",
    "Experimentation in AI often happens like this: \n",
    "\n",
    "* Modify/Build an algorithm\n",
    "* Compare the algorithm to a baseline by running a hypothesis test.\n",
    "* If not significant, go back to step A\n",
    "* If significant, start writing a paper. \n",
    "\n",
    "How many hypothesis tests, m, does it take to get to (with Type I error for each test = α):\n",
    "\n",
    "1. P(mth experiment gives significant result | m experiments lacking power to reject H0)?\n",
    "2. P(at least one significant result | m experiments lacking power to reject H0)?\n",
    "\n",
    "#### Bias and unfairness in Interleaving experiments [10 points]\n",
    "Balance interleaving has been shown to be biased in a number of corner cases. An example was given during the lecture with two ranked lists of length 3 being interleaved, and a randomly clicking population of users that resulted in algorithm A winning ⅔ of the time, even though in theory the percentage of wins should be 50% for both algorithms. Can you come up with a situation of two ranked lists of length 3 and a distribution of clicks over them for which Team-draft interleaving is unfair to the better algorithm?\n"
   ]
  },
  {
   "cell_type": "code",
   "execution_count": 1,
   "metadata": {},
   "outputs": [
    {
     "name": "stdout",
     "output_type": "stream",
     "text": [
      "('N', 'N', 'N', 'N', 'N')\n",
      "('N', 'N', 'N', 'N', 'N')\n",
      "\n",
      "('N', 'HR', 'HR', 'HR', 'R')\n",
      "('N', 'HR', 'HR', 'N', 'HR')\n",
      "\n",
      "('HR', 'N', 'N', 'N', 'HR')\n",
      "('N', 'R', 'R', 'N', 'R')\n",
      "\n",
      "('HR', 'HR', 'HR', 'R', 'N')\n",
      "('HR', 'HR', 'N', 'HR', 'N')\n",
      "\n",
      "('R', 'N', 'N', 'N', 'R')\n",
      "('HR', 'R', 'HR', 'HR', 'HR')\n",
      "\n",
      "('R', 'HR', 'HR', 'R', 'HR')\n",
      "('R', 'N', 'R', 'HR', 'R')\n",
      "\n"
     ]
    }
   ],
   "source": [
    "import itertools\n",
    "import numpy as np\n",
    "\n",
    "# Added the numbers to facilitate easy sorting.\n",
    "REL_SCORES = {'N' : 0, 'R' : 1, 'HR' : 2}\n",
    "\n",
    "# Generate all possible rankings for both Production and Experimental systems\n",
    "P = list(itertools.product(REL_SCORES.keys(), repeat = 5))\n",
    "E = list(itertools.product(REL_SCORES.keys(), repeat = 5))\n",
    " \n",
    "rankings = list(itertools.product(P, E))\n",
    "\n",
    "# Make sure the right amount of combinations are made\n",
    "assert len(rankings) == 3**10\n",
    "\n",
    "# Show a sample of the generated rankings\n",
    "for p, e in rankings[0::10000]:\n",
    "    print(p)\n",
    "    print(e)\n",
    "    print()"
   ]
  },
  {
   "cell_type": "code",
   "execution_count": 4,
   "metadata": {},
   "outputs": [],
   "source": [
    "# quote from slide 15: \"usually user only looks at very few top results : e.g. precision@3\"\n",
    "def precision_at_k(ranking, k):\n",
    "    subset = ranking[:k]\n",
    "    n_relevant = 0\n",
    "    \n",
    "    for result in subset:\n",
    "        if REL_SCORES[result] > 0:\n",
    "            n_relevant += 1\n",
    "    \n",
    "    return n_relevant / k\n",
    "\n",
    "def DGC_at_k(ranking, k, optimal=False):\n",
    "    subset = ranking[:k]\n",
    "    \n",
    "    if optimal:\n",
    "        subset = sorted(subset, reverse=True, key=lambda x: REL_SCORES[x])\n",
    "        \n",
    "    discounted_score = 0\n",
    "    \n",
    "    for i, result in enumerate(subset):\n",
    "        # prepare variables for DGC formula\n",
    "        rank = i + 1\n",
    "        rel = REL_SCORES[result]\n",
    "        \n",
    "        # Calculate score\n",
    "        score = (2**rel - 1) / np.log2(1 + rank)\n",
    "        discounted_score += score\n",
    "    \n",
    "    # NB: sum is part of the formula\n",
    "    return discounted_score\n",
    "        \n",
    "def nDGC_at_k(ranking, k):\n",
    "    true = DGC_at_k(ranking, k)\n",
    "    best = DGC_at_k(ranking, k, optimal=True)\n",
    "    \n",
    "    # This is to prevent dividing by 0. If the best possible DGC is 0, the\n",
    "    # true DGC is also zero (because there are no relevant document is the top k)\n",
    "    if best == 0.0: \n",
    "        return 0.0\n",
    "    else:\n",
    "        return true / best\n",
    "\n",
    "def prob_of_relevance(grade, max_grade):\n",
    "    return (2**grade - 1) / 2**max_grade\n",
    "\n",
    "def ERR_naive(ranking):\n",
    "    err = 0\n",
    "    grades = [REL_SCORES[x] for x in ranking]\n",
    "    max_grade = max(REL_SCORES.values())\n",
    "    \n",
    "    for i in range(len(grades)):\n",
    "        prob_at_i = 1\n",
    "        for j in range(i - 1):\n",
    "            prob_at_i *= (1 - prob_of_relevance(grades[j], max_grade))\n",
    "        \n",
    "        prob_at_i *= prob_of_relevance(grades[i], max_grade)\n",
    "        # (1/r) -> (1/i+1) because of zero indexing\n",
    "        r = i + 1\n",
    "        err += prob_at_i * (1 / r)\n",
    "        \n",
    "    return err\n",
    "\n",
    "def ERR(ranking):\n",
    "    \"\"\"Algorithm to compute ERR in linear time, implemented based on \n",
    "    \n",
    "    Chapelle, O., Metlzer, D., Zhang, Y., & Grinspan, P. (2009, November). \n",
    "    Expected reciprocal rank for graded relevance. In Proceedings of the 18th ACM conference\n",
    "    on Information and knowledge management (pp. 621-630). ACM.\"\"\"\n",
    "    \n",
    "    grades = [REL_SCORES[x] for x in ranking]\n",
    "    max_grade = max(REL_SCORES.values())\n",
    "    \n",
    "    p = 1\n",
    "    err = 0\n",
    "    \n",
    "    for r in range(len(grades)):\n",
    "        R = prob_of_relevance(grades[r], max_grade)\n",
    "        err += p * (R/(r+1))\n",
    "        p *= (1 - R)\n",
    "    \n",
    "    return err"
   ]
  },
  {
   "cell_type": "code",
   "execution_count": 5,
   "metadata": {},
   "outputs": [],
   "source": [
    "## This cell does te calculations for all three metrics and saves the results to a list    \n",
    "\n",
    "depth = 5\n",
    "\n",
    "precision_p = []\n",
    "precision_e = []\n",
    "dgc_p = []\n",
    "dgc_e = []\n",
    "err_p = []\n",
    "err_e = []\n",
    "\n",
    "for i, (p, e) in enumerate(list(rankings)):\n",
    "    precision_p.append(precision_at_k(p, depth))\n",
    "    precision_e.append(precision_at_k(e, depth))\n",
    "\n",
    "    dgc_p.append(nDGC_at_k(p, depth))\n",
    "    dgc_e.append(nDGC_at_k(e, depth))\n",
    "    \n",
    "    err_p.append(ERR(p))\n",
    "    err_e.append(ERR(e))"
   ]
  },
  {
   "cell_type": "code",
   "execution_count": 6,
   "metadata": {},
   "outputs": [
    {
     "data": {
      "image/png": "[encoded data removed]",
      "text/plain": [
       "<matplotlib.figure.Figure at 0x1057dcdd8>"
      ]
     },
     "metadata": {},
     "output_type": "display_data"
    },
    {
     "data": {
      "image/png": "[encoded data removed]",
      "text/plain": [
       "<matplotlib.figure.Figure at 0x1075f8160>"
      ]
     },
     "metadata": {},
     "output_type": "display_data"
    },
    {
     "data": {
      "image/png": "[encoded data removed]",
      "text/plain": [
       "<matplotlib.figure.Figure at 0x107653320>"
      ]
     },
     "metadata": {},
     "output_type": "display_data"
    }
   ],
   "source": [
    "import matplotlib.pyplot as plt\n",
    "\n",
    "plt.figure(1)\n",
    "plt.subplot(211)\n",
    "plt.plot(range(len(dgc_p)), dgc_p)\n",
    "\n",
    "# plt.subplot(212)\n",
    "# plt.plot(range(len(dgc_e)), dgc_e, linewidth=0.1)\n",
    "\n",
    "plt.figure(2)\n",
    "plt.subplot(211)\n",
    "plt.plot(range(len(precision_p)), precision_p)\n",
    "\n",
    "# plt.subplot(212)\n",
    "# plt.plot(range(len(precision_e)), precision_e, linewidth=0.1)\n",
    "\n",
    "fig = plt.figure(3)\n",
    "plt.subplot(211)\n",
    "plt.plot(range(len(err_p)), err_p)\n",
    "\n",
    "# plt.subplot(212)\n",
    "# plt.plot(range(len(err_e)), err_e, linewidth=0.1)\n",
    "\n",
    "plt.show()"
   ]
  },
  {
   "cell_type": "markdown",
   "metadata": {},
   "source": [
    "### Analysis\n",
    "\n",
    "The lists in the `rankings` variable represents a simulation of all possible outcomes of a comparisson of model P and model E on a query. Because of the way the combinations are generated, subsequent instances of the E model vary rapidly and thus produce chaotic graphs. So for the graphical analysis, we will focus on model P.\n",
    "\n",
    "The first thing that stands out is that there is no obvious pattern in the progression of the metrics as you iterate trough the instances. We would've expected a more symmectric shape of the plot. But at further inspection, there is indeed a pattern. This is especially viable when you compare the three metrics with eachoter. All metrics are mininum around the 30.000th pair, which where the rankings are mostly non-relevant. At the beginning and end of the simulations the rankings are made up of mostly 'R' and 'HR' documents so they score high. In the EGG chart you get a more detailed view, since the grade of the rank is taken into account and grade('R') < grade('HR')."
   ]
  },
  {
   "cell_type": "code",
   "execution_count": 9,
   "metadata": {},
   "outputs": [
    {
     "name": "stdout",
     "output_type": "stream",
     "text": [
      "Delta precision\n",
      "\n",
      "[0.2, 0.19999999999999996, 0.6000000000000001, 0.19999999999999996, 0.6, 0.39999999999999997, 0.19999999999999996, 0.19999999999999996, 0.6000000000000001, 0.4, 0.19999999999999996, 0.6000000000000001, 0.19999999999999996, 0.19999999999999996, 0.20000000000000007, 0.19999999999999996, 0.19999999999999996, 0.19999999999999996, 0.20000000000000007, 0.20000000000000007, 0.19999999999999996, 0.20000000000000007]\n",
      "\n",
      "\n",
      "Delta nDGC\n",
      "\n",
      "[0.38685280723454163, 0.20250349648909927, 0.46183296469527579, 0.13693734971912253, 0.43898117286930882, 0.26682831238027382, 0.27326983663908622, 0.096271632952956598, 0.28773693348540386, 0.24447608192448522, 0.16503679614772881, 0.29164657484412837, 0.28860164887708795, 0.39050462946526443, 0.15754100061152276, 0.14528129860629235, 0.0672216106898893, 0.085690851301644333, 0.0012696687571942533, 0.049088361680577619, 0.36874854933073498, 0.019050187733976043, 0.27647582816280458, 0.30312213192539594, 0.12526773745572262, 0.04042475820413638, 0.13620630639738018, 0.24188756095754871, 0.1582911971598987, 0.20529705824228417]\n",
      "\n",
      "\n",
      "Delta ERR\n",
      "\n",
      "[0.15, 0.07499999999999998, 0.7351562500000001, 0.54375, 0.2385416666666667, 0.16666666666666669, 0.07656249999999998, 0.41536458333333337, 0.015234375000000022, 0.016666666666666663, 0.4223307291666667, 0.13489583333333333, 0.36874999999999997, 0.10000000000000003, 0.08281250000000001, 0.18984374999999998, 0.043749999999999956, 0.004166666666666652, 0.007031250000000044, 0.11249999999999999, 0.5, 0.33125000000000004, 0.181640625, 0.10507812499999997, 0.22499999999999998, 0.28203124999999996, 0.408203125, 0.46171874999999996, 0.0017578124999999556, 0.43196614583333337]\n"
     ]
    }
   ],
   "source": [
    "import functools\n",
    "\n",
    "def delta_measure(scores_a, scores_b):\n",
    "    result = []\n",
    "    for a, b in zip(scores_a, scores_b):\n",
    "        diff = b - a\n",
    "        if diff > 0:\n",
    "            result.append(diff)\n",
    "    \n",
    "    return result\n",
    "\n",
    "# Calculate delta measure for the three chosen metrics\n",
    "delta_precision = delta_measure(precision_p, precision_e)\n",
    "delta_nDGC = delta_measure(dgc_p, dgc_e)\n",
    "delta_ERR = delta_measure(err_p, err_e)\n",
    "\n",
    "print(\"Delta precision\")\n",
    "print()\n",
    "print(delta_precision[0::1000])\n",
    "print()\n",
    "print()\n",
    "print(\"Delta nDGC\")\n",
    "print()\n",
    "print(delta_nDGC[0::1000])\n",
    "print()\n",
    "print()\n",
    "print(\"Delta ERR\")\n",
    "print()\n",
    "print(delta_ERR[0::1000])"
   ]
  },
  {
   "cell_type": "code",
   "execution_count": 416,
   "metadata": {
    "scrolled": true
   },
   "outputs": [],
   "source": [
    "# Tournement: when does P beat E and does it depend on the metric?\n",
    "import random\n",
    "import scipy.stats as stats\n",
    "\n",
    "def mean_scores(metric, sample):\n",
    "    result_p = []\n",
    "    result_e = []\n",
    "\n",
    "    for p, e in sample:\n",
    "\n",
    "        result_p.append(metric(p))\n",
    "        result_e.append(metric(e))\n",
    "    \n",
    "    return result_p, result_e\n",
    "\n",
    "def test_greater_than(sample_a, sample_b, alpha):\n",
    "    \"\"\"Tests whether the difference [mean(sample_a) - mean(sample_b)] is \n",
    "    significantly greater than zero\"\"\"\n",
    "    \n",
    "    t_test = stats.ttest_ind(sample_a, sample_b)\n",
    "    return t_test.statistic > 0 and t_test.pvalue/2 < alpha"
   ]
  },
  {
   "cell_type": "code",
   "execution_count": 10,
   "metadata": {
    "scrolled": false
   },
   "outputs": [
    {
     "name": "stdout",
     "output_type": "stream",
     "text": [
      "A is first:\n",
      "['RP0', 'NE0', 'HRP1', 'RE1', 'RP2', 'HRE2', 'NP3', 'NE3', 'HRP4']\n"
     ]
    }
   ],
   "source": [
    "import random\n",
    "# Step 4: Implement 2 interleaving algorithms: \n",
    "## (1) Team-Draft Interleaving OR Balanced Interleaving, AND \n",
    "## (2) Probabilistic Interleaving.\n",
    "\n",
    "# The interleaving algorithms should: \n",
    "## (a) given two rankings of relevance interleave them into a single ranking, and \n",
    "## (b) given the users clicks on the interleaved ranking assign credit to the algorithms \n",
    "##     that produced the rankings.\n",
    "\n",
    "# (Note 4: \n",
    "## Note here that as opposed to a normal interleaving experiment where rankings consists of urls or docids, \n",
    "## in our case the rankings consist of relevance labels. Hence in this case \n",
    "## (a) you will assume that E and P return different documents, \n",
    "## (b) the interleaved ranking will also be a ranking of labels.)\n",
    "\n",
    "\n",
    "### BALANCED INTERLEAVING:\n",
    "# Find two random rankings A and B and present them:\n",
    "#A, B = ['a','b','c','d','g','h'], ['b','e','a','f','g','h']\n",
    "A, B = random.choice(rankings)\n",
    "A, B = [str(a) + \"P\" + str(i) for i, a in enumerate(A)], [str(b) + \"E\" + str(i) for i, b in enumerate(B)]\n",
    "\n",
    "# initialize pointers p_a and p_b\n",
    "p_a, p_b, I = 0, 0, []\n",
    "\n",
    "# Flip a coin to decide which pointer to pick highest value from ranking.\n",
    "turn = 'A' if random.randint(0, 1) == 0 else 'B'\n",
    "\n",
    "# Greedily collect rankings from both lists and build the interleaved list.\n",
    "print(turn, \"is first:\")\n",
    "while p_a < len(A) and p_b < len(B):\n",
    "    if p_a < p_b or p_a == p_b and turn == 'A':\n",
    "        if A[p_a] not in I:\n",
    "            I.append(A[p_a])\n",
    "        p_a += 1\n",
    "    else:\n",
    "        if B[p_b] not in I:\n",
    "            I.append(B[p_b])\n",
    "        p_b += 1\n",
    "\n",
    "print(I)"
   ]
  },
  {
   "cell_type": "code",
   "execution_count": 12,
   "metadata": {},
   "outputs": [
    {
     "name": "stdout",
     "output_type": "stream",
     "text": [
      "['NE0', 'NP0', 'NE1', 'HRP1', 'HRP2', 'NE2', 'RP3', 'NE3', 'NE4']\n"
     ]
    }
   ],
   "source": [
    "### TEAM-DRAFT INTERLEAVING:\n",
    "\n",
    "\n",
    "# Fully based on example in paper:\n",
    "#A, B = ['a','b','c','d','g','h'], ['b','e','a','f','g','h']\n",
    "A, B = random.choice(rankings)\n",
    "#print(A, B)\n",
    "\n",
    "A, B = [str(a) + \"P\" + str(i) for i, a in enumerate(A)], [str(b) + \"E\" + str(i) for i, b in enumerate(B)]\n",
    "\n",
    "# create teams\n",
    "team_a, team_b, I = 0, 0, []\n",
    "\n",
    "while any(set(A)-set(I)) and any(set(B)-set(I)):\n",
    "    turn = 'A' if random.randint(0, 1) == 0 else 'B'\n",
    "    if team_a < team_b or team_a == team_b and turn == 'A':\n",
    "        for a in A:\n",
    "            if a not in I:\n",
    "                I.append(a)\n",
    "                break\n",
    "        team_a += 1\n",
    "    else:\n",
    "        for b in B:\n",
    "            if b not in I:\n",
    "                I.append(b)\n",
    "                break\n",
    "        team_b += 1\n",
    "\n",
    "print(I)"
   ]
  }
 ],
 "metadata": {
  "kernelspec": {
   "display_name": "Python 3",
   "language": "python",
   "name": "python3"
  },
  "language_info": {
   "codemirror_mode": {
    "name": "ipython",
    "version": 3
   },
   "file_extension": ".py",
   "mimetype": "text/x-python",
   "name": "python",
   "nbconvert_exporter": "python",
   "pygments_lexer": "ipython3",
   "version": "3.5.2rc1"
  }
 },
 "nbformat": 4,
 "nbformat_minor": 2
}
