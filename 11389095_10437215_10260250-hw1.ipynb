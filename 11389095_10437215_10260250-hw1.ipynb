{
 "cells": [
  {
   "cell_type": "markdown",
   "metadata": {},
   "source": [
    "### Theory\n",
    "\n",
    "#### Hypothesis Testing – The problem of multiple comparisons [5 points]\n",
    "\n",
    "Experimentation in AI often happens like this: \n",
    "\n",
    "* Modify/Build an algorithm\n",
    "* Compare the algorithm to a baseline by running a hypothesis test.\n",
    "* If not significant, go back to step A\n",
    "* If significant, start writing a paper. \n",
    "\n",
    "How many hypothesis tests, m, does it take to get to (with Type I error for each test = α):\n",
    "\n",
    "1. P(mth experiment gives significant result | m experiments lacking power to reject H0)?\n",
    "2. P(at least one significant result | m experiments lacking power to reject H0)?\n",
    "\n",
    "#### Bias and unfairness in Interleaving experiments [10 points]\n",
    "Balance interleaving has been shown to be biased in a number of corner cases. An example was given during the lecture with two ranked lists of length 3 being interleaved, and a randomly clicking population of users that resulted in algorithm A winning ⅔ of the time, even though in theory the percentage of wins should be 50% for both algorithms. Can you come up with a situation of two ranked lists of length 3 and a distribution of clicks over them for which Team-draft interleaving is unfair to the better algorithm?\n"
   ]
  },
  {
   "cell_type": "code",
   "execution_count": 56,
   "metadata": {},
   "outputs": [],
   "source": [
    "import itertools\n",
    "import numpy as np\n",
    "\n",
    "# Added the numbers to facilitate easy sorting.\n",
    "RELAVANCE_SYMBOLS = ['0N', '1R', '2HR']\n",
    "\n",
    "# Generate all possible rankings for both Production and Experimental systems\n",
    "P = list(itertools.product(RELAVANCE_SYMBOLS, repeat = 5))\n",
    "E = list(itertools.product(RELAVANCE_SYMBOLS, repeat = 5))\n",
    " \n",
    "rankings = itertools.product(P, E)"
   ]
  },
  {
   "cell_type": "code",
   "execution_count": 57,
   "metadata": {},
   "outputs": [
    {
     "name": "stderr",
     "output_type": "stream",
     "text": [
      "/Library/Frameworks/Python.framework/Versions/3.5/lib/python3.5/site-packages/ipykernel_launcher.py:31: RuntimeWarning: invalid value encountered in double_scalars\n"
     ]
    }
   ],
   "source": [
    "def precision_at_k(ranking, k):\n",
    "    subset = ranking[:k]\n",
    "    n_relevant = 0\n",
    "    \n",
    "    for result in subset:\n",
    "        if result is not '0N':\n",
    "            n_relevant += 1\n",
    "    \n",
    "    return n_relevant / k\n",
    "\n",
    "def DGC_at_k(ranking, k):\n",
    "    subset = ranking[:k]\n",
    "    discounted_scores = []\n",
    "    \n",
    "    for i, result in enumerate(subset):\n",
    "        # prepare variables for DGC formula\n",
    "        rank = i + 1\n",
    "        rel = RELAVANCE_SYMBOLS.index(result)\n",
    "        \n",
    "        # Calculate score\n",
    "        score = (2**rel - 1) / np.log2(1 + rank)\n",
    "        discounted_scores.append(score)\n",
    "    \n",
    "    # NB: sum is part of the formula\n",
    "    return np.sum(discounted_scores)\n",
    "        \n",
    "def nDGC_at_k(ranking, k):\n",
    "    true = DGC_at_k(ranking, k)\n",
    "    best = DGC_at_k(sorted(ranking, reverse=True), k)\n",
    "    \n",
    "    return true / best\n",
    "\n",
    "precision_p = []\n",
    "precision_e = []\n",
    "dgc_p = []\n",
    "dgc_e = []\n",
    "\n",
    "for p, e in rankings:\n",
    "    precision_p.append(precision_at_k(p, 3))\n",
    "    precision_e.append(precision_at_k(e, 3))\n",
    "    \n",
    "    dgc_p.append(nDGC_at_k(p, 3))\n",
    "    dgc_e.append(nDGC_at_k(e, 3))"
   ]
  },
  {
   "cell_type": "code",
   "execution_count": null,
   "metadata": {},
   "outputs": [],
   "source": [
    "print(dgc_p)"
   ]
  }
 ],
 "metadata": {
  "kernelspec": {
   "display_name": "Python 3",
   "language": "python",
   "name": "python3"
  },
  "language_info": {
   "codemirror_mode": {
    "name": "ipython",
    "version": 3
   },
   "file_extension": ".py",
   "mimetype": "text/x-python",
   "name": "python",
   "nbconvert_exporter": "python",
   "pygments_lexer": "ipython3",
   "version": "3.5.2rc1"
  }
 },
 "nbformat": 4,
 "nbformat_minor": 2
}
