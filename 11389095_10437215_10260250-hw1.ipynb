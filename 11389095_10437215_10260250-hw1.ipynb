{
 "cells": [
  {
   "cell_type": "markdown",
   "metadata": {},
   "source": [
    "### Theory\n",
    "\n",
    "#### Hypothesis Testing – The problem of multiple comparisons [5 points]\n",
    "\n",
    "##### Question A\n",
    "On the first experiment ($m = 1$) the chance that the results are significant given that the experiment lacks the power to reject is equal to $\\alpha$. On the second experiment it is equal to $\\alpha * P(\\text{We didn't reject experiment } m-1)$. So\n",
    "\n",
    "$$P(m^{th} \\text{ experiment is significant | } m \\text{ experiments lacking power to reject } H_0) = (1 - \\alpha)^{m-1} * \\alpha$$\n",
    "\n",
    "Example:\n",
    "\n",
    "$\\alpha = 0.05$\n",
    "\n",
    "$m = 6$\n",
    "\n",
    "$P(6^{th} \\text{ experiment is significant | } 6 \\text{ experiments lacking power to reject } H_0) = (1-0.05)^{6-1}*0.05 \\approx 0.038$\n",
    "\n",
    "#### Question B\n",
    "\n",
    "There is an increased chance of finding at least one false significant finding the more tests you perform. If m independent comparisons are performed, the family wise error rate (FWER) can be used. The formula for the FWER is the following:\n",
    "\n",
    "$$\\alpha_{fw} = 1-(1-\\alpha)^{m}$$\n",
    "\n",
    "so\n",
    "\n",
    "$$P(\\text{ at least one significant result | } m \\text{ experiments lacking power to reject } H_0) = \\alpha_{fw}$$\n",
    "\n",
    "To arrive at this result, observe that this is $1 - P(m \\text{ insignificant results | } m \\text{ experiments lacking power to reject } H_0)$\n",
    "\n",
    "Example:\n",
    "\n",
    "$\\alpha = 0.05$\n",
    "\n",
    "$m = 6$\n",
    "\n",
    "$\\alpha_{fw} = 1-(1-0.05)^6\\approx0.26$\n",
    "\n",
    "#### Bias and unfairness in Interleaving experiments [10 points]\n",
    "Balance interleaving has been shown to be biased in a number of corner cases. An example was given during the lecture with two ranked lists of length 3 being interleaved, and a randomly clicking population of users that resulted in algorithm A winning ⅔ of the time, even though in theory the percentage of wins should be 50% for both algorithms. Can you come up with a situation of two ranked lists of length 3 and a distribution of clicks over them for which Team-draft interleaving is unfair to the better algorithm?\n",
    "\n",
    "Ranking P\n",
    "\n",
    "| D1 N |<br>\n",
    "| D2 N |<br>\n",
    "| D3 R |<br>\n",
    "\n",
    "Ranking E\n",
    "\n",
    "| D2 N |<br>\n",
    "| D3 R |<br>\n",
    "| D1 N |<br>\n",
    "\n",
    "Because D3 is the only relevant document, we'd expect it's clicks to be attributed to E more often than to P.\n",
    "\n",
    "The set of possible interleaved rankings using Team-Draft Interleaving is as follows:\n",
    "\n",
    "| D1 N (P) | &emsp; | D1 N (P) | &emsp; | D2 N (E) | &emsp; | D2 N (E) | <br>\n",
    "| D2 N (E) | &emsp; | D2 N (E) | &emsp; | D1 N (P) | &emsp; | D1 N (P) | <br>\n",
    "| D3 R (P) | &emsp; | D3 R (E) | &emsp; | D3 R (P) | &emsp; | D3 R (E) | <br>\n",
    "\n",
    "Where D3 is in the same position in all rankings, with equal assignments to P and E. Thus, in this case, the expected number of clicks is the same for both ranking functions even though ranking E should win. This is an example of insensitivy to the quality of rankings.\n",
    "\n",
    "Example is based on: Hofmann, K., Whiteson, S., & De Rijke, M. (2011, October). A probabilistic method for inferring preferences from clicks. In Proceedings of the 20th ACM international conference on Information and knowledge management (pp. 249-258). ACM."
   ]
  },
  {
   "cell_type": "code",
   "execution_count": 72,
   "metadata": {},
   "outputs": [],
   "source": [
    "'''Import necessary python packages'''\n",
    "\n",
    "import pyclick\n",
    "from pyclick.utils import YandexRelPredChallengeParser\n",
    "import pickle\n",
    "import random\n",
    "import scipy.stats as stats\n",
    "import matplotlib.pyplot as plt\n",
    "import numpy as np\n",
    "import itertools\n",
    "import time\n",
    "from collections import Counter\n",
    "import seaborn as sns\n",
    "import pandas as pd"
   ]
  },
  {
   "cell_type": "markdown",
   "metadata": {},
   "source": [
    "### Step 1: Simulate Rankings of Relevance for E and P "
   ]
  },
  {
   "cell_type": "code",
   "execution_count": 73,
   "metadata": {},
   "outputs": [
    {
     "name": "stdout",
     "output_type": "stream",
     "text": [
      "('R', 'R', 'R', 'R', 'R')\n",
      "('R', 'R', 'R', 'R', 'R')\n",
      "\n",
      "('R', 'N', 'N', 'N', 'HR')\n",
      "('R', 'N', 'N', 'R', 'N')\n",
      "\n",
      "('N', 'R', 'R', 'R', 'N')\n",
      "('R', 'HR', 'HR', 'R', 'HR')\n",
      "\n",
      "('N', 'N', 'N', 'HR', 'R')\n",
      "('N', 'N', 'R', 'N', 'R')\n",
      "\n",
      "('HR', 'R', 'R', 'R', 'HR')\n",
      "('N', 'HR', 'N', 'N', 'N')\n",
      "\n",
      "('HR', 'N', 'N', 'HR', 'N')\n",
      "('HR', 'R', 'HR', 'N', 'HR')\n",
      "\n"
     ]
    }
   ],
   "source": [
    "'''generate all combinations of all permuations of the relevance labels 'N', 'R' and 'HR'.'''\n",
    "\n",
    "# Added the numbers to facilitate easy sorting.\n",
    "REL_SCORES = {'N' : 0, 'R' : 1, 'HR' : 2}\n",
    "\n",
    "# Generate all possible rankings for both Production and Experimental systems\n",
    "P = list(itertools.product(REL_SCORES.keys(), repeat = 5))\n",
    "E = list(itertools.product(REL_SCORES.keys(), repeat = 5))\n",
    "\n",
    "# Generate all combinations of the permutations \n",
    "rankings = list(itertools.product(P, E))\n",
    "\n",
    "# Example of the generated rankings\n",
    "for p, e in rankings[0::10000]:\n",
    "    print(p)\n",
    "    print(e)\n",
    "    print()"
   ]
  },
  {
   "cell_type": "markdown",
   "metadata": {},
   "source": [
    "### Step 2: Implement Evaluation Measures\n",
    "\n",
    "The evaluation measures used for offline evaluation are:\n",
    "\n",
    "* Precision at k\n",
    "* nDCG at k\n",
    "* Expected Reciprocal Rank"
   ]
  },
  {
   "cell_type": "code",
   "execution_count": 74,
   "metadata": {},
   "outputs": [],
   "source": [
    "'''These are the function definitions for the methods to calculate the evaluation measures'''\n",
    "\n",
    "def precision_at_k(ranking, k):\n",
    "    subset = ranking[:k]\n",
    "    n_relevant = 0\n",
    "    \n",
    "    for result in subset:\n",
    "        if REL_SCORES[result] > 0:\n",
    "            n_relevant += 1\n",
    "    \n",
    "    return n_relevant / k\n",
    "\n",
    "def DCG_at_k(ranking, k, optimal=False):\n",
    "    subset = ranking[:k]\n",
    "    \n",
    "    # Optionally sort the ranking to calculate the maximum possible score\n",
    "    if optimal:\n",
    "        subset = sorted(subset, reverse=True, key=lambda x: REL_SCORES[x])\n",
    "        \n",
    "    discounted_score = 0\n",
    "    \n",
    "    for i, result in enumerate(subset):\n",
    "        # prepare variables for DCG formula\n",
    "        rank = i + 1\n",
    "        rel = REL_SCORES[result]\n",
    "        \n",
    "        # Calculate score\n",
    "        score = (2**rel - 1) / np.log2(1 + rank)\n",
    "        discounted_score += score\n",
    "    \n",
    "    # NB: sum is built into the for-loop\n",
    "    return discounted_score\n",
    "        \n",
    "def nDCG_at_k(ranking, k):\n",
    "    true = DCG_at_k(ranking, k)\n",
    "    best = DCG_at_k(ranking, k, optimal=True)\n",
    "    \n",
    "    # This is to prevent dividing by 0. If the best possible DCG is 0, the\n",
    "    # true DCG is also zero (because there are no relevant document is the top k)\n",
    "    if best == 0.0: \n",
    "        return 0.0\n",
    "    else:\n",
    "        return true / best\n",
    "\n",
    "def prob_of_relevance(grade, max_grade):\n",
    "    return (2**grade - 1) / 2**max_grade\n",
    "\n",
    "def ERR(ranking):\n",
    "    \"\"\"Algorithm to compute ERR in linear time, implemented based on \n",
    "    \n",
    "    Chapelle, O., Metlzer, D., Zhang, Y., & Grinspan, P. (2009, November). \n",
    "    Expected reciprocal rank for graded relevance. In Proceedings of the 18th ACM conference\n",
    "    on Information and knowledge management (pp. 621-630). ACM.\"\"\"\n",
    "    \n",
    "    grades = [REL_SCORES[x] for x in ranking]\n",
    "    max_grade = max(REL_SCORES.values())\n",
    "    \n",
    "    p = 1\n",
    "    err = 0\n",
    "    \n",
    "    for r in range(len(grades)):\n",
    "        R = prob_of_relevance(grades[r], max_grade)\n",
    "        err += p * (R/(r+1))\n",
    "        p *= (1 - R)\n",
    "    \n",
    "    return err"
   ]
  },
  {
   "cell_type": "code",
   "execution_count": 75,
   "metadata": {},
   "outputs": [],
   "source": [
    "'''The following loop calculates the precision, nDCG and ERR values for all simulated ranking.\n",
    "\n",
    "It has been said during the lectures that a user often only looks at the top results,\n",
    "and that k = 3 is a reasonable depth for the evaluation.'''\n",
    "\n",
    "depth = 3\n",
    "\n",
    "precision_p = []\n",
    "precision_e = []\n",
    "dcg_p = []\n",
    "dcg_e = []\n",
    "err_p = []\n",
    "err_e = []\n",
    "\n",
    "for i, (p, e) in enumerate(list(rankings)):\n",
    "    precision_p.append(precision_at_k(p, depth))\n",
    "    precision_e.append(precision_at_k(e, depth))\n",
    "\n",
    "    dcg_p.append(nDCG_at_k(p, depth))\n",
    "    dcg_e.append(nDCG_at_k(e, depth))\n",
    "    \n",
    "    err_p.append(ERR(p))\n",
    "    err_e.append(ERR(e))"
   ]
  },
  {
   "cell_type": "code",
   "execution_count": 76,
   "metadata": {},
   "outputs": [
    {
     "data": {
      "image/png": "[encoded data removed]",
      "text/plain": [
       "<matplotlib.figure.Figure at 0x1042147b8>"
      ]
     },
     "metadata": {},
     "output_type": "display_data"
    },
    {
     "data": {
      "image/png": "[encoded data removed]",
      "text/plain": [
       "<matplotlib.figure.Figure at 0x10c394390>"
      ]
     },
     "metadata": {},
     "output_type": "display_data"
    },
    {
     "data": {
      "image/png": "[encoded data removed]",
      "text/plain": [
       "<matplotlib.figure.Figure at 0x10c3a7c18>"
      ]
     },
     "metadata": {},
     "output_type": "display_data"
    }
   ],
   "source": [
    "'''To have some idea about the range of the values of these measures, we plot the results \n",
    "of the production model'''\n",
    "\n",
    "plt.figure(1)\n",
    "plt.subplot(211)\n",
    "plt.plot(range(len(precision_p)), precision_p)\n",
    "plt.ylabel(\"Precision\")\n",
    "\n",
    "plt.figure(2)\n",
    "plt.subplot(211)\n",
    "plt.plot(range(len(dcg_p)), dcg_p)\n",
    "plt.ylabel(\"nDCG\")\n",
    "\n",
    "fig = plt.figure(3)\n",
    "plt.subplot(211)\n",
    "plt.plot(range(len(err_p)), err_p)\n",
    "plt.ylabel(\"ERR\")\n",
    "plt.xlabel(\"index of pair\")\n",
    "\n",
    "plt.show()"
   ]
  },
  {
   "cell_type": "markdown",
   "metadata": {},
   "source": [
    "### Step 3: Calculate the 𝛥measure\n",
    "\n",
    "We compare the measures for each ranking pair by calculating the difference of the experimental model and the production model. With those numbers a percentage can be calculated of the fraction of wins for model E.\n",
    "\n",
    "In the assignment is says to only consider pairs for which E > P. But we found it easier to keep\n",
    "all pairs, because we have to compare the results with the online rankings. If we discard some pairs,\n",
    "the arrays don't line up anymore."
   ]
  },
  {
   "cell_type": "code",
   "execution_count": 77,
   "metadata": {},
   "outputs": [
    {
     "name": "stdout",
     "output_type": "stream",
     "text": [
      "A subset of delta precisions: \n",
      "[0.0, 0.0, 0.33333333333333337, 0.3333333333333333, -0.6666666666666667, 0.6666666666666667]\n",
      "percentage of wins for E:\n",
      " 0.331961591221\n",
      "\n",
      "\n",
      "A subset of delta nDCGs \n",
      "[0.0, 0.0, 0.12114079868658267, 0.5, -0.36907024642854258, -0.048557341012844701]\n",
      "Percentage of wins for E:\n",
      " 0.427983539095\n",
      "\n",
      "\n",
      "A subset of delta ERRs \n",
      "[0.0, -0.06562499999999999, 0.363671875, -0.07916666666666668, -0.44648437500000004, 0.038281250000000044]\n",
      "Percentage of wins for E:\n",
      " 0.497366593846\n"
     ]
    }
   ],
   "source": [
    "def delta_measure(scores_a, scores_b):\n",
    "    return [b - a for a, b in zip(scores_a, scores_b)]\n",
    "\n",
    "def percentage_of_wins_for_E(delta_values):\n",
    "    return np.sum(np.array(delta_values) > 0) / len(delta_values)\n",
    "\n",
    "# Calculate delta measure for the three chosen metrics\n",
    "delta_precision = delta_measure(precision_p, precision_e)\n",
    "delta_nDCG = delta_measure(dcg_p, dcg_e)\n",
    "delta_ERR = delta_measure(err_p, err_e)\n",
    "\n",
    "print(\"A subset of delta precisions: \\n{}\".format(delta_precision[0::10000]))\n",
    "print(\"percentage of wins for E:\\n\", percentage_of_wins_for_E(delta_precision))\n",
    "print()\n",
    "print()\n",
    "print(\"A subset of delta nDCGs \\n{}\".format(delta_nDCG[0::10000]))\n",
    "print(\"Percentage of wins for E:\\n\", percentage_of_wins_for_E(delta_nDCG))\n",
    "print()\n",
    "print()\n",
    "print(\"A subset of delta ERRs \\n{}\".format(delta_ERR[0::10000]))\n",
    "print(\"Percentage of wins for E:\\n\", percentage_of_wins_for_E(delta_ERR))"
   ]
  },
  {
   "cell_type": "markdown",
   "metadata": {},
   "source": [
    "### Step 4:  Implement Interleaving\n",
    "\n",
    "Balanced interleaving and Team-Draft interleaving both have their downsides like mentioned above. We went\n",
    "with team-draft for this step because balanced interleaving was covered quite well in the lectures and\n",
    "implementing team-draft would increase our understanding of the algorithm."
   ]
  },
  {
   "cell_type": "code",
   "execution_count": 78,
   "metadata": {
    "scrolled": false
   },
   "outputs": [],
   "source": [
    "'''Here is the function definition of the algorithms'''\n",
    "\n",
    "def team_draft_interleaving(A,B):\n",
    "    # create teams\n",
    "    team_a, team_b, I = 0, 0, []\n",
    "    \n",
    "    # While there are still documents not present in the interleaved list\n",
    "    while any(set(A)-set(I)) and any(set(B)-set(I)):\n",
    "        \n",
    "        #Flip a coin\n",
    "        turn = 'A' if random.randint(0, 1) == 0 else 'B'\n",
    "        \n",
    "        #If A wins the coin flip: put the highest ranked document of A\n",
    "        # that is not yet in the interleaved list, in the interleaved\n",
    "        if team_a < team_b or team_a == team_b and turn == 'A':\n",
    "            for a in A:\n",
    "                if a not in I:\n",
    "                    I.append(a)\n",
    "                    break\n",
    "            team_a += 1\n",
    "        # If B wins the flip: put the highest ranked document of A\n",
    "        # that is not yet in the interleaved list, in the interleaved\n",
    "        else:\n",
    "            for b in B:\n",
    "                if b not in I:\n",
    "                    I.append(b)\n",
    "                    break\n",
    "            team_b += 1\n",
    "    return(I[:5])"
   ]
  },
  {
   "cell_type": "code",
   "execution_count": 79,
   "metadata": {},
   "outputs": [
    {
     "name": "stdout",
     "output_type": "stream",
     "text": [
      "Example of the interleaved lists:\n",
      "['RE0', 'RP0', 'RP1', 'RE1', 'RP2']\n",
      "['RP0', 'RE0', 'NE1', 'NP1', 'NP2']\n",
      "['NP0', 'RE0', 'RP1', 'HRE1', 'RP2']\n",
      "['NE0', 'NP0', 'NE1', 'NP1', 'RE2']\n",
      "['NE0', 'HRP0', 'HRE1', 'RP1', 'RP2']\n",
      "['HRP0', 'HRE0', 'NP1', 'RE1', 'HRE2']\n"
     ]
    }
   ],
   "source": [
    "'''Genererates interleaved versions of all ranking pairs'''\n",
    "\n",
    "team_interleaved_lists = []\n",
    "\n",
    "for A,B in rankings:\n",
    "    \n",
    "    # Create a unique string for each document based on its position, the model that generated it\n",
    "    # and its relevance label. This way the algorithm knows which document is in the interleaved\n",
    "    # list already.\n",
    "    A, B = [str(a) + \"P\" + str(i) for i, a in enumerate(A)], [str(b) + \"E\" + str(i) for i, b in enumerate(B)]\n",
    "    \n",
    "    interleaved_list_team = team_draft_interleaving(A,B)\n",
    "    team_interleaved_lists.append(interleaved_list_team)\n",
    "\n",
    "print('Example of the interleaved lists:')\n",
    "for team in team_interleaved_lists[::10000]:\n",
    "    print(team)"
   ]
  },
  {
   "cell_type": "markdown",
   "metadata": {},
   "source": [
    "### Step 5:  Implement User Clicks Simulation"
   ]
  },
  {
   "cell_type": "code",
   "execution_count": 80,
   "metadata": {},
   "outputs": [],
   "source": [
    "''' In this cell the Random click model is implemented. We use the PyClick module to parse the Yandex file.\n",
    "Our TA assured us it is fine, if we use it just for the parsing of the Yandex file.\n",
    "Furthermore we assume all queries should be used, even if none of the results are clicked'''\n",
    "\n",
    "def execute_clicks(click_probs):\n",
    "    \"\"\"Returns a list of booleans indicating on which positions was clicked, based on the\n",
    "    given click_probs (click probabilities)\"\"\"\n",
    "    \n",
    "    # Flip one coin for (and with) every probability in click_probs\n",
    "    return np.random.binomial(1, p=click_probs)\n",
    "\n",
    "def MLE_random_click(sessions):\n",
    "    '''As slide 62 of lecture 3 shows, the MLE of a bernouilli distribution, rho, is just\n",
    "    the ratio of clicks with respect to the total number of URls shown. \n",
    "    '''\n",
    "    total_clicks = 0\n",
    "    total_shown = len(sessions)*10\n",
    "    \n",
    "    for sesh in sessions:\n",
    "        total_clicks += sum(sesh.get_clicks())\n",
    "    \n",
    "    rho = total_clicks/total_shown\n",
    "    return rho\n",
    "            \n",
    "def random_click_probabilities(ranking, rho):\n",
    "    '''probabilities of a click from the random clicking model'''\n",
    "    return [rho] * len(ranking)\n",
    "\n",
    "def simulate_random_click_model(ranking, rho, N):\n",
    "    '''Generate N click patterns based on the random click model'''\n",
    "    return [execute_clicks(random_click_probabilities(ranking, rho)) for _ in range(N)]\n",
    "\n",
    "def sdbn_click_probabilities(ranking, alphas, sigmas):\n",
    "    '''Probabilities of a click from the Simple Bayesian Dynamic Network'''\n",
    "    \n",
    "    # Assume zero probabilities\n",
    "    click_probs = [0.0] * len(ranking)\n",
    "    \n",
    "    for i, relevance in enumerate(ranking):\n",
    "        \n",
    "        # Click when attracted\n",
    "        alpha = alphas[relevance[:-2]]\n",
    "        click_probs[i] = alpha\n",
    "        \n",
    "        # If satisfied, we do not evaluate the rest of the documents\n",
    "        satisfied = float(np.random.choice([0,1], 1, p=[(1-sigmas[i]),(sigmas[i])]))\n",
    "        if satisfied:\n",
    "            break\n",
    "    \n",
    "    return click_probs\n",
    "\n",
    "def simulate_sdbn_click_model(ranking, alphas, sigmas, N):\n",
    "    '''Generate N click patterns based on the SDBN click model'''\n",
    "    return [execute_clicks(sdbn_click_probabilities(ranking, alphas, sigmas)) for _ in range(N)]"
   ]
  },
  {
   "cell_type": "code",
   "execution_count": 81,
   "metadata": {},
   "outputs": [],
   "source": [
    "'''We use the pyclick to interface with the dataset. We are aware that there are out-of-box\n",
    "click models available in the package but we don't use those. We've checked this with our TA\n",
    "and using it for this purpose was '''\n",
    "\n",
    "parser = YandexRelPredChallengeParser.YandexRelPredChallengeParser()\n",
    "search_sessions = parser.parse('YandexRelPredChallenge.txt')"
   ]
  },
  {
   "cell_type": "markdown",
   "metadata": {},
   "source": [
    "## Our method of estimating sigmas for SDBN\n",
    "\n",
    "For the Simple Dynamic Bayesian Network click model we learn the satisfaction parameter $\\sigma_{u_rq}$, meaning we learn the satisfaction for each query and the document ID that was clicked last. The Maximum Likelihood estimation for the satisfaction becomes: \n",
    "\n",
    "<center>\n",
    "    \n",
    "$\\sigma_{u_rq} = \\frac{l_{u_rq}}{T_{u_rq}}$, \n",
    "</center>\n",
    "\n",
    "where $l_{u_rq}$ is the count of events the document ID was clicked last given the query and $T_{u_rq}$ represents the total number of times the document ID was clicked for the query.\n",
    "\n",
    "We are assuming that the document IDs are ranked deterministically, meaning that the query will always output the same 10 document IDs in the same order. This assumption allows us to discard the document ID information, and instead keep rank indication of a click given the query.\n",
    "\n",
    "The resulting matrix consists of n-queries by 10-ranks, where each element carries the satisfaction parameter of a rank given the query. As query-rank satisfaction parameters are not useful to our relevance rankings, we need to estimate a general satisfaction parameter for each rank. We do this by calculating the mean of satisfaction parameters for all queries given a rank. This leaves us with a 1 by 10 vector; an average satisfaction parameter per rank."
   ]
  },
  {
   "cell_type": "code",
   "execution_count": 82,
   "metadata": {},
   "outputs": [],
   "source": [
    "'''Function definition of the MLE estimation for the satisfaction parameter'''\n",
    "\n",
    "# Assumption: query always returns the same docIDs (ie. ranking is deterministic)\n",
    "\n",
    "from collections import Counter\n",
    "\n",
    "def learn_sdbn_satisfaction(search_sessions):\n",
    "    last_click_ranks = dict()\n",
    "    clicks_per_query = dict()\n",
    "    last_total_ratio = dict()\n",
    "\n",
    "    # Find last click rank per query:\n",
    "    for session in search_sessions:\n",
    "        \n",
    "        # If get_last_click_rank returns 10, there hasn't been click action for the query.\n",
    "        if session.get_last_click_rank() == 10:\n",
    "            continue\n",
    "\n",
    "        # Find last click:\n",
    "        if session.query in last_click_ranks:\n",
    "            last_click_ranks[session.query].append(session.get_last_click_rank())\n",
    "        else:\n",
    "            last_click_ranks[session.query] = [session.get_last_click_rank()]\n",
    "            \n",
    "        # Find all click ranks per query:\n",
    "        if session.query not in clicks_per_query:\n",
    "            clicks_per_query[session.query] = []\n",
    "\n",
    "        for idx, val in enumerate(session.get_clicks()):\n",
    "            if val == 1:\n",
    "                clicks_per_query[session.query].append(idx)    \n",
    "\n",
    "    # Calculate sigmas for each unique query and each of its ranks:\n",
    "    for query in last_click_ranks.keys():\n",
    "        last_total_ratio[query] = [0] * 10\n",
    "    \n",
    "        count_last = Counter(last_click_ranks[query])\n",
    "        count_total = Counter(clicks_per_query[query])\n",
    "    \n",
    "        for rank in list(count_last):\n",
    "            sigma = count_last[rank] / count_total[rank]\n",
    "            \n",
    "            last_total_ratio[query][rank] = sigma\n",
    "            \n",
    "    # Compose final list of average sigmas, i.e. 1 sigma for each rank:\n",
    "    avg_sigmas = [0.0] * 10\n",
    "\n",
    "    for query in list(last_total_ratio):\n",
    "        avg_sigmas = [sum(sigma) for sigma in zip(last_total_ratio[query], avg_sigmas)]\n",
    "    \n",
    "    click_model = [sigma / len(last_total_ratio) for sigma in avg_sigmas]\n",
    "    \n",
    "    return last_click_ranks, clicks_per_query, last_total_ratio, click_model\n",
    "\n",
    "\n",
    "last, total, sigmas, cm = learn_sdbn_satisfaction(search_sessions)"
   ]
  },
  {
   "cell_type": "markdown",
   "metadata": {},
   "source": [
    "### Step 6: Simulate Interleaving Experiment"
   ]
  },
  {
   "cell_type": "code",
   "execution_count": 83,
   "metadata": {},
   "outputs": [],
   "source": [
    "'''Function declarations for methods to calculate a winning model based on an interleaved\n",
    "list (including attributions). '''\n",
    "\n",
    "def experiment(clicks, interleaved_list):\n",
    "    '''Does experiments for one interleaved list with a list of click patterns.\n",
    "    Outputs a proportion of wins for E over all experiments, ties included.'''\n",
    "    \n",
    "    clicks = np.array(clicks)\n",
    "    \n",
    "    # Boolean array where each contribution of E is marked True\n",
    "    E_docs = np.array([x[-2] == 'E' for x in interleaved_list])\n",
    "    \n",
    "    # Overlay of clicks and the boolean mask above. Evaluates\n",
    "    # to True if a rank has been clicked and was contributed by E.\n",
    "    # Finally sum those Truths (1s) to get total clicks on E per experiment\n",
    "    E_clicks = np.sum(np.logical_and(E_docs, clicks), axis=1)\n",
    "    \n",
    "    # Clicks on P are the difference of total clicks and E-clicks\n",
    "    P_clicks = np.sum(clicks, axis=1) - E_clicks\n",
    "    \n",
    "    return  np.sum(E_clicks > P_clicks) / len(clicks)"
   ]
  },
  {
   "cell_type": "code",
   "execution_count": 84,
   "metadata": {},
   "outputs": [
    {
     "name": "stdout",
     "output_type": "stream",
     "text": [
      "501 / 59049 \t\t at 24.34957464271034/sec\n",
      "1001 / 59049 \t\t at 24.32486355359581/sec\n",
      "1501 / 59049 \t\t at 24.239185454987872/sec\n",
      "2001 / 59049 \t\t at 24.39247438662286/sec\n",
      "2501 / 59049 \t\t at 24.49793054289853/sec\n",
      "3001 / 59049 \t\t at 24.439444141410668/sec\n",
      "3501 / 59049 \t\t at 24.24946601952161/sec\n",
      "4001 / 59049 \t\t at 24.074069531701348/sec\n",
      "4501 / 59049 \t\t at 24.039274741734/sec\n",
      "5001 / 59049 \t\t at 23.877943171176042/sec\n",
      "5501 / 59049 \t\t at 23.78228413426507/sec\n",
      "6001 / 59049 \t\t at 23.764989311399333/sec\n",
      "6501 / 59049 \t\t at 23.5421807817041/sec\n",
      "7001 / 59049 \t\t at 23.537596220481312/sec\n",
      "7501 / 59049 \t\t at 23.467454233925295/sec\n",
      "8001 / 59049 \t\t at 23.38480917322269/sec\n",
      "8501 / 59049 \t\t at 23.330169647303357/sec\n",
      "9001 / 59049 \t\t at 23.336633602898683/sec\n",
      "9501 / 59049 \t\t at 23.288703657448465/sec\n",
      "10001 / 59049 \t\t at 23.21722177085195/sec\n",
      "10501 / 59049 \t\t at 23.178490474978293/sec\n",
      "11001 / 59049 \t\t at 23.122561261356505/sec\n",
      "11501 / 59049 \t\t at 23.05350068983978/sec\n",
      "12001 / 59049 \t\t at 23.014836847552324/sec\n",
      "12501 / 59049 \t\t at 22.936155939032666/sec\n",
      "13001 / 59049 \t\t at 22.89759676488773/sec\n",
      "13501 / 59049 \t\t at 22.911325284082206/sec\n",
      "14001 / 59049 \t\t at 22.908375154213573/sec\n",
      "14501 / 59049 \t\t at 22.75351677285229/sec\n",
      "15001 / 59049 \t\t at 22.442290986550784/sec\n",
      "15501 / 59049 \t\t at 22.353951049729073/sec\n",
      "16001 / 59049 \t\t at 22.28643480746924/sec\n",
      "16501 / 59049 \t\t at 22.280157980435938/sec\n",
      "17001 / 59049 \t\t at 22.29875509131721/sec\n",
      "17501 / 59049 \t\t at 22.30952560802643/sec\n",
      "18001 / 59049 \t\t at 22.337829511264808/sec\n",
      "18501 / 59049 \t\t at 22.37843327920406/sec\n",
      "19001 / 59049 \t\t at 22.38276292045443/sec\n",
      "19501 / 59049 \t\t at 22.41113894603426/sec\n",
      "20001 / 59049 \t\t at 22.431929865980493/sec\n",
      "20501 / 59049 \t\t at 22.42105914737237/sec\n",
      "21001 / 59049 \t\t at 22.43630101570827/sec\n",
      "21501 / 59049 \t\t at 22.43350772307119/sec\n",
      "22001 / 59049 \t\t at 22.441549131662402/sec\n",
      "22501 / 59049 \t\t at 22.446987695809565/sec\n",
      "23001 / 59049 \t\t at 22.44580864624104/sec\n",
      "23501 / 59049 \t\t at 22.452798061485144/sec\n",
      "24001 / 59049 \t\t at 22.465533111886554/sec\n",
      "24501 / 59049 \t\t at 22.47868585342092/sec\n",
      "25001 / 59049 \t\t at 22.45273491040282/sec\n",
      "25501 / 59049 \t\t at 22.433982245787583/sec\n",
      "26001 / 59049 \t\t at 22.423167273803248/sec\n",
      "26501 / 59049 \t\t at 22.4211434452295/sec\n",
      "27001 / 59049 \t\t at 22.436820874639025/sec\n",
      "27501 / 59049 \t\t at 22.436923075903216/sec\n",
      "28001 / 59049 \t\t at 22.395599151265596/sec\n",
      "28501 / 59049 \t\t at 22.406652604710764/sec\n",
      "29001 / 59049 \t\t at 22.4152687065006/sec\n",
      "29501 / 59049 \t\t at 22.41976470985711/sec\n",
      "30001 / 59049 \t\t at 22.42200266315129/sec\n",
      "30501 / 59049 \t\t at 22.42041264586293/sec\n",
      "31001 / 59049 \t\t at 22.417560096905603/sec\n",
      "31501 / 59049 \t\t at 22.42967037163308/sec\n",
      "32001 / 59049 \t\t at 22.44289646572223/sec\n",
      "32501 / 59049 \t\t at 22.43249585042867/sec\n",
      "33001 / 59049 \t\t at 22.429400149860513/sec\n",
      "33501 / 59049 \t\t at 22.415714424567724/sec\n",
      "34001 / 59049 \t\t at 22.418567475676408/sec\n",
      "34501 / 59049 \t\t at 22.42237272955056/sec\n",
      "35001 / 59049 \t\t at 22.408982408421107/sec\n",
      "35501 / 59049 \t\t at 22.410289544564584/sec\n",
      "36001 / 59049 \t\t at 22.390516554873795/sec\n",
      "36501 / 59049 \t\t at 22.392921285823153/sec\n",
      "37001 / 59049 \t\t at 22.412322698317045/sec\n",
      "37501 / 59049 \t\t at 22.4300039702654/sec\n",
      "38001 / 59049 \t\t at 22.456913816304663/sec\n",
      "38501 / 59049 \t\t at 22.475653480116495/sec\n",
      "39001 / 59049 \t\t at 22.49703236038527/sec\n",
      "39501 / 59049 \t\t at 22.52384037275297/sec\n",
      "40001 / 59049 \t\t at 22.549092712070298/sec\n",
      "40501 / 59049 \t\t at 22.570512681893792/sec\n",
      "41001 / 59049 \t\t at 22.595161875660857/sec\n",
      "41501 / 59049 \t\t at 22.619073625700256/sec\n",
      "42001 / 59049 \t\t at 22.64367872780815/sec\n",
      "42501 / 59049 \t\t at 22.619647878955963/sec\n",
      "43001 / 59049 \t\t at 22.62259847351093/sec\n",
      "43501 / 59049 \t\t at 22.57396235375866/sec\n",
      "44001 / 59049 \t\t at 22.518437758930943/sec\n",
      "44501 / 59049 \t\t at 22.518436300759618/sec\n",
      "45001 / 59049 \t\t at 22.51055749152996/sec\n",
      "45501 / 59049 \t\t at 22.485601712144636/sec\n",
      "46001 / 59049 \t\t at 22.461947681648887/sec\n",
      "46501 / 59049 \t\t at 22.43493273913673/sec\n",
      "47001 / 59049 \t\t at 22.433503109349196/sec\n",
      "47501 / 59049 \t\t at 22.433757671215975/sec\n",
      "48001 / 59049 \t\t at 22.42845165091259/sec\n",
      "48501 / 59049 \t\t at 22.446195772997243/sec\n",
      "49001 / 59049 \t\t at 22.467993867482352/sec\n",
      "49501 / 59049 \t\t at 22.479295876560556/sec\n",
      "50001 / 59049 \t\t at 22.475773361923416/sec\n",
      "50501 / 59049 \t\t at 22.46594841827368/sec\n",
      "51001 / 59049 \t\t at 22.466090415168328/sec\n",
      "51501 / 59049 \t\t at 22.472732038432248/sec\n",
      "52001 / 59049 \t\t at 22.47860922961783/sec\n",
      "52501 / 59049 \t\t at 22.474457831171865/sec\n",
      "53001 / 59049 \t\t at 22.47895368229645/sec\n",
      "53501 / 59049 \t\t at 22.48439290634721/sec\n",
      "54001 / 59049 \t\t at 22.484581524029434/sec\n",
      "54501 / 59049 \t\t at 22.502697263430314/sec\n",
      "55001 / 59049 \t\t at 22.514921559117163/sec\n",
      "55501 / 59049 \t\t at 22.530832858263434/sec\n",
      "56001 / 59049 \t\t at 22.549634555274835/sec\n",
      "56501 / 59049 \t\t at 22.556925225394497/sec\n",
      "57001 / 59049 \t\t at 22.571516497369043/sec\n",
      "57501 / 59049 \t\t at 22.58881889808529/sec\n",
      "58001 / 59049 \t\t at 22.59878747165888/sec\n",
      "58501 / 59049 \t\t at 22.617471489132598/sec\n",
      "59001 / 59049 \t\t at 22.63184115375073/sec\n"
     ]
    }
   ],
   "source": [
    "''' \n",
    "---- NB!!! ----- Don't run this cell.\n",
    "\n",
    "In this cell the experiments for the random click model and the SDBN are run. Because you have\n",
    "to run 100 experiments per ranking pair, this takes a very long time (dozens of minutes). We've\n",
    "ran on our systems and saved the results to a .pickle file so you don't have to run this cell if you\n",
    "don't want to'''\n",
    "\n",
    "E_win_proportions = {\n",
    "    'random_team' : [],\n",
    "    'sdbn_team' : []\n",
    "}\n",
    "\n",
    "# Estimates for alpha_uq from relevance labels\n",
    "\n",
    "# Katja Hofmann, Anne Schuth, Shimon Whiteson, and Maarten de Rijke. Reusing historical interaction\n",
    "# data for faster online learning to rank for IR. In WSDM, 2013. ACM Press. 69, 70, 77\n",
    "\n",
    "# We will be using the navigational model in the experiment because we feel it\n",
    "# is the most natural representation of real user behaviour (in our experience).\n",
    "\n",
    "alpha = {\n",
    "    'perfect' : {'N' : 0.0, 'R' : 0.5, 'HR' : 1.0},\n",
    "    'navigational' : {'N' : 0.05, 'R' : 0.5, 'HR' : 0.95},\n",
    "    'informal' : {'N' : 0.4, 'R' : 0.7 , 'HR' : 0.9}\n",
    "}\n",
    "\n",
    "# Calculate the Rho for the random click model\n",
    "rho = MLE_random_click(search_sessions)\n",
    "\n",
    "N = 100\n",
    "start = time.time()\n",
    "for i in range(len(team_interleaved_lists)):\n",
    "    if i % 500 == 0 and i > 0:\n",
    "        print(\"{} / {} \\t\\t at {}/sec\".format(i+1, len(team_interleaved_lists), (i+1)/(time.time() - start)))\n",
    "    \n",
    "    # Random Click Model simulation\n",
    "    random_clicks = simulate_random_click_model(team_interleaved_lists[i], rho, N)\n",
    "    E_win_proportions['random_team'].append(experiment(random_clicks, team_interleaved_lists[i]))\n",
    "    \n",
    "    # SDBN simulation\n",
    "    sdbn_clicks = simulate_sdbn_click_model(team_interleaved_lists[i], alpha['navigational'], cm, N)\n",
    "    E_win_proportions['sdbn_team'].append(experiment(sdbn_clicks, team_interleaved_lists[i]))\n",
    "\n",
    "pickle.dump(E_win_proportions, open( \"e_win_proportions_N100.p\", \"wb\" ) )"
   ]
  },
  {
   "cell_type": "code",
   "execution_count": 86,
   "metadata": {},
   "outputs": [],
   "source": [
    "'''Import the results of the experiments in the cell above.'''\n",
    "\n",
    "with open('e_win_proportions_N100.p', 'rb') as file:\n",
    "    E_win_proportions = pickle.load(file)"
   ]
  },
  {
   "cell_type": "markdown",
   "metadata": {},
   "source": [
    "### Step 7: Analysis"
   ]
  },
  {
   "cell_type": "markdown",
   "metadata": {},
   "source": [
    "### Testing methodology\n",
    "\n",
    "In the paper \"Large-Scale Validation and Analysis of Interleaved Search Evaluation\" it is mentioned that non-parametric significance tests like bootstrap methods require fewer assumptions. The above test of normality gives an indication why this can be important (e.g. doing a t-test wouldn't make sense in the abov. Following the paper we also addopt a bootstrapping method to compare the online and offline evaluations. We try to do that by assessing if the expert evaluations match with the online evalutations. As mentioned in the paper \"Agreement between expert judgments and interleaving builds confidence that both methods accurately reflect user satisfaction with search result\". However, one must keep in mind that this is still no guarantee."
   ]
  },
  {
   "cell_type": "code",
   "execution_count": 87,
   "metadata": {},
   "outputs": [],
   "source": [
    "def datasampler(nr_samples):\n",
    "    '''Collects win statistics on N pairs sampled uniformly from the list of all possible rankings.'''    \n",
    "    ranking_sample_nrs = []\n",
    "    \n",
    "    # Generate unique random ints between 0 and len(rankings)\n",
    "    while len(ranking_sample_nrs) < nr_samples:\n",
    "        sample = random.randint(0, len(rankings) - 1)\n",
    "        if sample not in ranking_sample_nrs:\n",
    "            ranking_sample_nrs.append(sample) \n",
    "\n",
    "    # Initialize a massive dictionary to make analyses simple\n",
    "    experiment = {\n",
    "        \"nr_samples\" : nr_samples,\n",
    "        \"ranking_idx\" : ranking_sample_nrs,\n",
    "        \"ranking_pairs\" : [],\n",
    "        \"precision_p\" : [],\n",
    "        \"precision_e\" : [],\n",
    "        \"d_precision\" : [],\n",
    "        \"dcg_p\" : [],\n",
    "        \"dcg_e\" : [],\n",
    "        \"d_dcg\" : [],\n",
    "        \"err_p\" : [],\n",
    "        \"err_e\" : [],\n",
    "        \"d_err\" : [],\n",
    "        \"offline_depth\" : depth,\n",
    "        \"offline_wins\" : {\n",
    "            \"precision\" : 0.0,\n",
    "            \"dcg\" : 0.0,\n",
    "            \"err\" : 0.0,\n",
    "        },\n",
    "        \"team\" : {\n",
    "            \"interleaved\" : [],\n",
    "            \"random_prop\" : [],\n",
    "            \"sdbn_prop\" : [],\n",
    "            \"wins_random\" : 0,\n",
    "            \"wins_sdbn\" : 0\n",
    "        }\n",
    "    }\n",
    "\n",
    "    # Filter all lists from te notebook on the sampled ids:\n",
    "    for idx in ranking_sample_nrs:\n",
    "        experiment[\"ranking_pairs\"].append(rankings[idx])\n",
    "        experiment[\"precision_p\"].append(precision_p[idx])\n",
    "        experiment[\"precision_e\"].append(precision_e[idx])\n",
    "        experiment[\"d_precision\"].append(delta_precision[idx])\n",
    "        experiment[\"dcg_p\"].append(dcg_p[idx])\n",
    "        experiment[\"dcg_e\"].append(dcg_e[idx])\n",
    "        experiment[\"d_dcg\"].append(delta_nDCG[idx])\n",
    "        experiment[\"err_p\"].append(err_p[idx])\n",
    "        experiment[\"err_e\"].append(err_e[idx])\n",
    "        experiment[\"d_err\"].append(delta_ERR[idx])\n",
    "        \n",
    "        \n",
    "        # Get sampled elements from all global variables in the notebook and store in dict:\n",
    "        experiment[\"team\"][\"interleaved\"].append(team_interleaved_lists[idx])\n",
    "        experiment[\"team\"][\"random_prop\"].append(E_win_proportions['random_team'][idx])\n",
    "        experiment[\"team\"][\"sdbn_prop\"].append(E_win_proportions['sdbn_team'][idx])\n",
    "\n",
    "    # Derive win percentages from dict entries:\n",
    "    experiment[\"offline_wins\"][\"precision\"] = percentage_of_wins_for_E(experiment[\"d_precision\"])\n",
    "    experiment[\"offline_wins\"][\"dcg\"] = percentage_of_wins_for_E(experiment[\"d_dcg\"])\n",
    "    experiment[\"offline_wins\"][\"err\"] = percentage_of_wins_for_E(experiment[\"d_err\"])\n",
    "\n",
    "    experiment[\"team\"][\"wins_random\"] = np.mean(experiment[\"team\"][\"random_prop\"])\n",
    "    experiment[\"team\"][\"wins_sdbn\"] = np.mean(experiment[\"team\"][\"sdbn_prop\"])    \n",
    "    \n",
    "    return experiment"
   ]
  },
  {
   "cell_type": "code",
   "execution_count": 88,
   "metadata": {},
   "outputs": [],
   "source": [
    "'''This cell perfoms the bootstapping procedure to be able to to build confidence intervals \n",
    "around the mean values for the evaluation measures.'''\n",
    "\n",
    "# Rounding method, allowing us to round at 0.005 level. This influences the results, but since\n",
    "# on average you round up the same amount of times as you round down this is not a big issue.\n",
    "def myround(x, prec=3, base=.005):\n",
    "    return round(base * round(float(x)/base),prec)\n",
    "\n",
    "myround(round(0.8034598076, 3))\n",
    "\n",
    "\n",
    "# Initialize a massive dictionary to make analyses simple\n",
    "bootstrapping_data = {\n",
    "    \"offline_wins\" : {\n",
    "        \"precision\" : Counter(),\n",
    "        \"dcg\" : Counter(),\n",
    "        \"err\" : Counter()\n",
    "    },\n",
    "    \"team\" : {\n",
    "        \"wins_random\" : Counter(),\n",
    "        \"wins_sdbn\" : Counter(),\n",
    "    }\n",
    "}\n",
    "\n",
    "for i in range(10000):\n",
    "    experiment_result = datasampler(200)\n",
    "\n",
    "    bootstrapping_data[\"offline_wins\"][\"precision\"][myround(round(experiment_result[\"offline_wins\"][\"precision\"], 3))]+=1 \n",
    "    bootstrapping_data[\"offline_wins\"][\"dcg\"][myround(round(experiment_result[\"offline_wins\"][\"dcg\"], 3))] +=1\n",
    "    bootstrapping_data[\"offline_wins\"][\"err\"][myround(round(experiment_result[\"offline_wins\"][\"err\"], 3))]+=1 \n",
    "    bootstrapping_data[\"team\"][\"wins_random\"][myround(round(experiment_result[\"team\"][\"wins_random\"], 3))] +=1 \n",
    "    bootstrapping_data[\"team\"][\"wins_sdbn\"][myround(round(experiment_result[\"team\"][\"wins_sdbn\"], 3))]+=1 \n"
   ]
  },
  {
   "cell_type": "code",
   "execution_count": 89,
   "metadata": {},
   "outputs": [],
   "source": [
    "'''Fuction to plot the bootstap data'''\n",
    "\n",
    "def plot_histogram_with_confidence(data_counter, alpha, title):\n",
    "    \n",
    "    fig, ax = plt.subplots(figsize=(24, 12))\n",
    "\n",
    "    # Create graph attributes:\n",
    "    stats = list(data_counter.elements())\n",
    "\n",
    "    # Find the lower bound of the the confidence interval\n",
    "    p = ((1.0-alpha)/2.0) * 100\n",
    "    lower = max(0.0, np.percentile(stats, p))\n",
    "\n",
    "    # Find the upper bound of the confidence interval\n",
    "    p = (alpha+((1.0-alpha)/2.0)) * 100\n",
    "    upper = min(1.0, np.percentile(stats, p))\n",
    "    mean = np.mean(stats)\n",
    "\n",
    "    # Find the indices corresponding to the bins of the mean, and the boundries of the\n",
    "    # confindence interval for\n",
    "    mean_idx = sorted(list(data_counter.keys())).index(myround(round(mean, 3)))\n",
    "    lower_idx = sorted(list(data_counter.keys())).index(myround(round(lower, 3)))\n",
    "    upper_idx = sorted(list(data_counter.keys())).index(myround(round(upper, 3)))\n",
    "\n",
    "    labels, values = zip(*sorted(data_counter.items()))\n",
    "\n",
    "    # Define indexes for bins\n",
    "    indexes = np.arange(len(labels))\n",
    "    width = 1\n",
    "\n",
    "    # Plot lines of the confindence interval\n",
    "    plt.axvline(mean_idx, color='r')\n",
    "    plt.axvline(lower_idx, color='r')\n",
    "    plt.axvline(upper_idx, color='r')\n",
    "\n",
    "    # Plot the histogram\n",
    "    plt.bar(indexes, values, width)\n",
    "    plt.xticks(indexes + width * 0.5, labels)\n",
    "\n",
    "    ax.set_xlabel('Percentage wins E') \n",
    "    ax.set_ylabel('Number of occurences (total = 10000)')\n",
    "    ax.set_title(title)\n",
    "    \n",
    "    plt.show()\n",
    "    \n",
    "    return lower, upper, mean"
   ]
  },
  {
   "cell_type": "markdown",
   "metadata": {},
   "source": [
    "## Figures"
   ]
  },
  {
   "cell_type": "code",
   "execution_count": 90,
   "metadata": {},
   "outputs": [
    {
     "data": {
      "image/png": "[encoded data removed]",
      "text/plain": [
       "<matplotlib.figure.Figure at 0x113fb8a58>"
      ]
     },
     "metadata": {},
     "output_type": "display_data"
    },
    {
     "name": "stdout",
     "output_type": "stream",
     "text": [
      "95.0 confidence interval: 27.0% and 40.0%, with mean at 0.332\n"
     ]
    }
   ],
   "source": [
    "# Global confidence level\n",
    "CONFIDENCE_LEVEL = 0.95\n",
    "\n",
    "'''Histogram for the offline precision'''\n",
    "\n",
    "low_precision, up_precision, mean_precision = plot_histogram_with_confidence(bootstrapping_data['offline_wins']['precision'], \n",
    "                                                                           CONFIDENCE_LEVEL, \n",
    "                                                                           'Win percentages for E with precission as evalution metric')\n",
    "\n",
    "print('%.1f confidence interval: %.1f%% and %.1f%%, with mean at %.3f' % (CONFIDENCE_LEVEL*100, low_precision*100, up_precision*100, mean_precision))\n",
    "\n"
   ]
  },
  {
   "cell_type": "code",
   "execution_count": 91,
   "metadata": {},
   "outputs": [
    {
     "data": {
      "image/png": "[encoded data removed]",
      "text/plain": [
       "<matplotlib.figure.Figure at 0x113fb86d8>"
      ]
     },
     "metadata": {},
     "output_type": "display_data"
    },
    {
     "name": "stdout",
     "output_type": "stream",
     "text": [
      "95.0 confidence interval: 36.0% and 49.5%, with mean at 0.428\n"
     ]
    }
   ],
   "source": [
    "'''Histogram for the offline normalized discounted cumulative gain'''\n",
    "\n",
    "low_nDCG, up_nDCG, mean_nDCG = plot_histogram_with_confidence(bootstrapping_data['offline_wins']['dcg'], \n",
    "                                                                           CONFIDENCE_LEVEL, \n",
    "                                                                           'Win percentages of E with nDCG as evalution metric')\n",
    "\n",
    "print('%.1f confidence interval: %.1f%% and %.1f%%, with mean at %.3f' % (CONFIDENCE_LEVEL*100, low_nDCG*100, up_nDCG*100, mean_nDCG))"
   ]
  },
  {
   "cell_type": "code",
   "execution_count": 92,
   "metadata": {},
   "outputs": [
    {
     "data": {
      "image/png": "[encoded data removed]",
      "text/plain": [
       "<matplotlib.figure.Figure at 0x114a3c9e8>"
      ]
     },
     "metadata": {},
     "output_type": "display_data"
    },
    {
     "name": "stdout",
     "output_type": "stream",
     "text": [
      "95.0 confidence interval: 42.5% and 56.5%, with mean at 0.497\n"
     ]
    }
   ],
   "source": [
    "'''Histogram for the offline Expected Reciprocal Rank'''\n",
    "\n",
    "low_ERR, up_ERR, mean_ERR = plot_histogram_with_confidence(bootstrapping_data['offline_wins']['err'], \n",
    "                                                                           CONFIDENCE_LEVEL, \n",
    "                                                                           'Win percentages of E with ERR as evalution metric')\n",
    "\n",
    "print('%.1f confidence interval: %.1f%% and %.1f%%, with mean at %.3f' % (CONFIDENCE_LEVEL*100, low_ERR*100, up_ERR*100, mean_ERR))"
   ]
  },
  {
   "cell_type": "code",
   "execution_count": 95,
   "metadata": {},
   "outputs": [
    {
     "data": {
      "image/png": "[encoded data removed]",
      "text/plain": [
       "<matplotlib.figure.Figure at 0x116d565c0>"
      ]
     },
     "metadata": {},
     "output_type": "display_data"
    },
    {
     "name": "stdout",
     "output_type": "stream",
     "text": [
      "95.0 confidence interval: 20.5% and 22.0%, with mean at 0.212\n"
     ]
    }
   ],
   "source": [
    "'''Histogram for interleaving with the random click model'''\n",
    "\n",
    "low_random, up_random, mean_random = plot_histogram_with_confidence(bootstrapping_data['team']['wins_random'], \n",
    "                                                                           CONFIDENCE_LEVEL, \n",
    "                                                                           'Win percentages of E with the random click model and team draft interleaving as evalution metric')\n",
    "\n",
    "print('%.1f confidence interval: %.1f%% and %.1f%%, with mean at %.3f' % (CONFIDENCE_LEVEL*100, low_random*100, up_random*100, mean_random))"
   ]
  },
  {
   "cell_type": "code",
   "execution_count": 96,
   "metadata": {},
   "outputs": [
    {
     "data": {
      "image/png": "[encoded data removed]",
      "text/plain": [
       "<matplotlib.figure.Figure at 0x11404b9e8>"
      ]
     },
     "metadata": {},
     "output_type": "display_data"
    },
    {
     "name": "stdout",
     "output_type": "stream",
     "text": [
      "95.0 confidence interval: 26.5% and 33.0%, with mean at 0.298\n"
     ]
    }
   ],
   "source": [
    "low_sdbn, up_sdbn, mean_sdbn = plot_histogram_with_confidence(bootstrapping_data['team']['wins_sdbn'], \n",
    "                                                                           CONFIDENCE_LEVEL, \n",
    "                                                                           'Win percentages of E with the SDBN click model and team draft interleaving as evalution metric')\n",
    "\n",
    "print('%.1f confidence interval: %.1f%% and %.1f%%, with mean at %.3f' % (CONFIDENCE_LEVEL*100, low_sdbn*100, up_sdbn*100, mean_sdbn))"
   ]
  },
  {
   "cell_type": "code",
   "execution_count": 97,
   "metadata": {},
   "outputs": [
    {
     "data": {
      "image/png": "[encoded data removed]",
      "text/plain": [
       "<matplotlib.figure.Figure at 0x114a26908>"
      ]
     },
     "metadata": {},
     "output_type": "display_data"
    }
   ],
   "source": [
    "'''Plot boxplots of the confidence intervals in a figure.'''\n",
    "\n",
    "# Prepare the data by concatenating all values and adding names to datapoints\n",
    "values = np.concatenate((np.array(list(bootstrapping_data[\"offline_wins\"][\"precision\"].elements())),\n",
    "                         np.array(list(bootstrapping_data[\"offline_wins\"][\"dcg\"].elements())),\n",
    "                         np.array(list(bootstrapping_data[\"offline_wins\"][\"err\"].elements())),\n",
    "                         np.array(list(bootstrapping_data[\"team\"][\"wins_random\"].elements())),\n",
    "                         np.array(list(bootstrapping_data[\"team\"][\"wins_sdbn\"].elements()))), 0)\n",
    "\n",
    "names = np.concatenate((np.array([\"offline_precision\"]*10000),\n",
    "                        np.array([\"offline_dcg\"]*10000),\n",
    "                        np.array([\"offline_err\"]*10000),\n",
    "                        np.array([\"team_random\"]*10000),\n",
    "                        np.array([\"team_sdbn\"]*10000)), 0)\n",
    "\n",
    "complete_data = {'value' : values, 'name' : names}\n",
    "\n",
    "fig, ax = plt.subplots(figsize=(16, 8))\n",
    "\n",
    "ax.grid(linestyle='--', linewidth=0.5)\n",
    "p1=sns.boxplot(x='name', y='value', whis=[2.5,97.5], data=complete_data)\n",
    "\n",
    "plt.show()"
   ]
  },
  {
   "cell_type": "markdown",
   "metadata": {},
   "source": [
    "### Analyses plots and confidence intervals\n",
    "\n",
    "### Offline measures\n",
    "\n",
    "There is quite a difference in the means of the offline measures. We believe this is due the the number between the pairs. This amount depends on two factors. The first is that the outcomes of the precision formula are much less nuanced than the other. Nuanced in the sense that it is a simple fraction of number of relevant documents and the k parameter. The other measures are more involved calculations resulting in a wider range of possible values. Therefore the evaluations end in a tie more often for the precision, resulting in a lower win percentage for the experimental model. The other factor follows the same reasoning but then considering that precision and nDCG were computed at rank 3 thand ERR is computed over the entire ranking (resulting in more ties for the former two measures).\n",
    "\n",
    "### Interleaving\n",
    "\n",
    "\n",
    "### Offline vs online measures\n",
    "\n",
    "### Remarks\n",
    "\n",
    "Because of the setting of this experiment (not having real documents or users), some simplifyig assumptions had to be made. These assumptions might have affected the results. First of all, the estimation procedure satisfaction parameter in the SDBN model was modified to make it easier to apply to the simulated data. Instead of query-document pairs, the numbers were computed on query-rank pairs. This is under the assumption that for a given query, the same document is always at that rank. So satisisfaction is based on the clicked rank. You could say it is more of a replacement for the continuation parameter (since $\\gamma = 1$ in simplified DBN). After each evaluation, the user model gradually lowers the bar for satisfaction. This brings the model closer to the Position Based Model than in its original formulation.\n",
    "More straight forward is the fact that we have predefined alphas based on just the relevance labels. There is now neither query nor document information encoded in the attractiveness. This could result in the outcomes of the online experiments to be closer to the offline results than would be the case for alphas estimated based on query-document pairs."
   ]
  },
  {
   "cell_type": "markdown",
   "metadata": {},
   "source": [
    "### Mean testing\n",
    "To be able to do a t-test we must first confirm that the data follows a normal distribution. For this purpose the Omnibus test by D'agostino and Pearson is used (D’Agostino, R. and Pearson, E. S. (1973), “Testing for departures from normality,” Biometrika, 60, 613-622). The experimental data is generated with an N=100, meaning 100 experiments for all interleaved rankings per click model are simulated.\n",
    "\n"
   ]
  },
  {
   "cell_type": "code",
   "execution_count": 293,
   "metadata": {},
   "outputs": [
    {
     "name": "stdout",
     "output_type": "stream",
     "text": [
      "The p-value for the normality test of the win percentages of SDBN is 0.018. This means that the win percentages are not normally distributed and a t-test cannot be performed\n"
     ]
    }
   ],
   "source": [
    "\n",
    "# Test if data is normaliy distributed\n",
    "def normality_test(metric_data, metric_name):\n",
    "    \n",
    "    # Convert the counter to an array\n",
    "    data = []\n",
    "    dictkeys = metric_data.keys()\n",
    "    dictcounts = metric_data.values() \n",
    "    for i in range(len(metric_data)):\n",
    "        data.extend([list(dictkeys)[i] for x in range(list(dictcounts)[i])])\n",
    "    \n",
    "    data=sorted(data)\n",
    "    if stats.normaltest(data, axis=0)[1] < 0.05:\n",
    "        print('The p-value for the normality test of the win percentages of %s is %.3f. This means that the win percentages are not normally distributed and a t-test cannot be performed'%(metric_name, stats.normaltest(data, axis=0)[1]))\n",
    "    \n",
    "    else:\n",
    "        print('The p-value for the normality test of the win percentages of %s is %.3f. This means that the win percentages are normally distributed and a t-test can be performed'%(metric_name, stats.normaltest(data, axis=0)[1]))\n",
    "    \n",
    "    return\n",
    "    \n",
    "    \n",
    "# print(bootstrapping_data['team']['wins_sdbn'])\n",
    "# # print(len(bootstrapping_data['team']['wins_sdbn']))\n",
    "# print(bootstrapping_data['team']['wins_sdbn'].keys())\n",
    "# print(bootstrapping_data['team']['wins_sdbn'].values())\n",
    "normality_test(bootstrapping_data['team']['wins_sdbn'],'SDBN')"
   ]
  },
  {
   "cell_type": "code",
   "execution_count": null,
   "metadata": {},
   "outputs": [],
   "source": [
    "metrics = [bootstrapping_data['team']['wins_sdbn'],bootstrapping_data['team']['wins_sdbn']]\n",
    "for metric in metrics:\n",
    "    normality_test(metric_data, metric_name)"
   ]
  }
 ],
 "metadata": {
  "kernelspec": {
   "display_name": "Python 3",
   "language": "python",
   "name": "python3"
  },
  "language_info": {
   "codemirror_mode": {
    "name": "ipython",
    "version": 3
   },
   "file_extension": ".py",
   "mimetype": "text/x-python",
   "name": "python",
   "nbconvert_exporter": "python",
   "pygments_lexer": "ipython3",
   "version": "3.5.2rc1"
  }
 },
 "nbformat": 4,
 "nbformat_minor": 2
}
