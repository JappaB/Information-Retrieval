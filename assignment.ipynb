{
 "cells": [
  {
   "cell_type": "markdown",
   "metadata": {},
   "source": [
    "# Information Retrieval 1#\n",
    "## Assignment 2: Retrieval models [100 points] ##"
   ]
  },
  {
   "cell_type": "markdown",
   "metadata": {},
   "source": [
    "In this assignment you will get familiar with basic and advanced information retrieval concepts. You will implement different information retrieval ranking models and evaluate their performance.\n",
    "\n",
    "We provide you with a Indri index. To query the index, you'll use a Python package ([pyndri](https://github.com/cvangysel/pyndri)) that allows easy access to the underlying document statistics.\n",
    "\n",
    "For evaluation you'll use the [TREC Eval](https://github.com/usnistgov/trec_eval) utility, provided by the National Institute of Standards and Technology of the United States. TREC Eval is the de facto standard way to compute Information Retrieval measures and is frequently referenced in scientific papers.\n",
    "\n",
    "This is a **groups-of-three assignment**, the deadline is **Wednesday, January 31st**. Code quality, informative comments and convincing analysis of the results will be considered when grading. Submission should be done through blackboard, questions can be asked on the course [Piazza](piazza.com/university_of_amsterdam/spring2018/52041inr6y/home).\n",
    "\n",
    "### Technicalities (must-read!) ###\n",
    "\n",
    "The assignment directory is organized as follows:\n",
    "   * `./assignment.ipynb` (this file): the description of the assignment.\n",
    "   * `./index/`: the index we prepared for you.\n",
    "   * `./ap_88_90/`: directory with ground-truth and evaluation sets:\n",
    "      * `qrel_test`: test query relevance collection (**test set**).\n",
    "      * `qrel_validation`: validation query relevance collection (**validation set**).\n",
    "      * `topics_title`: semicolon-separated file with query identifiers and terms.\n",
    "\n",
    "You will need the following software packages (tested with Python 3.5 inside [Anaconda](https://conda.io/docs/user-guide/install/index.html)):\n",
    "   * Python 3.5 and Jupyter\n",
    "   * Indri + Pyndri (Follow the installation instructions [here](https://github.com/nickvosk/pyndri/blob/master/README.md))\n",
    "   * gensim [link](https://radimrehurek.com/gensim/install.html)\n",
    "   * TREC Eval [link](https://github.com/usnistgov/trec_eval)"
   ]
  },
  {
   "cell_type": "markdown",
   "metadata": {},
   "source": [
    "### TREC Eval primer ###\n",
    "The TREC Eval utility can be downloaded and compiled as follows:\n",
    "\n",
    "    git clone https://github.com/usnistgov/trec_eval.git\n",
    "    cd trec_eval\n",
    "    make\n",
    "\n",
    "TREC Eval computes evaluation scores given two files: ground-truth information regarding relevant documents, named *query relevance* or *qrel*, and a ranking of documents for a set of queries, referred to as a *run*. The *qrel* will be supplied by us and should not be changed. For every retrieval model (or combinations thereof) you will generate a run of the top-1000 documents for every query. The format of the *run* file is as follows:\n",
    "\n",
    "    $query_identifier Q0 $document_identifier $rank_of_document_for_query $query_document_similarity $run_identifier\n",
    "    \n",
    "where\n",
    "   * `$query_identifier` is the unique identifier corresponding to a query (usually this follows a sequential numbering).\n",
    "   * `Q0` is a legacy field that you can ignore.\n",
    "   * `$document_identifier` corresponds to the unique identifier of a document (e.g., APXXXXXXX where AP denotes the collection and the Xs correspond to a unique numerical identifier).\n",
    "   * `$rank_of_document_for_query` denotes the rank of the document for the particular query. This field is ignored by TREC Eval and is only maintained for legacy support. The ranks are computed by TREC Eval itself using the `$query_document_similarity` field (see next). However, it remains good practice to correctly compute this field.\n",
    "   * `$query_document_similarity` is a score indicating the similarity between query and document where a higher score denotes greater similarity.\n",
    "   * `$run_identifier` is an identifier of the run. This field is for your own convenience and has no purpose beyond bookkeeping.\n",
    "   \n",
    "For example, say we have two queries: `Q1` and `Q2` and we rank three documents (`DOC1`, `DOC2`, `DOC3`). For query `Q1`, we find the following similarity scores `score(Q1, DOC1) = 1.0`, `score(Q1, DOC2) = 0.5`, `score(Q1, DOC3) = 0.75`; and for `Q2`: `score(Q2, DOC1) = -0.1`, `score(Q2, DOC2) = 1.25`, `score(Q1, DOC3) = 0.0`. We can generate run using the following snippet:"
   ]
  },
  {
   "cell_type": "code",
   "execution_count": 3,
   "metadata": {
    "scrolled": false
   },
   "outputs": [
    {
     "name": "stdout",
     "output_type": "stream",
     "text": [
      "example\n",
      "{'Q1': ((1.0, 'DOC1'), (0.5, 'DOC2'), (0.75, 'DOC3')), 'Q2': ((-0.1, 'DOC1'), (1.25, 'DOC2'), (0.0, 'DOC3'))}\n",
      "<ipykernel.iostream.OutStream object at 0x104803cf8>\n",
      "1000\n",
      "\n",
      "Q1 Q0 DOC1 1 1.0 example\n",
      "Q1 Q0 DOC3 2 0.75 example\n",
      "Q1 Q0 DOC2 3 0.5 example\n",
      "Q2 Q0 DOC2 1 1.25 example\n",
      "Q2 Q0 DOC3 2 0.0 example\n",
      "Q2 Q0 DOC1 3 -0.1 example\n"
     ]
    }
   ],
   "source": [
    "import logging\n",
    "import sys\n",
    "import os\n",
    "\n",
    "def write_run(model_name, data, out_f,\n",
    "              max_objects_per_query=sys.maxsize,\n",
    "              skip_sorting=False):\n",
    "    \"\"\"\n",
    "    Write a run to an output file.\n",
    "    Parameters:\n",
    "        - model_name: identifier of run.\n",
    "        - data: dictionary mapping topic_id to object_assesments;\n",
    "            object_assesments is an iterable (list or tuple) of\n",
    "            (relevance, object_id) pairs.\n",
    "            The object_assesments iterable is sorted by decreasing order.\n",
    "        - out_f: output file stream.\n",
    "        - max_objects_per_query: cut-off for number of objects per query.\n",
    "    \"\"\"\n",
    "    print(model_name)\n",
    "    print(data)\n",
    "    print(out_f)\n",
    "    print(max_objects_per_query)\n",
    "    print()\n",
    "    \n",
    "    for subject_id, object_assesments in data.items():\n",
    "        if not object_assesments:\n",
    "            logging.warning('Received empty ranking for %s; ignoring.',\n",
    "                            subject_id)\n",
    "\n",
    "            continue\n",
    "\n",
    "        # Probe types, to make sure everything goes alright.\n",
    "        # assert isinstance(object_assesments[0][0], float) or \\\n",
    "        #     isinstance(object_assesments[0][0], np.float32)\n",
    "        assert isinstance(object_assesments[0][1], str) or \\\n",
    "            isinstance(object_assesments[0][1], bytes)\n",
    "\n",
    "        if not skip_sorting:\n",
    "            object_assesments = sorted(object_assesments, reverse=True)\n",
    "\n",
    "        if max_objects_per_query < sys.maxsize:\n",
    "            object_assesments = object_assesments[:max_objects_per_query]\n",
    "\n",
    "        if isinstance(subject_id, bytes):\n",
    "            subject_id = subject_id.decode('utf8')\n",
    "\n",
    "        for rank, (relevance, object_id) in enumerate(object_assesments):\n",
    "            if isinstance(object_id, bytes):\n",
    "                object_id = object_id.decode('utf8')\n",
    "\n",
    "            out_f.write(\n",
    "                '{subject} Q0 {object} {rank} {relevance} '\n",
    "                '{model_name}\\n'.format(\n",
    "                    subject=subject_id,\n",
    "                    object=object_id,\n",
    "                    rank=rank + 1,\n",
    "                    relevance=relevance,\n",
    "                    model_name=model_name))\n",
    "            \n",
    "# The following writes the run to standard output.\n",
    "# In your code, you should write the runs to local\n",
    "# storage in order to pass them to trec_eval.\n",
    "write_run(\n",
    "    model_name='example',\n",
    "    data={\n",
    "        'Q1': ((1.0, 'DOC1'), (0.5, 'DOC2'), (0.75, 'DOC3')),\n",
    "        'Q2': ((-0.1, 'DOC1'), (1.25, 'DOC2'), (0.0, 'DOC3')),\n",
    "    },\n",
    "    out_f=sys.stdout,\n",
    "    max_objects_per_query=1000)"
   ]
  },
  {
   "cell_type": "markdown",
   "metadata": {},
   "source": [
    "Now, imagine that we know that `DOC1` is relevant and `DOC3` is non-relevant for `Q1`. In addition, for `Q2` we only know of the relevance of `DOC3`. The query relevance file looks like:\n",
    "\n",
    "    Q1 0 DOC1 1\n",
    "    Q1 0 DOC3 0\n",
    "    Q2 0 DOC3 1\n",
    "    \n",
    "We store the run and qrel in files `example.run` and `example.qrel` respectively on disk. We can now use TREC Eval to compute evaluation measures. In this example, we're only interested in Mean Average Precision and we'll only show this below for brevity. However, TREC Eval outputs much more information such as NDCG, recall, precision, etc.\n",
    "\n",
    "    $ trec_eval -m all_trec -q example.qrel example.run | grep -E \"^map\\s\"\n",
    "    > map                   \tQ1\t1.0000\n",
    "    > map                   \tQ2\t0.5000\n",
    "    > map                   \tall\t0.7500\n",
    "    \n",
    "Now that we've discussed the output format of rankings and how you can compute evaluation measures from these rankings, we'll now proceed with an overview of the indexing framework you'll use."
   ]
  },
  {
   "cell_type": "markdown",
   "metadata": {},
   "source": [
    "### Pyndri primer ###\n",
    "For this assignment you will use [Pyndri](https://github.com/cvangysel/pyndri) [[1](https://arxiv.org/abs/1701.00749)], a python interface for [Indri](https://www.lemurproject.org/indri.php). We have indexed the document collection and you can query the index using Pyndri. We will start by giving you some examples of what Pyndri can do:\n",
    "\n",
    "First we read the document collection index with Pyndri:"
   ]
  },
  {
   "cell_type": "code",
   "execution_count": 1,
   "metadata": {
    "scrolled": true
   },
   "outputs": [],
   "source": [
    "import pyndri\n",
    "\n",
    "index = pyndri.Index('index/')"
   ]
  },
  {
   "cell_type": "markdown",
   "metadata": {},
   "source": [
    "The loaded index can be used to access a collection of documents in an easy manner. We'll give you some examples to get some idea of what it can do, it is up to you to figure out how to use it for the remainder of the assignment.\n",
    "\n",
    "First let's look at the number of documents, since Pyndri indexes the documents using incremental identifiers we can simply take the lowest index and the maximum document and consider the difference:"
   ]
  },
  {
   "cell_type": "code",
   "execution_count": 19,
   "metadata": {},
   "outputs": [
    {
     "name": "stdout",
     "output_type": "stream",
     "text": [
      "164598\n",
      "1\n",
      "There are 164597 documents in this collection.\n"
     ]
    }
   ],
   "source": [
    "print(index.maximum_document())\n",
    "print(index.document_base())\n",
    "\n",
    "print(\"There are %d documents in this collection.\" % (index.maximum_document() - index.document_base()))"
   ]
  },
  {
   "cell_type": "markdown",
   "metadata": {},
   "source": [
    "Let's take the first document out of the collection and take a look at it:"
   ]
  },
  {
   "cell_type": "code",
   "execution_count": 2,
   "metadata": {
    "scrolled": false
   },
   "outputs": [
    {
     "name": "stdout",
     "output_type": "stream",
     "text": [
      "('AP890425-0001', (1360, 192, 363, 0, 880, 0, 200, 0, 894, 412, 92160, 3, 192, 0, 363, 34, 1441, 0, 174134, 0, 200, 0, 894, 412, 2652, 0, 810, 107, 49, 4903, 420, 0, 1, 48, 35, 489, 0, 35, 687, 192, 243, 0, 249311, 1877, 0, 1651, 1174, 0, 2701, 117, 412, 0, 810, 391, 245233, 1225, 5838, 16, 0, 233156, 3496, 0, 393, 17, 0, 2435, 4819, 930, 0, 0, 200, 0, 894, 0, 22, 398, 145, 0, 3, 271, 115, 0, 1176, 2777, 292, 0, 725, 192, 0, 0, 50046, 0, 1901, 1130, 0, 192, 0, 408, 0, 243779, 0, 0, 553, 192, 0, 363, 0, 3747, 0, 0, 0, 0, 1176, 0, 1239, 0, 0, 1115, 17, 0, 0, 585, 192, 1963, 0, 0, 412, 54356, 0, 773, 0, 0, 0, 192, 0, 0, 1130, 0, 363, 0, 545, 192, 0, 1174, 1901, 1130, 0, 4, 398, 145, 39, 0, 577, 0, 355, 0, 491, 0, 6025, 0, 0, 193156, 88, 34, 437, 0, 0, 1852, 0, 828, 0, 1588, 0, 0, 0, 2615, 0, 0, 107, 49, 420, 0, 0, 190, 7, 714, 2701, 0, 237, 192, 157, 0, 412, 34, 437, 0, 0, 200, 6025, 26, 0, 0, 0, 0, 363, 0, 22, 398, 145, 0, 200, 638, 126222, 6018, 0, 880, 0, 0, 161, 0, 0, 319, 894, 2701, 0, 0, 0, 301, 1200, 0, 363, 251, 430, 0, 207, 0, 76143, 1773, 0, 243779, 0, 0, 72030, 0, 55, 4903, 420, 0, 2701, 1496, 420, 0, 25480, 0, 420, 0, 0, 200, 0, 392, 2949, 0, 1738, 0, 61, 0, 71, 79, 0, 200, 903, 0, 188, 53, 6, 0, 476, 2, 0, 2028, 97, 334, 0, 0, 200, 178, 0, 0, 107, 49, 0, 214, 0, 0, 0, 114, 3866, 1505, 195, 79893, 574, 0, 198, 2160, 0, 192, 0, 420, 0, 384, 0, 2701, 0, 114, 6025, 1549, 74627, 0, 238, 0, 0, 0, 3729, 0, 192, 0, 79893, 0, 0, 729, 3141, 129, 0, 192, 196764, 39, 0, 0, 714, 63, 0, 55, 420, 3356, 0, 0, 117, 412, 0, 0, 79758, 0, 1901, 1130, 4067, 2133, 0, 0, 875, 72, 0, 0, 336, 2789, 0, 0, 25, 920, 121, 104, 0, 3162, 0, 0, 420, 0, 2178, 0, 0, 386, 192545, 159306, 0, 0, 0, 1914, 0, 200, 0, 1794, 0, 2654, 0, 0, 25480, 420, 0, 2795, 0, 0, 229690, 0, 32559, 0, 0, 392, 253919, 0, 0, 0, 0, 379, 0, 0, 114, 0, 553, 10, 0, 1128, 0, 23610, 248, 151, 0, 418, 0, 651, 0, 36, 0, 0, 645, 0, 0, 513, 0, 0, 25480, 420, 34, 0, 0, 0, 15, 0, 3348, 0, 3496, 0, 35, 687, 0, 1, 48, 0, 0, 2803, 0, 0, 714, 1274, 0, 114, 62, 1006, 70268, 1200, 2357, 0, 497, 0, 497, 125, 0, 913, 4647, 3985, 0, 0, 3370, 245233, 0, 0, 687, 0, 4, 1288, 0, 0, 0, 0, 715, 0, 0, 687, 583, 0, 0, 1627, 0, 0, 11, 357, 1359, 0, 849, 0, 0, 1518, 462, 245233, 0, 0, 0, 0, 0, 0, 171, 70268, 0))\n",
      "521\n"
     ]
    }
   ],
   "source": [
    "# APXXXXXXXXX corresponds to the unique identifier of a document:\n",
    "# e.g., APXXXXXXX where AP denotes the collection and the Xs correspond to a unique numerical identifier.\n",
    "\n",
    "example_document = index.document(1)\n",
    "print(example_document)\n",
    "print(len(example_document[1]))"
   ]
  },
  {
   "cell_type": "markdown",
   "metadata": {},
   "source": [
    "Here we see a document consists of two things, a string representing the external document identifier and an integer list representing the identifiers of words that make up the document. Pyndri uses integer representations for words or terms, thus a token_id is an integer that represents a word whereas the token is the actual text of the word/term. Every id has a unique token and vice versa with the exception of stop words: words so common that there are uninformative, all of these receive the zero id.\n",
    "\n",
    "To see what some ids and their matching tokens we take a look at the dictionary of the index:"
   ]
  },
  {
   "cell_type": "code",
   "execution_count": 4,
   "metadata": {},
   "outputs": [
    {
     "name": "stdout",
     "output_type": "stream",
     "text": [
      "[(1, 'new'), (2, 'percent'), (3, 'two'), (4, '1'), (5, 'people'), (6, 'million'), (7, '000'), (8, 'government'), (9, 'president'), (10, 'years'), (11, 'state'), (12, '2'), (13, 'states'), (14, 'three'), (15, 'time')]\n",
      "267318\n"
     ]
    }
   ],
   "source": [
    "token2id, id2token, _ = index.get_dictionary()\n",
    "print(list(id2token.items())[:15])\n",
    "print(len(id2token))"
   ]
  },
  {
   "cell_type": "markdown",
   "metadata": {},
   "source": [
    "Using this dictionary we can see the tokens for the (non-stop) words in our example document:"
   ]
  },
  {
   "cell_type": "code",
   "execution_count": 20,
   "metadata": {},
   "outputs": [
    {
     "name": "stdout",
     "output_type": "stream",
     "text": [
      "['52', 'students', 'arrested', 'takeover', 'university', 'massachusetts', 'building', 'fifty', 'two', 'students', 'arrested', 'tuesday', 'evening', 'occupying', 'university', 'massachusetts', 'building', 'overnight', 'protest', 'defense', 'department', 'funded', 'research', 'new', 'york', 'city', 'thousands', 'city', 'college', 'students', 'got', 'unscheduled', 'holiday', 'demonstrators', 'occupied', 'campus', 'administration', 'building', 'protest', 'possible', 'tuition', 'increases', 'prompting', 'officials', 'suspend', 'classes', '60', 'police', 'riot', 'gear', 'arrived', 'university', 'massachusetts', '5', 'p', 'm', 'two', 'hours', 'later', 'bus', 'drove', 'away', '29', 'students', 'camped', 'memorial', 'hall', 'students', 'charged', 'trespassing', '23', 'students', 'arrested', 'lying', 'bus', 'prevent', 'leaving', 'police', '300', 'students', 'stood', 'building', 'chanting', 'looking', 'students', 'hall', 'arrested', '35', 'students', 'occupied', 'memorial', 'hall', '1', 'p', 'm', 'monday', 'declined', 'offer', 'meet', 'administrators', 'provosts', 'office', 'tuesday', 'morning', 'presented', 'list', 'demands', 'halt', 'defense', 'department', 'research', '25', '000', 'student', 'campus', '40', 'students', 'left', 'building', 'tuesday', 'morning', 'university', 'administrators', 'told', 'arrested', '5', 'p', 'm', 'university', 'spokeswoman', 'jeanne', 'hopkins', 'takeover', 'second', 'western', 'massachusetts', 'campus', 'seven', 'protesters', 'arrested', 'april', '19', 'charges', 'disorderly', 'conduct', 'trespassing', 'demonstrating', 'military', 'funded', 'research', 'campus', 'particularly', 'research', 'anthrax', 'research', 'university', 'non', 'classified', 'researchers', 'make', 'work', 'public', 'university', 'rules', '11', '6', 'million', '22', 'percent', 'grant', 'money', 'received', 'university', 'came', 'defense', 'department', '1988', 'school', 'chancellor', 'joseph', 'd', 'duffey', 'issued', 'statement', 'telling', 'students', 'research', 'continue', 'campus', 'school', 'administrators', 'decide', 'differently', 'policy', 'negotiated', 'students', 'duffey', 'latest', 'occupation', 'began', 'students', 'rallying', 'monday', 'student', 'union', 'military', 'research', 'marched', 'administration', 'building', 'ducked', 'memorial', 'hall', 'en', 'route', 'followed', 'members', 'local', 'chapter', 'american', 'friends', 'service', 'committee', 'contended', 'research', 'dangerous', 'town', 'promotes', 'militarism', 'banned', 'university', 'argued', 'purpose', 'anthrax', 'research', 'peaceful', 'strain', 'bacteria', 'non', 'virulent', 'study', 'school', '23', 'years', 'incident', 'amherst', 'health', 'board', 'scheduled', 'hearing', 'wednesday', 'question', 'safety', 'anthrax', 'research', 'tuesday', 'time', '1969', 'classes', 'city', 'college', 'new', 'york', 'canceled', 'student', 'protests', 'school', 'spokesman', 'charles', 'deciccio', 'protesters', 'demanding', 'face', 'face', 'meeting', 'gov', 'mario', 'cuomo', 'feared', 'tuition', 'college', '1', '250', 'increased', 'college', 'staff', 'reduced', 'state', 'budget', 'cuts', 'governor', 'immediate', 'comment', 'tuition', 'set', 'deciccio']\n"
     ]
    }
   ],
   "source": [
    "print([id2token[word_id] for word_id in example_document[1] if word_id > 0])"
   ]
  },
  {
   "cell_type": "markdown",
   "metadata": {},
   "source": [
    "The reverse can also be done, say we want to look for news about the \"University of Massachusetts\", the tokens of that query can be converted to ids using the reverse dictionary:"
   ]
  },
  {
   "cell_type": "code",
   "execution_count": 6,
   "metadata": {},
   "outputs": [
    {
     "name": "stdout",
     "output_type": "stream",
     "text": [
      "Query by tokens: ['university', '', 'massachusetts']\n",
      "Query by ids with stopwords: [200, 0, 894]\n",
      "Query by ids without stopwords: [200, 894]\n"
     ]
    }
   ],
   "source": [
    "query_tokens = index.tokenize(\"University of Massachusetts\")\n",
    "print(\"Query by tokens:\", query_tokens)\n",
    "query_id_tokens = [token2id.get(query_token,0) for query_token in query_tokens]\n",
    "print(\"Query by ids with stopwords:\", query_id_tokens)\n",
    "query_id_tokens = [word_id for word_id in query_id_tokens if word_id > 0]\n",
    "print(\"Query by ids without stopwords:\", query_id_tokens)"
   ]
  },
  {
   "cell_type": "markdown",
   "metadata": {},
   "source": [
    "Naturally we can now match the document and query in the id space, let's see how often a word from the query occurs in our example document:"
   ]
  },
  {
   "cell_type": "code",
   "execution_count": 7,
   "metadata": {},
   "outputs": [
    {
     "name": "stdout",
     "output_type": "stream",
     "text": [
      "Document AP890425-0001 has 13 word matches with query: \"university  massachusetts\".\n",
      "Document AP890425-0001 and query \"university  massachusetts\" have a 2.5% overlap.\n"
     ]
    }
   ],
   "source": [
    "matching_words = sum([True for word_id in example_document[1] if word_id in query_id_tokens])\n",
    "print(\"Document %s has %d word matches with query: \\\"%s\\\".\" % (example_document[0], matching_words, ' '.join(query_tokens)))\n",
    "print(\"Document %s and query \\\"%s\\\" have a %.01f%% overlap.\" % (example_document[0], ' '.join(query_tokens),matching_words/float(len(example_document[1]))*100))"
   ]
  },
  {
   "cell_type": "markdown",
   "metadata": {},
   "source": [
    "While this is certainly not everything Pyndri can do, it should give you an idea of how to use it. Please take a look at the [examples](https://github.com/cvangysel/pyndri) as it will help you a lot with this assignment.\n",
    "\n",
    "**CAUTION**: Avoid printing out the whole index in this Notebook as it will generate a lot of output and is likely to corrupt the Notebook."
   ]
  },
  {
   "cell_type": "markdown",
   "metadata": {},
   "source": [
    "### Parsing the query file\n",
    "You can parse the query file (`ap_88_89/topics_title`) using the following snippet:"
   ]
  },
  {
   "cell_type": "code",
   "execution_count": 8,
   "metadata": {},
   "outputs": [
    {
     "name": "stdout",
     "output_type": "stream",
     "text": [
      "OrderedDict([('51', 'Airbus Subsidies'), ('52', 'South African Sanctions'), ('53', 'Leveraged Buyouts'), ('54', 'Satellite Launch Contracts'), ('55', 'Insider Trading'), ('56', 'Prime (Lending) Rate Moves, Predictions'), ('57', 'MCI'), ('58', 'Rail Strikes'), ('59', 'Weather Related Fatalities'), ('60', 'Merit-Pay vs. Seniority'), ('61', 'Israeli Role in Iran-Contra Affair'), ('62', \"Military Coups D'etat\"), ('63', 'Machine Translation'), ('64', 'Hostage-Taking'), ('65', 'Information Retrieval Systems'), ('66', 'Natural Language Processing'), ('67', 'Politically Motivated Civil Disturbances'), ('68', 'Health Hazards from Fine-Diameter Fibers'), ('69', 'Attempts to Revive the SALT II Treaty'), ('70', 'Surrogate Motherhood'), ('71', 'Border Incursions'), ('72', 'Demographic Shifts in the U.S.'), ('73', 'Demographic Shifts across National Boundaries'), ('74', 'Conflicting Policy'), ('75', 'Automation'), ('76', 'U.S. Constitution - Original Intent'), ('77', 'Poaching'), ('78', 'Greenpeace'), ('79', 'FRG Political Party Positions'), ('80', '1988 Presidential Candidates Platforms'), ('81', 'Financial crunch for televangelists in the wake of the PTL scandal'), ('82', 'Genetic Engineering'), ('83', 'Measures to Protect the Atmosphere'), ('84', 'Alternative/renewable Energy Plant & Equipment Installation'), ('85', 'Official Corruption'), ('86', 'Bank Failures'), ('87', 'Criminal Actions Against Officers of Failed Financial Institutions'), ('88', 'Crude Oil Price Trends'), ('89', '\"Downstream\" Investments by OPEC Member States'), ('90', 'Data on Proven Reserves of Oil & Natural Gas Producers'), ('91', 'U.S. Army Acquisition of Advanced Weapons Systems'), ('92', 'International Military Equipment Sales'), ('93', 'What Backing Does the National Rifle Association Have?'), ('94', 'Computer-aided Crime'), ('95', 'Computer-aided Crime Detection'), ('96', 'Computer-Aided Medical Diagnosis'), ('97', 'Fiber Optics Applications'), ('98', 'Fiber Optics Equipment Manufacturers'), ('99', 'Iran-Contra Affair'), ('100', 'Controlling the Transfer of High Technology'), ('101', 'Design of the \"Star Wars\" Anti-missile Defense System'), ('102', \"Laser Research Applicable to the U.S.'s Strategic Defense Initiative\"), ('103', 'Welfare Reform'), ('104', 'Catastrophic Health Insurance'), ('105', '\"Black Monday\"'), ('106', 'U.S. Control of Insider Trading'), ('107', 'Japanese Regulation of Insider Trading'), ('108', 'Japanese Protectionist Measures'), ('109', 'Find Innovative Companies'), ('110', 'Black Resistance Against the South African Government'), ('111', 'Nuclear Proliferation'), ('112', 'Funding Biotechnology'), ('113', 'New Space Satellite Applications'), ('114', 'Non-commercial Satellite Launches'), ('115', 'Impact of the 1986 Immigration Law'), ('116', 'Generic Drug Substitutions'), ('117', 'Capacity of the U.S. Cellular Telephone Network'), ('118', 'International Terrorists'), ('119', 'Actions Against International Terrorists'), ('120', 'Economic Impact of International Terrorism'), ('121', 'Death from Cancer'), ('122', 'RDT&E of New Cancer Fighting Drugs'), ('123', 'Research into & Control of Carcinogens'), ('124', 'Alternatives to Traditional Cancer Therapies'), ('125', 'Anti-smoking Actions by Government'), ('126', 'Medical Ethics and Modern Technology'), ('127', 'U.S.-U.S.S.R. Arms Control Agreements'), ('128', 'Privatization of State Assets'), ('129', 'Soviet Spying on the U.S.'), ('130', 'Jewish Emigration and U.S.-USSR Relations'), ('131', 'McDonnell Douglas Contracts for Military Aircraft'), ('132', '\"Stealth\" Aircraft'), ('133', 'Hubble Space Telescope'), ('134', 'The Human Genome Project'), ('135', 'Possible Contributions of Gene Mapping to Medicine'), ('136', 'Diversification by Pacific Telesis'), ('137', 'Expansion in the U.S. Theme Park Industry'), ('138', 'Iranian Support for Lebanese Hostage-takers'), ('139', \"Iran's Islamic Revolution - Domestic and Foreign Social Consequences\"), ('140', 'Political Impact of Islamic Fundamentalism'), ('141', \"Japan's Handling of its Trade Surplus with the U.S.\"), ('142', 'Impact of Government Regulated Grain Farming on International Relations'), ('143', 'Why Protect U.S. Farmers?'), ('144', 'Management Problems at the United Nations'), ('145', 'Influence of the \"Pro-Israel Lobby\"'), ('146', 'Negotiating an End to the Nicaraguan Civil War'), ('147', 'Productivity Trends in the U.S. Economy'), ('148', 'Conflict in the Horn of Africa'), ('149', 'Industrial Espionage'), ('150', 'U.S. Political Campaign Financing'), ('151', 'Coping with overcrowded prisons'), ('152', 'Accusations of Cheating by Contractors on U.S. Defense Projects'), ('153', 'Insurance Coverage which pays for Long Term Care'), ('154', 'Oil Spills'), ('155', 'Right Wing Christian Fundamentalism in U.S.'), ('156', 'Efforts to enact Gun Control Legislation'), ('157', 'Causes and treatments of multiple sclerosis (MS)'), ('158', 'Term limitations for members of the U.S. Congress'), ('159', 'Electric Car Development'), ('160', 'Vitamins - The Cure for or Cause of Human Ailments'), ('161', 'Acid Rain'), ('162', 'Automobile Recalls'), ('163', 'Vietnam Veterans and Agent Orange'), ('164', 'Generic Drugs - Illegal Activities by Manufacturers'), ('165', 'Tobacco company advertising and the young'), ('166', 'Standardized testing and cultural bias'), ('167', 'Regulation of the showing of violence and explicit sex in motion picture theaters, on television, and on video cassettes.'), ('168', 'Financing AMTRAK'), ('169', 'Cost of Garbage/Trash Removal'), ('170', 'The Consequences of Implantation of Silicone Gel Breast Devices'), ('171', \"Use of Mutual Funds in an Individual's Retirement Strategy\"), ('172', 'The Effectiveness of Medical Products and Related Programs Utilized in the Cessation of Smoking.'), ('173', 'Smoking Bans'), ('174', 'Hazardous Waste Cleanup'), ('175', 'NRA Prevention of Gun Control Legislation'), ('176', 'Real-life private investigators'), ('177', 'English as the Official Language in U.S.'), ('178', 'Dog Maulings'), ('179', 'U. S. Restaurants in Foreign Lands'), ('180', 'Ineffectiveness of U.S. Embargoes/Sanctions'), ('181', 'Abuse of the Elderly by Family Members, and Medical and Nonmedical Personnel, and Initiatives Being Taken to Minimize This Mistreatment'), ('182', 'Commercial Overfishing Creates Food Fish Deficit'), ('183', 'Asbestos Related Lawsuits'), ('184', 'Corporate Pension Plans/Funds'), ('185', 'Reform of the U.S. Welfare System'), ('186', 'Difference of Learning Levels Among Inner City and More Suburban School Students'), ('187', 'Signs of the Demise of Independent Publishing'), ('188', 'Beachfront Erosion'), ('189', 'Real Motives for Murder'), ('190', 'Instances of Fraud Involving the Use of a Computer'), ('191', 'Efforts to Improve U.S. Schooling'), ('192', 'Oil Spill Cleanup'), ('193', 'Toys R Dangerous'), ('194', 'The Amount of Money Earned by Writers'), ('195', 'Stock Market Perturbations Attributable to Computer Initiated Trading'), ('196', 'School Choice Voucher System and its effects upon the entire U.S. educational program'), ('197', 'Reform of the jurisprudence system to stop juries from granting unreasonable monetary awards'), ('198', 'Gene Therapy and Its Benefits to Humankind'), ('199', 'Legality of Medically Assisted Suicides'), ('200', 'Impact of foreign textile imports on U.S. textile industry')])\n"
     ]
    }
   ],
   "source": [
    "import collections\n",
    "import io\n",
    "import logging\n",
    "import sys\n",
    "\n",
    "def parse_topics(file_or_files,\n",
    "                 max_topics=sys.maxsize, delimiter=';'):\n",
    "    assert max_topics >= 0 or max_topics is None\n",
    "\n",
    "    topics = collections.OrderedDict()\n",
    "\n",
    "    if not isinstance(file_or_files, list) and \\\n",
    "            not isinstance(file_or_files, tuple):\n",
    "        if hasattr(file_or_files, '__iter__'):\n",
    "            file_or_files = list(file_or_files)\n",
    "        else:\n",
    "            file_or_files = [file_or_files]\n",
    "\n",
    "    for f in file_or_files:\n",
    "        assert isinstance(f, io.IOBase)\n",
    "\n",
    "        for line in f:\n",
    "            assert(isinstance(line, str))\n",
    "\n",
    "            line = line.strip()\n",
    "\n",
    "            if not line:\n",
    "                continue\n",
    "\n",
    "            topic_id, terms = line.split(delimiter, 1)\n",
    "\n",
    "            if topic_id in topics and (topics[topic_id] != terms):\n",
    "                    logging.error('Duplicate topic \"%s\" (%s vs. %s).',\n",
    "                                  topic_id,\n",
    "                                  topics[topic_id],\n",
    "                                  terms)\n",
    "\n",
    "            topics[topic_id] = terms\n",
    "\n",
    "            if max_topics > 0 and len(topics) >= max_topics:\n",
    "                print(\"Max capacity reached... Breaking...\")\n",
    "                break\n",
    "\n",
    "    return topics\n",
    "\n",
    "with open('./ap_88_89/topics_title', 'r') as f_topics:\n",
    "    print(parse_topics([f_topics]))"
   ]
  },
  {
   "cell_type": "code",
   "execution_count": null,
   "metadata": {},
   "outputs": [],
   "source": []
  },
  {
   "cell_type": "markdown",
   "metadata": {},
   "source": [
    "### Task 1: Implement and compare lexical IR methods [35 points] ### \n",
    "\n",
    "In this task you will implement a number of lexical methods for IR using the **Pyndri** framework. Then you will evaluate these methods on the dataset we have provided using **TREC Eval**.\n",
    "\n",
    "Use the **Pyndri** framework to get statistics of the documents (term frequency, document frequency, collection frequency; **you are not allowed to use the query functionality of Pyndri**) and implement the following scoring methods in **Python**:\n",
    "\n",
    "- [TF-IDF](http://nlp.stanford.edu/IR-book/html/htmledition/tf-idf-weighting-1.html) and \n",
    "- [BM25](http://nlp.stanford.edu/IR-book/html/htmledition/okapi-bm25-a-non-binary-model-1.html) with k1=1.2 and b=0.75. **[5 points]**\n",
    "- Language models ([survey](https://drive.google.com/file/d/0B-zklbckv9CHc0c3b245UW90NE0/view))\n",
    "    - Jelinek-Mercer (explore different values of 𝛌 in the range [0.1, 0.5, 0.9]). **[5 points]**\n",
    "    - Dirichlet Prior (explore different values of 𝛍 [500, 1000, 1500]). **[5 points]**\n",
    "    - Absolute discounting (explore different values of 𝛅 in the range [0.1, 0.5, 0.9]). **[5 points]**\n",
    "    - [Positional Language Models](http://sifaka.cs.uiuc.edu/~ylv2/pub/sigir09-plm.pdf) define a language model for each position of a document, and score a document based on the scores of its PLMs. The PLM is estimated based on propagated counts of words within a document through a proximity-based density function, which both captures proximity heuristics and achieves an effect of “soft” passage retrieval. Implement the PLM, all five kernels, but only the Best position strategy to score documents. Use 𝛔 equal to 50, and Dirichlet smoothing with 𝛍 optimized on the validation set (decide how to optimize this value yourself and motivate your decision in the report). **[10 points]**\n",
    "    \n",
    "Implement the above methods and report evaluation measures (on the test set) using the hyper parameter values you optimized on the validation set (also report the values of the hyper parameters). Use TREC Eval to obtain the results and report on `NDCG@10`, Mean Average Precision (`MAP@1000`), `Precision@5` and `Recall@1000`.\n",
    "\n",
    "For the language models, create plots showing `NDCG@10` with varying values of the parameters. You can do this by chaining small scripts using shell scripting (preferred) or execute trec_eval using Python's `subprocess`.\n",
    "\n",
    "Compute significance of the results using a [two-tailed paired Student t-test](https://docs.scipy.org/doc/scipy/reference/generated/scipy.stats.ttest_rel.html) **[5 points]**. Be wary of false rejection of the null hypothesis caused by the [multiple comparisons problem](https://en.wikipedia.org/wiki/Multiple_comparisons_problem). There are multiple ways to mitigate this problem and it is up to you to choose one.\n",
    "\n",
    "Analyse the results by identifying specific queries where different methods succeed or fail and discuss possible reasons that cause these differences. This is *very important* in order to understand how the different retrieval functions behave.\n",
    "\n",
    "**NOTE**: Don’t forget to use log computations in your calculations to avoid underflows. "
   ]
  },
  {
   "cell_type": "markdown",
   "metadata": {},
   "source": [
    "**IMPORTANT**: You should structure your code around the helper functions we provide below."
   ]
  },
  {
   "cell_type": "code",
   "execution_count": 9,
   "metadata": {},
   "outputs": [
    {
     "name": "stdout",
     "output_type": "stream",
     "text": [
      "Total number of documents:  164597\n",
      "Gathering statistics about 456 terms.\n",
      "Inverted index creation took 84.74290990829468 seconds.\n"
     ]
    }
   ],
   "source": [
    "import time\n",
    "\n",
    "start_time = time.time()\n",
    "\n",
    "with open('./ap_88_89/topics_title', 'r') as f_topics:\n",
    "    queries = parse_topics([f_topics])\n",
    "\n",
    "index = pyndri.Index('index/')\n",
    "\n",
    "num_documents = index.maximum_document() - index.document_base()\n",
    "\n",
    "print('Total number of documents: ', num_documents)\n",
    "\n",
    "dictionary = pyndri.extract_dictionary(index)\n",
    "\n",
    "tokenized_queries = {\n",
    "    query_id: [dictionary.translate_token(token)\n",
    "               for token in index.tokenize(query_string)\n",
    "               if dictionary.has_token(token)]\n",
    "    for query_id, query_string in queries.items()}\n",
    "\n",
    "query_term_ids = set(\n",
    "    query_term_id\n",
    "    for query_term_ids in tokenized_queries.values()\n",
    "    for query_term_id in query_term_ids)\n",
    "\n",
    "#print('Query term IDs: ', query_term_ids)\n",
    "\n",
    "print('Gathering statistics about', len(query_term_ids), 'terms.')\n",
    "\n",
    "# inverted index creation.\n",
    "\n",
    "document_lengths = {}\n",
    "unique_terms_per_document = {}\n",
    "\n",
    "inverted_index = collections.defaultdict(dict)\n",
    "collection_frequencies = collections.defaultdict(int)\n",
    "\n",
    "total_terms = 0\n",
    "\n",
    "for int_doc_id in range(index.document_base(), index.maximum_document()):\n",
    "    ext_doc_id, doc_token_ids = index.document(int_doc_id)\n",
    "\n",
    "    document_bow = collections.Counter(\n",
    "        token_id for token_id in doc_token_ids\n",
    "        if token_id > 0)\n",
    "    document_length = sum(document_bow.values())\n",
    "\n",
    "    document_lengths[int_doc_id] = document_length\n",
    "    total_terms += document_length\n",
    "\n",
    "    unique_terms_per_document[int_doc_id] = len(document_bow)\n",
    "\n",
    "    for query_term_id in query_term_ids:\n",
    "        assert query_term_id is not None\n",
    "\n",
    "        document_term_frequency = document_bow.get(query_term_id, 0)\n",
    "\n",
    "        if document_term_frequency == 0:\n",
    "            continue\n",
    "\n",
    "        collection_frequencies[query_term_id] += document_term_frequency\n",
    "        inverted_index[query_term_id][int_doc_id] = document_term_frequency\n",
    "\n",
    "avg_doc_length = total_terms / num_documents\n",
    "\n",
    "print('Inverted index creation took', time.time() - start_time, 'seconds.')"
   ]
  },
  {
   "cell_type": "code",
   "execution_count": 10,
   "metadata": {},
   "outputs": [
    {
     "name": "stdout",
     "output_type": "stream",
     "text": [
      "Total number of queries:  150\n",
      "Average document length:  256.4381975370147\n"
     ]
    }
   ],
   "source": [
    "print('Total number of queries: ', len(queries))\n",
    "print('Average document length: ', avg_doc_length)"
   ]
  },
  {
   "cell_type": "code",
   "execution_count": 11,
   "metadata": {},
   "outputs": [],
   "source": [
    "def run_retrieval(model_name, score_fn):\n",
    "    \"\"\"\n",
    "    Runs a retrieval method for all the queries and writes the TREC-friendly results in a file.\n",
    "    \n",
    "    :param model_name: the name of the model (a string)\n",
    "    :param score_fn: the scoring function (a function - see below for an example) \n",
    "    \"\"\"\n",
    "    run_out_path = '{}.run'.format(model_name)\n",
    "\n",
    "    if os.path.exists(run_out_path):\n",
    "        print(\"File already exists; exiting...\")\n",
    "        return\n",
    "    \n",
    "    retrieval_start_time = time.time()\n",
    "\n",
    "    print('Retrieving using', model_name)\n",
    "    \n",
    "\n",
    "    # The dictionary data should have the form: query_id --> (document_score, external_doc_id)\n",
    "    data = {}\n",
    "    \n",
    "    for query_id, tokens in tokenized_queries.items():\n",
    "        for int_doc_id in range(index.document_base(), index.maximum_document()):\n",
    "            \n",
    "            # External document id is needed for data dictionary\n",
    "            ext_doc_id, doc_token_ids = index.document(int_doc_id)\n",
    "            \n",
    "            if model_name in ['tfidf', 'bm25']:\n",
    "                # Calculate TF-IDF score for sum of query terms\n",
    "                score = sum([score_fn(int_doc_id, query_term_id) for query_term_id in tokens])\n",
    "                data[query_id] = (score, ext_doc_id)\n",
    "        \n",
    "            elif model_name in []:\n",
    "                # Calculate language model probability\n",
    "                raise NotImplementedError()\n",
    "\n",
    "    with open(run_out_path, 'w') as f_out:\n",
    "        write_run(\n",
    "            model_name=model_name,\n",
    "            data=data,\n",
    "            out_f=f_out,\n",
    "            max_objects_per_query=1000)"
   ]
  },
  {
   "cell_type": "markdown",
   "metadata": {},
   "source": [
    "### The Scoring Functions"
   ]
  },
  {
   "cell_type": "code",
   "execution_count": 175,
   "metadata": {},
   "outputs": [],
   "source": [
    "import numpy as np\n",
    "from sklearn.metrics.pairwise import cosine_similarity\n",
    "from scipy import sparse\n",
    "\n",
    "def build_document_vector(document_id, vocabulary_size):\n",
    "    '''\n",
    "    Creates a vector of length V with the term frequency for each word in the vocabulary at its\n",
    "    corresponding index\n",
    "    \n",
    "    :param document_id: The internal document id\n",
    "    :param vocabulary_size: The number of words in the vocabulary\n",
    "    '''\n",
    "    \n",
    "    vector = np.zeros(vocabulary_size)\n",
    "    \n",
    "    for token_id in inverted_index:\n",
    "        documents_for_term = inverted_index[token_id]\n",
    "        \n",
    "        if document_id in documents_for_term:\n",
    "            vector[token_id] = documents_for_term[document_id]\n",
    "        \n",
    "    return vector\n",
    "        \n",
    "def build_query_vector(query_terms, vocabulary_size):\n",
    "    '''\n",
    "    Creates a vector of length V with the term frequency for each word in the vocabulary at its\n",
    "    corresponding index\n",
    "    \n",
    "    :param query_terms: A list of query term ids\n",
    "    :param vocabulary_size: The number of words in the vocabulary\n",
    "    '''\n",
    "    \n",
    "    vector = np.zeros(vocabulary_size)\n",
    "    counts = collections.Counter(query_terms)\n",
    "    \n",
    "    for token_id in counts:\n",
    "        vector[token_id] = counts[token_id]\n",
    "        \n",
    "    return vector\n",
    "\n",
    "def score_similarity(query_terms, document_id, weight_fn = None):\n",
    "    '''\n",
    "    Scoring function for a document and a query\n",
    "    \n",
    "    :param query_terms: A list of query term ids\n",
    "    :param document_id: The internal document id\n",
    "    :param weight: A function to re-weight the vectors\n",
    "    \n",
    "    returns a score (float)\n",
    "    '''\n",
    "    \n",
    "    vocab_size = len(id2token)\n",
    "    \n",
    "    # Create query vector\n",
    "    # Create document vector\n",
    "    doc_vec = build_document_vector(document_id, vocab_size)\n",
    "    query_vec = build_query_vector(query_terms, vocab_size)\n",
    "    \n",
    "    # Possibly re-weight the vectors\n",
    "#     if weight_fn and query_weight_fn:\n",
    "#         doc_vec = np.array([weight_fn(document_id, term_id) for term_id in range(len(doc_vec))])\n",
    "#         query_vec = np.array([query_weight_fn(query, term_id) for term_id in range(len(doc_vec))])\n",
    "    \n",
    "    # Combine query and document into a matrix with sparse representation (only save indices of non-zero entries)\n",
    "    paired_matrix = np.array([query_vec, doc_vec])\n",
    "    paired_matrix = sparse.csr_matrix(paired_matrix)\n",
    "    \n",
    "    # Calculate similarity matrix\n",
    "    similarity_matrix = cosine_similarity(paired_matrix)\n",
    "    \n",
    "    # Only first row is relevant (query document similarities)\n",
    "    similarities = similarity_matrix[0, 1:]\n",
    "    \n",
    "    return similarities\n",
    "\n",
    "\n",
    "def tfidf_query(query_terms, query_term_id):\n",
    "    counts = collections.Counter(query_terms)\n",
    "    \n",
    "    tf = np.log(1 + counts[query_term_id])\n",
    "    \n",
    "    df = len(inverted_index[query_term_id])\n",
    "    idf = np.log(num_documents / df)\n",
    "    \n",
    "    score = tf * idf\n",
    "\n",
    "def tfidf(int_document_id, query_term_id):\n",
    "    \"\"\"\n",
    "    Scoring function for a document and a query term\n",
    "    \n",
    "    :param int_document_id: the document id\n",
    "    :param query_term_id: the query term id (assuming you have split the query to tokens)\n",
    "    \"\"\"\n",
    "    \n",
    "    # Check: RAW COUNT OR NORMALIZED TF???\n",
    "    tf = np.log(1 + inverted_index[query_term_id][int_document_id])\n",
    "    \n",
    "    # inverted_index[query_term_id] consists of all the documents this term appears in\n",
    "    df = len(inverted_index[query_term_id])\n",
    "    idf = np.log(num_documents / df)\n",
    "    \n",
    "    score = tf * idf \n",
    "    \n",
    "    return score\n",
    "\n",
    "# Here we will normalize the raw TF and a different kind of damping: (1 + k)/k\n",
    "# TODO: Ik geloof dat er twee manieren zijn om te ranken. Simpel: de som van de \n",
    "# BM25/TFIDF scores; of beter: De cosine-similarity. Voor het eerste moet je de\n",
    "# som van alle scores per query-term hebben en voor de laaste een vector van\n",
    "# scores. Daarom lijkt het me beter om ook BM25 zo te schrijven dat je de score\n",
    "# voor 1 term terug krijgt.\n",
    "def BM25(int_document_id, query_term_ids, k=1.2, b=0.75):\n",
    "    \"\"\"\n",
    "    Scoring function for a document and all terms of a single query\n",
    "    \n",
    "    :param int_document_id: the document id\n",
    "    :param query_term_ids: list of query term ids\n",
    "    \n",
    "    \"\"\"\n",
    "    \n",
    "    tf = 0.0\n",
    "    doc_length = len(index.document(int_document_id)[1])\n",
    "    inv_norm = doc_length / avg_doc_length\n",
    "    \n",
    "    for i, query_term_id in enumerate(query_term_ids):\n",
    "        document_term_freq = len(inverted_index[int_term_id])\n",
    "        \n",
    "        tf_raw = inverted_index[query_term_id][int_document_id]\n",
    "        tf_normalized = tf_raw * (avg_doc_length / doc_length)\n",
    "\n",
    "        # Note: slides are not particularly clear about whether to still use the normalized TF or not.\n",
    "        # In this case we will continue with this normalized variable.\n",
    "        tf += ((1.0 + k) * tf_normalized) / (k * ((b - 1.0) + b * (inv_norm)) + tf_normalized)\n",
    "\n",
    "    idf = np.log(num_documents / document_term_freq)\n",
    "    \n",
    "    score = tf * idf\n",
    "    \n",
    "    return score\n",
    "\n",
    "def absolute_discounting(int_document_id, query_term_id, deltas=[0.1, 0.5, 0.9]):\n",
    "    \n",
    "    delta = deltas[2]\n",
    "    \n",
    "    # TODO: figure our if tf should be raw or not. Max to ensure tf in range [0,1]\n",
    "    tf_raw = max(inverted_index[query_term_id][int_document_id] - delta, 0)\n",
    "    tot_nr_terms_in_doc = len(index.document(int_document_id)[1])\n",
    "    unique_terms_in_doc = unique_terms_per_document[int_document_id]\n",
    "    \n",
    "    corpus_size = sum(list(document_lengths.values()))\n",
    "    word_frequency = collection_frequencies[query_term_id]\n",
    "    p_w_c = word_frequency / corpus_size\n",
    "    \n",
    "    score = tf_raw / tot_nr_terms_in_doc + ((delta * tot_nr_terms_in_doc) / tot_nr_terms_in_doc) * p_w_c\n",
    "\n",
    "    return score\n",
    "\n",
    "\n",
    "def dirichlet_prior_smoothing(int_document_id, query_term_id, mu):\n",
    "    ''' input: one document id, one query term id, mu\n",
    "        output: for one query word , the dirichlet smoothed prior\n",
    "    '''\n",
    "\n",
    "    # Calculate the components of the model: tf, |d|, p(w|c)\n",
    "    tf = inverted_index[int_term_id][int_doc_id]\n",
    "    document_length = document_lengths[int_document_id]\n",
    "    # TODO: functie van tf en p_wc maken (alhoewel de dict lookup voor TF best clean is)\n",
    "    # TODO: Checken of p_wc klopt bij docenten\n",
    "    p_wc = (collection_frequencies[query_term_id]/sum(collection_frequencies.values()))\n",
    "    print('tf',tf)\n",
    "    print('doc length',document_lengths[int_document_id])\n",
    "    print('p(w|C),', collection_frequencies[query_term_id],'/',sum(collection_frequencies.values()))\n",
    "    dir_smoothed_prior = ((document_length/(document_length+mu))*(tf/document_length))+ ((mu/(document_length + mu))*p_wc)\n",
    "    return dir_smoothed_prior\n",
    "\n",
    "def jelinek_mercer(int_document_id, query_term_id, lambd):\n",
    "    \"\"\"\n",
    "    Linearly interpolate with background language model\n",
    "    \n",
    "    :param int_document_id: the document id\n",
    "    :param query_token_id: the query term id (assuming you have split the query to tokens)\n",
    "    :param lambd: the lambda paramter for the function\n",
    "    \"\"\"\n",
    "    \n",
    "    doc_length = len(index.document(int_document_id)[1])\n",
    "    corpus_size = sum(collection_frequencies.values())\n",
    "    \n",
    "    term_freq_doc = inverted_index[query_term_id][int_doc_id]\n",
    "    term_freq_corpus = sum(inverted_index[query_term_id].values())\n",
    "    \n",
    "    signal = (term_freq_doc / doc_length)\n",
    "    background = (term_freq_corpus / corpus_size)\n",
    "    \n",
    "    return lambd * signal  + (1 - lambd) * background\n",
    "\n",
    "\n",
    "\n",
    "# TODO implement tools to help you with the analysis of the results.\n",
    "\n",
    "# TODO implement tools to help you with the analysis of the results.\\n\",\n",
    "def term_frequency_per_position():\n",
    "    '''Helper function for the positional language model'''\n",
    "    return\n",
    "\n",
    "def language_model_per_position():\n",
    "    '''input: \n",
    "    output:\n",
    "\n",
    "    assumption: following the paper 'Positional Language Models for Information Retrieval - Yuanhua Lv, ChengXiang Zhai'\n",
    "    \n",
    "    Given a query, suppose all terms in a document have the\n",
    "    same propagation function with the same σ, and the curve\n",
    "    of the kernel density function is symmetric. Then we have\n",
    "    k(i, j) = k(j, i). \\n\",\n",
    "    \\n\",\n",
    "    \\n\",\n",
    "    \\n\",\n",
    "    \\n\",\n",
    "    \\n\",\n",
    "    \\n\",\n",
    "    Positional Language Models define a language model for\\n\",\n",
    "    each position of a document, and score a document based \\n\",\n",
    "    on the scores of its PLMs. The PLM is estimated based on propagated \\n\",\n",
    "    counts of words within a document through a \\n\",\n",
    "    proximity-based density function, which both captures\\n\",\n",
    "    proximity heuristics and achieves an effect of “soft” passage retrieval. \\n\",\n",
    "    Implement the PLM, all five kernels, but only the Best position strategy\\n\",\n",
    "    to score documents. Use 𝛔 equal to 50, and Dirichlet smoothing\\n\",\n",
    "    with 𝛍 optimized on the validation set (decide how to \\n\",\n",
    "    optimize this value yourself and motivate your decision in the report). [10 points]'''"
   ]
  },
  {
   "cell_type": "code",
   "execution_count": 177,
   "metadata": {},
   "outputs": [
    {
     "name": "stdout",
     "output_type": "stream",
     "text": [
      "['airbus', 'subsidies']\n",
      "[0.0, 0.0, 0.0, 0.0, 0.0, 0.0, 0.0, 0.0, 0.0, 0.036226177800110927, 0.0, 0.0, 0.0, 0.0, 0.0, 0.0, 0.0, 0.0, 0.0, 0.0, 0.0, 0.0, 0.0, 0.0, 0.0, 0.0, 0.0, 0.0, 0.0, 0.0, 0.025615775978928005, 0.35494260376644549, 0.0, 0.0, 0.0, 0.0, 0.025615775978928005, 0.0, 0.028060676663315687, 0.0, 0.0, 0.0, 0.0, 0.036226177800110927, 0.03137279025690793, 0.03137279025690793, 0.0, 0.0, 0.0, 0.0, 0.0, 0.09459252173516472, 0.0, 0.0, 0.044367825470805686, 0.0, 0.0, 0.0, 0.0, 0.0, 0.0, 0.0, 0.0, 0.0, 0.03137279025690793, 0.0, 0.0, 0.0, 0.0, 0.03137279025690793, 0.0, 0.0, 0.18113088900055463, 0.0, 0.0, 0.0, 0.0, 0.0, 0.0, 0.025615775978928005, 0.0, 0.0, 0.0, 0.0, 0.028060676663315687, 0.0, 0.0, 0.0, 0.0, 0.03137279025690793, 0.0, 0.047431200545124896, 0.0, 0.03137279025690793, 0.37647348308289513, 0.0, 0.0, 0.0, 0.088735650941611371, 0.0, 0.0, 0.0, 0.0, 0.0, 0.0, 0.0, 0.0, 0.0, 0.0, 0.0, 0.0, 0.0, 0.0, 0.0, 0.0, 0.0, 0.0, 0.0, 0.0, 0.0, 0.0, 0.0, 0.0, 0.0, 0.0, 0.06274558051381586, 0.0, 0.0, 0.0, 0.0, 0.018918504347032943, 0.0, 0.0, 0.0, 0.0, 0.044367825470805686, 0.0, 0.0, 0.0, 0.03137279025690793, 0.0, 0.0, 0.0, 0.0, 0.025615775978928005, 0.039683789506627258, 0.0, 0.0, 0.0, 0.019841894753313629]\n"
     ]
    }
   ],
   "source": [
    "# Document and query share terms\n",
    "test_query = tokenized_queries['51']\n",
    "test_doc = 12\n",
    "\n",
    "print([id2token[idx] for idx in test_query])\n",
    "\n",
    "[score_similarity(query, test_doc)[0] for query in tokenized_queries.values()])"
   ]
  },
  {
   "cell_type": "code",
   "execution_count": null,
   "metadata": {},
   "outputs": [],
   "source": []
  },
  {
   "cell_type": "code",
   "execution_count": 31,
   "metadata": {},
   "outputs": [
    {
     "ename": "TypeError",
     "evalue": "tfidf() takes 2 positional arguments but 3 were given",
     "output_type": "error",
     "traceback": [
      "\u001b[0;31m---------------------------------------------------------------------------\u001b[0m",
      "\u001b[0;31mTypeError\u001b[0m                                 Traceback (most recent call last)",
      "\u001b[0;32m<ipython-input-31-f5e816fe6852>\u001b[0m in \u001b[0;36m<module>\u001b[0;34m()\u001b[0m\n\u001b[1;32m      5\u001b[0m \u001b[0;34m\u001b[0m\u001b[0m\n\u001b[1;32m      6\u001b[0m \u001b[0;34m\u001b[0m\u001b[0m\n\u001b[0;32m----> 7\u001b[0;31m \u001b[0mprint\u001b[0m\u001b[0;34m(\u001b[0m\u001b[0;34m\"TF-IFD: \"\u001b[0m\u001b[0;34m,\u001b[0m \u001b[0mtfidf\u001b[0m\u001b[0;34m(\u001b[0m\u001b[0mint_doc_id\u001b[0m\u001b[0;34m,\u001b[0m \u001b[0mint_term_id\u001b[0m\u001b[0;34m,\u001b[0m \u001b[0mlen\u001b[0m\u001b[0;34m(\u001b[0m\u001b[0minverted_index\u001b[0m\u001b[0;34m[\u001b[0m\u001b[0mint_term_id\u001b[0m\u001b[0;34m]\u001b[0m\u001b[0;34m)\u001b[0m\u001b[0;34m)\u001b[0m\u001b[0;34m)\u001b[0m\u001b[0;34m\u001b[0m\u001b[0m\n\u001b[0m\u001b[1;32m      8\u001b[0m \u001b[0;34m\u001b[0m\u001b[0m\n\u001b[1;32m      9\u001b[0m \u001b[0;34m\u001b[0m\u001b[0m\n",
      "\u001b[0;31mTypeError\u001b[0m: tfidf() takes 2 positional arguments but 3 were given"
     ]
    }
   ],
   "source": [
    "# Provide some test entries:\n",
    "int_term_id = token2id[\"city\"]\n",
    "int_doc_id  = 1\n",
    "\n",
    "\n",
    "\n",
    "print(\"TF-IFD: \", tfidf(int_doc_id, int_term_id, len(inverted_index[int_term_id])))\n",
    "\n",
    "\n",
    "# For the BM25: Pass a list of term ids, as it must represent a \n",
    "int_term_ids = [35]\n",
    "print(\"BM25: \" , BM25(int_doc_id, int_term_ids, len(inverted_index[int_term_id])))\n",
    "\n",
    "print(\"Absolute Discounting: \", absolute_discounting(int_doc_id, int_term_id))\n",
    "\n",
    "# combining the two functions above: \n",
    "run_retrieval('tfidf_naive', tfidf)\n",
    "\n",
    "# TODO implement the rest of the retrieval functions \n",
    "\n",
    "\n",
    "\n",
    "\n",
    "\n",
    "# print(\\\"TF-IFD: \\\", tfidf(int_doc_id, int_term_id, len(inverted_index[int_term_id])))\n",
    "# print(\\\"BM25: \\\"  , BM25(int_doc_id, int_term_id, len(inverted_index[int_term_id])))\n",
    "# For all mus the dirichlet smoothed prior\n",
    "mus = [500,1000,1500]\n",
    "for mu in mus:\n",
    "    print(\"dirichlet_prior_smoothing with mu\",mu,':',\n",
    "          dirichlet_prior_smoothing(int_doc_id, int_term_id, mu))"
   ]
  },
  {
   "cell_type": "code",
   "execution_count": 41,
   "metadata": {},
   "outputs": [
    {
     "name": "stdout",
     "output_type": "stream",
     "text": [
      "Retrieving using tfidf_naive\n",
      "tfidf_naive\n",
      "{}\n",
      "<_io.TextIOWrapper name='tfidf_naive.run' mode='w' encoding='UTF-8'>\n",
      "1000\n",
      "\n",
      "CPU times: user 11min 36s, sys: 2min 27s, total: 14min 3s\n",
      "Wall time: 14min 29s\n"
     ]
    }
   ],
   "source": [
    "%time run_retrieval('tfidf_naive', tfidf)"
   ]
  },
  {
   "cell_type": "code",
   "execution_count": 70,
   "metadata": {},
   "outputs": [
    {
     "data": {
      "image/png": "[encoded data removed]",
      "text/plain": [
       "<matplotlib.figure.Figure at 0x10c715c50>"
      ]
     },
     "metadata": {},
     "output_type": "display_data"
    }
   ],
   "source": [
    "def gaussian_kernel(i, j, sigma=50):\n",
    "    return np.exp(-(i-j)**2 / (2 * sigma**2))\n",
    "\n",
    "def triangle_kernel(i, j, sigma=50):\n",
    "    return 1-abs(i - j)/sigma if abs(i - j) <= sigma else 0\n",
    "\n",
    "def cosine_kernel(i, j, sigma=50):\n",
    "    return 0.5 * (1 + np.cos((abs(i - j) * np.pi) / sigma)) if abs(i - j) <= sigma else 0\n",
    "\n",
    "def circle_kernel(i, j, sigma=50):\n",
    "    return np.sqrt(1-(abs(i - j)/sigma)**2) if abs(i - j) <= sigma else 0\n",
    "\n",
    "def passage_kernel(i, j, sigma=50):\n",
    "    return int(abs(i - j) < sigma/2)\n",
    "\n",
    "import matplotlib.pyplot as plt\n",
    "\n",
    "data = [gaussian_kernel(0, j) for j in range(-80, 80)]\n",
    "plt.plot(range(len(data)), data)\n",
    "plt.show()"
   ]
  },
  {
   "cell_type": "code",
   "execution_count": null,
   "metadata": {
    "scrolled": false
   },
   "outputs": [
    {
     "data": {
      "text/plain": [
       "55709"
      ]
     },
     "execution_count": 125,
     "metadata": {},
     "output_type": "execute_result"
    }
   ],
   "source": [
    "ext_doc_id, doc_token_ids = index.document(1)\n",
    "\n",
    "# This contains the length of each document in the collection.\n",
    "document_lengths\n",
    "\n",
    "# This contains the number of unique terms per document in the collection.\n",
    "unique_terms_per_document\n",
    "\n",
    "# This contains the frequency in which the query term appears in all the documents\n",
    "collection_frequencies[35]\n",
    "\n",
    "# This contains the frequency in which the query term appears in a given document\n",
    "inverted_index[880]\n",
    "\n",
    "collection_frequencies[35]"
   ]
  },
  {
   "cell_type": "markdown",
   "metadata": {},
   "source": [
    "### Task 2: Latent Semantic Models (LSMs) [15 points] ###\n",
    "\n",
    "In this task you will experiment with applying distributional semantics methods ([LSI](http://lsa3.colorado.edu/papers/JASIS.lsi.90.pdf) **[5 points]** and [LDA](https://www.cs.princeton.edu/~blei/papers/BleiNgJordan2003.pdf) **[5 points]**) for retrieval.\n",
    "\n",
    "You do not need to implement LSI or LDA on your own. Instead, you can use [gensim](http://radimrehurek.com/gensim/index.html). An example on how to integrate Pyndri with Gensim for word2vec can be found [here](https://github.com/cvangysel/pyndri/blob/master/examples/word2vec.py). For the remaining latent vector space models, you will need to implement connector classes (such as `IndriSentences`) by yourself.\n",
    "\n",
    "In order to use a latent semantic model for retrieval, you need to:\n",
    "   * build a representation of the query **q**,\n",
    "   * build a representation of the document **d**,\n",
    "   * calculate the similarity between **q** and **d** (e.g., cosine similarity, KL-divergence).\n",
    "     \n",
    "The exact implementation here depends on the latent semantic model you are using. \n",
    "   \n",
    "Each of these LSMs come with various hyperparameters to tune. Make a choice on the parameters, and explicitly mention the reasons that led you to these decisions. You can use the validation set to optimize hyper parameters you see fit; motivate your decisions. In addition, mention clearly how the query/document representations were constructed for each LSM and explain your choices.\n",
    "\n",
    "In this experiment, you will first obtain an initial top-1000 ranking for each query using TF-IDF in **Task 1**, and then re-rank the documents using the LSMs. Use TREC Eval to obtain the results and report on `NDCG@10`, Mean Average Precision (`MAP@1000`), `Precision@5` and `Recall@1000`.\n",
    "\n",
    "Perform significance testing **[5 points]** (similar as in Task 1) in the class of semantic matching methods."
   ]
  },
  {
   "cell_type": "code",
   "execution_count": 14,
   "metadata": {},
   "outputs": [],
   "source": [
    "import gensim.models\n",
    "\n",
    "def LSI(index):\n",
    "    \n",
    "    # This is the complete corpus dictionary\n",
    "    dictionary = pyndri.extract_dictionary(index)\n",
    "    \n",
    "    # This is \n",
    "    sentences = pyndri.compat.IndriSentences(index, dictionary)\n",
    "    \n",
    "    words = dictionary.id2token\n",
    "    \n",
    "    lsi_model = None #gensim.models.lsimodel.LsiModel(corpus=sentences, id2word=words, num_topics=10)\n",
    "    \n",
    "    return lsi_model\n",
    "\n",
    "def LDA(index):\n",
    "    \n",
    "    dictionary = pyndri.extract_dictionary(index)\n",
    "    sentences = pyndri.compat.IndriSentences(index, dictionary)\n",
    "    \n",
    "    words = dictionary.id2token\n",
    "    \n",
    "    lda_model = None #gensim.models.ldamodel.LdaModel(corpus=sentences, id2word=words, num_topics=10)\n",
    "    \n",
    "    \n",
    "    \n",
    "    return lda_model"
   ]
  },
  {
   "cell_type": "code",
   "execution_count": 15,
   "metadata": {},
   "outputs": [],
   "source": [
    "# Quote: \"For the remaining vector space models. you will need to implement connector classes ..., by yourself\"\n",
    "# Question: What are these \"remaining\" latent vector space models?\n",
    "\n",
    "# Import gensim\n",
    "import gensim\n",
    "\n",
    "# Step 1: Build a representation q of the queries\n",
    "\n",
    "# Step 2: Build a representation d of the documents i.e. by scoring them\n",
    "\n",
    "# Step 3: Build a function that is able to calculate similarity between q and d.\n",
    "\n",
    "# Step 4: Use the representations to train LSMs - choose hyperparams by testing\n",
    "\n",
    "# Step 5: Use TF-IDF to rank top 1000 documents, for each query\n",
    "\n",
    "# Step 6: Use both LSMs to re-rank top 1000 documents and apply TREC to test results. Based on:\n",
    "## - NDCG@10\n",
    "## - MAP@1000\n",
    "## - Precision@5\n",
    "## - Recall@1000\n",
    "\n",
    "\n",
    "\n"
   ]
  },
  {
   "cell_type": "code",
   "execution_count": 17,
   "metadata": {},
   "outputs": [
    {
     "name": "stdout",
     "output_type": "stream",
     "text": [
      "Number of unique terms / Dictionary:  267318\n",
      "Number of documents:  <pyndri.Index of 164597 documents>\n",
      "[(0, 225), (1, 2), (2, 1), (3, 2), (4, 2), (6, 1), (7, 1), (10, 1), (11, 1), (15, 1), (16, 1), (17, 2), (22, 2), (25, 1), (26, 1), (34, 4), (35, 3), (36, 1), (39, 2), (48, 2), (49, 3), (53, 1), (55, 2), (61, 1), (62, 1), (63, 1), (71, 1), (72, 1), (79, 1), (88, 1), (97, 1), (104, 1), (107, 3), (114, 4), (115, 1), (117, 2), (121, 1), (125, 1), (129, 1), (145, 3), (151, 1), (157, 1), (161, 1), (171, 1), (178, 1), (188, 1), (190, 1), (192, 13), (195, 1), (198, 1), (200, 9), (207, 1), (214, 1), (237, 1), (238, 1), (243, 1), (248, 1), (251, 1), (271, 1), (292, 1), (301, 1), (319, 1), (334, 1), (336, 1), (355, 1), (357, 1), (363, 6), (379, 1), (384, 1), (386, 1), (391, 1), (392, 2), (393, 1), (398, 3), (408, 1), (412, 6), (418, 1), (420, 10), (430, 1), (437, 2), (462, 1), (476, 1), (489, 1), (491, 1), (497, 2), (513, 1), (545, 1), (553, 2), (574, 1), (577, 1), (583, 1), (585, 1), (638, 1), (645, 1), (651, 1), (687, 4), (714, 3), (715, 1), (725, 1), (729, 1), (773, 1), (810, 2), (828, 1), (849, 1), (875, 1), (880, 2), (894, 4), (903, 1), (913, 1), (920, 1), (930, 1), (1006, 1), (1115, 1), (1128, 1), (1130, 4), (1174, 2), (1176, 2), (1200, 2), (1225, 1), (1239, 1), (1274, 1), (1288, 1), (1359, 1), (1360, 1), (1441, 1), (1496, 1), (1505, 1), (1518, 1), (1549, 1), (1588, 1), (1627, 1), (1651, 1), (1738, 1), (1773, 1), (1794, 1), (1852, 1), (1877, 1), (1901, 3), (1914, 1), (1963, 1), (2028, 1), (2133, 1), (2160, 1), (2178, 1), (2357, 1), (2435, 1), (2615, 1), (2652, 1), (2654, 1), (2701, 5), (2777, 1), (2789, 1), (2795, 1), (2803, 1), (2949, 1), (3141, 1), (3162, 1), (3348, 1), (3356, 1), (3370, 1), (3496, 2), (3729, 1), (3747, 1), (3866, 1), (3985, 1), (4067, 1), (4647, 1), (4819, 1), (4903, 2), (5838, 1), (6018, 1), (6025, 3), (23610, 1), (25480, 3), (32559, 1), (50046, 1), (54356, 1), (70268, 2), (72030, 1), (74627, 1), (76143, 1), (79758, 1), (79893, 2), (92160, 1), (126222, 1), (159306, 1), (174134, 1), (192545, 1), (193156, 1), (196764, 1), (229690, 1), (233156, 1), (243779, 2), (245233, 3), (249311, 1), (253919, 1)]\n",
      "[(0, 209), (4, 1), (5, 1), (6, 3), (8, 1), (9, 1), (10, 2), (13, 3), (16, 1), (18, 1), (20, 3), (27, 2), (39, 1), (50, 1), (55, 1), (58, 1), (59, 1), (66, 1), (68, 1), (69, 2), (73, 2), (85, 1), (86, 1), (90, 1), (92, 1), (98, 1), (118, 1), (128, 1), (132, 1), (137, 1), (142, 1), (146, 1), (155, 1), (178, 1), (181, 1), (182, 2), (183, 1), (195, 2), (233, 1), (239, 2), (252, 1), (260, 5), (304, 1), (333, 1), (336, 1), (339, 2), (343, 1), (377, 2), (391, 1), (394, 1), (418, 2), (454, 2), (459, 1), (466, 1), (473, 2), (475, 1), (477, 1), (498, 2), (520, 1), (523, 1), (582, 1), (624, 1), (629, 1), (662, 1), (697, 1), (698, 2), (699, 1), (709, 1), (732, 1), (767, 1), (775, 8), (787, 1), (822, 1), (833, 1), (855, 1), (867, 1), (946, 2), (977, 1), (979, 1), (980, 1), (1006, 1), (1017, 1), (1019, 1), (1067, 1), (1098, 2), (1117, 1), (1151, 1), (1160, 1), (1205, 1), (1240, 1), (1244, 1), (1301, 1), (1306, 4), (1509, 1), (1533, 1), (1548, 1), (1634, 1), (1687, 1), (1710, 1), (1735, 1), (1758, 2), (1760, 1), (1825, 1), (1827, 1), (1851, 7), (1876, 1), (1932, 1), (1961, 1), (2007, 1), (2080, 1), (2122, 1), (2214, 1), (2235, 1), (2325, 2), (2346, 1), (2373, 1), (2526, 1), (2552, 1), (2819, 1), (2840, 1), (2855, 2), (3063, 1), (3217, 1), (3741, 1), (3782, 6), (3812, 1), (3827, 1), (4046, 1), (4155, 1), (4283, 1), (4412, 1), (4549, 1), (4870, 1), (4904, 1), (5056, 1), (5230, 1), (5706, 1), (5792, 2), (5938, 1), (29854, 2), (40978, 1), (61211, 1), (62163, 1), (71943, 1), (90907, 1), (95897, 2), (115921, 1), (148490, 3), (153250, 1), (154646, 2), (176358, 1), (178764, 1), (181878, 1), (182686, 1), (184554, 1), (187041, 1), (191342, 1), (194347, 1), (204941, 1), (215514, 1), (220854, 1), (226125, 1), (227158, 1), (232986, 1), (240531, 2), (242418, 1), (247330, 1), (247873, 1), (259878, 3), (263253, 1)]\n",
      "[(0, 51), (1, 1), (5, 1), (7, 2), (8, 2), (39, 1), (41, 1), (70, 2), (79, 1), (88, 1), (90, 1), (122, 2), (131, 1), (133, 1), (174, 1), (218, 1), (248, 1), (264, 1), (307, 2), (369, 1), (524, 1), (537, 1), (903, 1), (971, 1), (1121, 1), (1127, 1), (1136, 1), (1287, 3), (1362, 1), (1383, 1), (1405, 1), (1560, 2), (1772, 1), (1862, 1), (2034, 1), (2427, 1), (2508, 1), (2590, 1), (2679, 1), (2750, 1), (3121, 1), (3202, 1), (3796, 1), (3833, 1), (4538, 2), (33702, 1), (37544, 1), (46960, 1), (57591, 1), (148684, 1), (150712, 1), (159950, 1), (160956, 1), (200745, 1), (214197, 1), (241075, 1)]\n",
      "[(0, 49), (5, 1), (17, 2), (39, 1), (40, 1), (42, 1), (70, 1), (71, 1), (116, 1), (126, 2), (224, 1), (234, 1), (296, 1), (303, 1), (347, 2), (353, 1), (363, 1), (898, 1), (927, 1), (1078, 1), (1150, 1), (1319, 1), (1340, 1), (1603, 1), (2337, 1), (2353, 1), (2444, 1), (2944, 2), (2973, 1), (3266, 2), (4650, 1), (5385, 1), (6203, 1), (10136, 1), (59609, 4), (89906, 1), (90367, 2), (95381, 5), (95705, 1), (119153, 1), (141999, 1), (157721, 1), (205822, 1), (211709, 1), (213456, 1), (219141, 1), (227789, 1), (228093, 1), (239614, 1), (243820, 1), (260388, 1)]\n",
      "[(0, 234), (1, 1), (5, 2), (15, 1), (26, 3), (29, 1), (37, 2), (39, 2), (42, 2), (46, 1), (48, 1), (50, 1), (60, 1), (67, 1), (71, 1), (81, 1), (126, 1), (132, 1), (137, 1), (138, 1), (144, 1), (160, 1), (161, 2), (172, 1), (178, 1), (185, 1), (215, 1), (221, 1), (247, 2), (251, 1), (261, 1), (271, 1), (283, 1), (288, 1), (303, 1), (334, 1), (349, 1), (382, 1), (413, 1), (447, 1), (466, 1), (472, 2), (474, 1), (477, 1), (532, 1), (533, 1), (545, 1), (612, 1), (646, 1), (658, 1), (683, 1), (724, 1), (736, 3), (740, 8), (742, 1), (766, 1), (796, 2), (799, 1), (829, 1), (836, 1), (837, 1), (840, 1), (847, 1), (853, 1), (863, 1), (914, 1), (925, 2), (934, 1), (953, 1), (976, 1), (986, 3), (992, 1), (1046, 2), (1078, 1), (1126, 1), (1162, 1), (1218, 1), (1242, 1), (1409, 4), (1455, 3), (1515, 1), (1567, 1), (1568, 1), (1592, 1), (1606, 1), (1638, 3), (1665, 1), (1724, 1), (1747, 1), (1800, 2), (1874, 1), (1910, 1), (1928, 1), (1945, 2), (1946, 1), (1968, 1), (2044, 1), (2049, 1), (2112, 1), (2134, 3), (2146, 1), (2319, 1), (2352, 1), (2429, 1), (2455, 1), (2456, 1), (2532, 1), (2538, 1), (2572, 1), (2628, 1), (2638, 1), (2651, 1), (2817, 2), (2955, 1), (3084, 4), (3106, 1), (3555, 1), (3575, 1), (3684, 2), (3695, 1), (3706, 1), (3739, 1), (3774, 1), (3786, 1), (3869, 1), (3988, 1), (4011, 1), (4023, 1), (4118, 1), (4303, 1), (4529, 1), (4678, 1), (4882, 1), (5078, 1), (5194, 1), (5280, 2), (5362, 1), (5455, 1), (5693, 1), (5821, 5), (5855, 2), (5970, 1), (6012, 1), (6022, 1), (6087, 2), (6127, 1), (19682, 1), (25360, 1), (25907, 1), (25908, 1), (27759, 4), (32506, 1), (33550, 2), (36589, 1), (48038, 2), (51086, 1), (53068, 2), (53161, 1), (65332, 1), (79126, 1), (81311, 1), (108460, 1), (108463, 1), (112295, 1), (127424, 1), (145650, 1), (147024, 1), (147033, 2), (147088, 2), (153053, 2), (153851, 1), (162185, 2), (162233, 1), (164167, 1), (165354, 1), (178123, 1), (179132, 1), (191208, 1), (220826, 2), (224783, 1), (226125, 1), (232899, 1), (236835, 1), (239965, 1), (245077, 1), (246000, 2), (250510, 1), (251126, 1), (260385, 1)]\n",
      "[(0, 303), (1, 2), (3, 5), (4, 1), (5, 2), (7, 1), (9, 1), (10, 1), (11, 1), (12, 1), (23, 2), (29, 1), (32, 1), (35, 3), (37, 1), (42, 1), (44, 2), (47, 1), (48, 2), (56, 1), (60, 2), (61, 1), (68, 1), (70, 1), (71, 1), (72, 1), (79, 1), (88, 1), (100, 1), (108, 1), (114, 1), (121, 2), (132, 1), (138, 1), (146, 1), (159, 1), (176, 1), (182, 1), (183, 1), (186, 1), (192, 1), (196, 1), (198, 2), (200, 3), (201, 1), (206, 1), (209, 1), (213, 1), (214, 1), (215, 2), (220, 1), (225, 1), (230, 1), (232, 1), (237, 1), (249, 1), (270, 1), (271, 1), (307, 1), (312, 1), (315, 1), (324, 1), (329, 1), (342, 1), (344, 1), (352, 1), (379, 1), (382, 1), (386, 1), (396, 2), (404, 1), (409, 1), (420, 1), (429, 1), (446, 1), (459, 2), (473, 1), (511, 1), (519, 1), (523, 1), (545, 1), (556, 1), (559, 1), (573, 1), (574, 1), (585, 2), (594, 1), (595, 1), (602, 1), (612, 1), (632, 1), (646, 1), (648, 1), (651, 1), (661, 1), (662, 2), (687, 1), (689, 1), (699, 1), (734, 1), (740, 1), (759, 1), (764, 1), (771, 1), (777, 1), (792, 1), (797, 1), (821, 1), (841, 1), (842, 1), (851, 1), (863, 1), (872, 1), (875, 1), (888, 1), (929, 1), (943, 1), (946, 1), (954, 1), (975, 1), (978, 1), (983, 1), (1040, 1), (1043, 1), (1053, 2), (1076, 1), (1078, 1), (1079, 1), (1090, 1), (1091, 1), (1095, 1), (1128, 2), (1130, 2), (1139, 1), (1189, 1), (1190, 1), (1191, 1), (1216, 1), (1218, 2), (1232, 1), (1237, 1), (1279, 1), (1282, 1), (1293, 1), (1297, 1), (1376, 1), (1382, 1), (1511, 1), (1513, 1), (1551, 1), (1606, 1), (1608, 1), (1649, 1), (1665, 1), (1682, 1), (1705, 1), (1721, 1), (1747, 1), (1753, 1), (1778, 2), (1780, 1), (1790, 1), (1802, 1), (1925, 1), (1945, 6), (1946, 1), (1954, 1), (2066, 1), (2253, 1), (2270, 1), (2278, 1), (2281, 4), (2306, 1), (2337, 1), (2371, 1), (2382, 1), (2395, 1), (2419, 1), (2480, 1), (2496, 1), (2511, 1), (2516, 1), (2537, 1), (2553, 1), (2628, 1), (2749, 1), (2775, 1), (2880, 1), (2881, 1), (2896, 1), (2910, 1), (2917, 1), (2998, 1), (3071, 1), (3076, 1), (3078, 1), (3227, 1), (3246, 1), (3253, 1), (3293, 2), (3299, 1), (3494, 1), (3537, 1), (3580, 1), (3633, 1), (3743, 1), (3762, 2), (3786, 1), (3874, 1), (3877, 2), (3956, 1), (4002, 1), (4065, 1), (4090, 1), (4092, 1), (4102, 1), (4149, 1), (4160, 1), (4303, 1), (4328, 1), (4434, 1), (4485, 1), (4508, 1), (4536, 1), (4657, 2), (4659, 2), (4797, 2), (4811, 1), (4849, 2), (4931, 1), (4974, 2), (5016, 3), (5152, 1), (5282, 1), (5446, 1), (5592, 1), (5595, 1), (5670, 1), (5690, 2), (6004, 1), (6051, 1), (6132, 1), (12120, 1), (18961, 2), (22137, 1), (23621, 1), (24033, 1), (24819, 1), (28846, 1), (32767, 1), (34693, 1), (44262, 2), (44317, 1), (49950, 6), (50770, 1), (51266, 1), (51449, 1), (55288, 4), (55394, 1), (57575, 2), (57576, 1), (58825, 6), (58828, 2), (58830, 1), (60139, 1), (60513, 1), (70191, 1), (71267, 1), (72027, 1), (77219, 1), (79345, 1), (79637, 1), (84172, 1), (85255, 1), (91237, 1), (91606, 1), (91770, 1), (93343, 1), (96067, 1), (96439, 1), (96882, 1), (105504, 2), (111626, 1), (115725, 2), (117139, 1), (117294, 1), (120976, 1), (120978, 1), (126071, 1), (134735, 1), (140865, 1), (146424, 1), (154107, 1), (163041, 1), (170505, 1), (173289, 1), (173965, 1), (177770, 1), (180697, 1), (184455, 1), (184698, 1), (185743, 3), (192543, 1), (193488, 1), (193551, 1), (193899, 1), (198851, 1), (201183, 1), (202495, 1), (203925, 1), (204930, 1), (212763, 1), (221603, 2), (222737, 1), (222740, 1), (222741, 1), (225990, 3), (226474, 1), (226923, 1), (227766, 1), (234650, 1), (237990, 1), (251193, 1), (253159, 1), (263913, 1)]\n"
     ]
    },
    {
     "ename": "KeyError",
     "evalue": "0",
     "output_type": "error",
     "traceback": [
      "\u001b[0;31m---------------------------------------------------------------------------\u001b[0m",
      "\u001b[0;31mKeyError\u001b[0m                                  Traceback (most recent call last)",
      "\u001b[0;32m<timed exec>\u001b[0m in \u001b[0;36m<module>\u001b[0;34m()\u001b[0m\n",
      "\u001b[0;32m~/miniconda3/envs/ml1labs/lib/python3.6/site-packages/gensim/models/lsimodel.py\u001b[0m in \u001b[0;36m__init__\u001b[0;34m(self, corpus, num_topics, id2word, chunksize, decay, distributed, onepass, power_iters, extra_samples, dtype)\u001b[0m\n\u001b[1;32m    341\u001b[0m \u001b[0;34m\u001b[0m\u001b[0m\n\u001b[1;32m    342\u001b[0m         \u001b[0;32mif\u001b[0m \u001b[0mcorpus\u001b[0m \u001b[0;32mis\u001b[0m \u001b[0;32mnot\u001b[0m \u001b[0;32mNone\u001b[0m\u001b[0;34m:\u001b[0m\u001b[0;34m\u001b[0m\u001b[0m\n\u001b[0;32m--> 343\u001b[0;31m             \u001b[0mself\u001b[0m\u001b[0;34m.\u001b[0m\u001b[0madd_documents\u001b[0m\u001b[0;34m(\u001b[0m\u001b[0mcorpus\u001b[0m\u001b[0;34m)\u001b[0m\u001b[0;34m\u001b[0m\u001b[0m\n\u001b[0m\u001b[1;32m    344\u001b[0m \u001b[0;34m\u001b[0m\u001b[0m\n\u001b[1;32m    345\u001b[0m     \u001b[0;32mdef\u001b[0m \u001b[0madd_documents\u001b[0m\u001b[0;34m(\u001b[0m\u001b[0mself\u001b[0m\u001b[0;34m,\u001b[0m \u001b[0mcorpus\u001b[0m\u001b[0;34m,\u001b[0m \u001b[0mchunksize\u001b[0m\u001b[0;34m=\u001b[0m\u001b[0;32mNone\u001b[0m\u001b[0;34m,\u001b[0m \u001b[0mdecay\u001b[0m\u001b[0;34m=\u001b[0m\u001b[0;32mNone\u001b[0m\u001b[0;34m)\u001b[0m\u001b[0;34m:\u001b[0m\u001b[0;34m\u001b[0m\u001b[0m\n",
      "\u001b[0;32m~/miniconda3/envs/ml1labs/lib/python3.6/site-packages/gensim/models/lsimodel.py\u001b[0m in \u001b[0;36madd_documents\u001b[0;34m(self, corpus, chunksize, decay)\u001b[0m\n\u001b[1;32m    410\u001b[0m                         \u001b[0;32mdel\u001b[0m \u001b[0mupdate\u001b[0m\u001b[0;34m\u001b[0m\u001b[0m\n\u001b[1;32m    411\u001b[0m                         \u001b[0mlogger\u001b[0m\u001b[0;34m.\u001b[0m\u001b[0minfo\u001b[0m\u001b[0;34m(\u001b[0m\u001b[0;34m\"processed documents up to #%s\"\u001b[0m\u001b[0;34m,\u001b[0m \u001b[0mdoc_no\u001b[0m\u001b[0;34m)\u001b[0m\u001b[0;34m\u001b[0m\u001b[0m\n\u001b[0;32m--> 412\u001b[0;31m                         \u001b[0mself\u001b[0m\u001b[0;34m.\u001b[0m\u001b[0mprint_topics\u001b[0m\u001b[0;34m(\u001b[0m\u001b[0;36m5\u001b[0m\u001b[0;34m)\u001b[0m\u001b[0;34m\u001b[0m\u001b[0m\n\u001b[0m\u001b[1;32m    413\u001b[0m \u001b[0;34m\u001b[0m\u001b[0m\n\u001b[1;32m    414\u001b[0m                 \u001b[0;31m# wait for all workers to finish (distributed version only)\u001b[0m\u001b[0;34m\u001b[0m\u001b[0;34m\u001b[0m\u001b[0m\n",
      "\u001b[0;32m~/miniconda3/envs/ml1labs/lib/python3.6/site-packages/gensim/models/basemodel.py\u001b[0m in \u001b[0;36mprint_topics\u001b[0;34m(self, num_topics, num_words)\u001b[0m\n\u001b[1;32m     14\u001b[0m         \u001b[0mprobable\u001b[0m \u001b[0mwords\u001b[0m \u001b[0;32mfor\u001b[0m\u001b[0;31m \u001b[0m\u001b[0;31m`\u001b[0m\u001b[0mtopics\u001b[0m\u001b[0;31m`\u001b[0m \u001b[0mnumber\u001b[0m \u001b[0mof\u001b[0m \u001b[0mtopics\u001b[0m \u001b[0mto\u001b[0m \u001b[0mlog\u001b[0m\u001b[0;34m.\u001b[0m\u001b[0;34m\u001b[0m\u001b[0m\n\u001b[1;32m     15\u001b[0m         Set `topics=-1` to print all topics.\"\"\"\n\u001b[0;32m---> 16\u001b[0;31m         \u001b[0;32mreturn\u001b[0m \u001b[0mself\u001b[0m\u001b[0;34m.\u001b[0m\u001b[0mshow_topics\u001b[0m\u001b[0;34m(\u001b[0m\u001b[0mnum_topics\u001b[0m\u001b[0;34m=\u001b[0m\u001b[0mnum_topics\u001b[0m\u001b[0;34m,\u001b[0m \u001b[0mnum_words\u001b[0m\u001b[0;34m=\u001b[0m\u001b[0mnum_words\u001b[0m\u001b[0;34m,\u001b[0m \u001b[0mlog\u001b[0m\u001b[0;34m=\u001b[0m\u001b[0;32mTrue\u001b[0m\u001b[0;34m)\u001b[0m\u001b[0;34m\u001b[0m\u001b[0m\n\u001b[0m\u001b[1;32m     17\u001b[0m \u001b[0;34m\u001b[0m\u001b[0m\n\u001b[1;32m     18\u001b[0m     \u001b[0;32mdef\u001b[0m \u001b[0mget_topics\u001b[0m\u001b[0;34m(\u001b[0m\u001b[0mself\u001b[0m\u001b[0;34m)\u001b[0m\u001b[0;34m:\u001b[0m\u001b[0;34m\u001b[0m\u001b[0m\n",
      "\u001b[0;32m~/miniconda3/envs/ml1labs/lib/python3.6/site-packages/gensim/models/lsimodel.py\u001b[0m in \u001b[0;36mshow_topics\u001b[0;34m(self, num_topics, num_words, log, formatted)\u001b[0m\n\u001b[1;32m    549\u001b[0m             \u001b[0;32mif\u001b[0m \u001b[0mi\u001b[0m \u001b[0;34m<\u001b[0m \u001b[0mlen\u001b[0m\u001b[0;34m(\u001b[0m\u001b[0mself\u001b[0m\u001b[0;34m.\u001b[0m\u001b[0mprojection\u001b[0m\u001b[0;34m.\u001b[0m\u001b[0ms\u001b[0m\u001b[0;34m)\u001b[0m\u001b[0;34m:\u001b[0m\u001b[0;34m\u001b[0m\u001b[0m\n\u001b[1;32m    550\u001b[0m                 \u001b[0;32mif\u001b[0m \u001b[0mformatted\u001b[0m\u001b[0;34m:\u001b[0m\u001b[0;34m\u001b[0m\u001b[0m\n\u001b[0;32m--> 551\u001b[0;31m                     \u001b[0mtopic\u001b[0m \u001b[0;34m=\u001b[0m \u001b[0mself\u001b[0m\u001b[0;34m.\u001b[0m\u001b[0mprint_topic\u001b[0m\u001b[0;34m(\u001b[0m\u001b[0mi\u001b[0m\u001b[0;34m,\u001b[0m \u001b[0mtopn\u001b[0m\u001b[0;34m=\u001b[0m\u001b[0mnum_words\u001b[0m\u001b[0;34m)\u001b[0m\u001b[0;34m\u001b[0m\u001b[0m\n\u001b[0m\u001b[1;32m    552\u001b[0m                 \u001b[0;32melse\u001b[0m\u001b[0;34m:\u001b[0m\u001b[0;34m\u001b[0m\u001b[0m\n\u001b[1;32m    553\u001b[0m                     \u001b[0mtopic\u001b[0m \u001b[0;34m=\u001b[0m \u001b[0mself\u001b[0m\u001b[0;34m.\u001b[0m\u001b[0mshow_topic\u001b[0m\u001b[0;34m(\u001b[0m\u001b[0mi\u001b[0m\u001b[0;34m,\u001b[0m \u001b[0mtopn\u001b[0m\u001b[0;34m=\u001b[0m\u001b[0mnum_words\u001b[0m\u001b[0;34m)\u001b[0m\u001b[0;34m\u001b[0m\u001b[0m\n",
      "\u001b[0;32m~/miniconda3/envs/ml1labs/lib/python3.6/site-packages/gensim/models/basemodel.py\u001b[0m in \u001b[0;36mprint_topic\u001b[0;34m(self, topicno, topn)\u001b[0m\n\u001b[1;32m      8\u001b[0m \u001b[0;34m\u001b[0m\u001b[0m\n\u001b[1;32m      9\u001b[0m         \"\"\"\n\u001b[0;32m---> 10\u001b[0;31m         \u001b[0;32mreturn\u001b[0m \u001b[0;34m' + '\u001b[0m\u001b[0;34m.\u001b[0m\u001b[0mjoin\u001b[0m\u001b[0;34m(\u001b[0m\u001b[0;34m[\u001b[0m\u001b[0;34m'%.3f*\"%s\"'\u001b[0m \u001b[0;34m%\u001b[0m \u001b[0;34m(\u001b[0m\u001b[0mv\u001b[0m\u001b[0;34m,\u001b[0m \u001b[0mk\u001b[0m\u001b[0;34m)\u001b[0m \u001b[0;32mfor\u001b[0m \u001b[0mk\u001b[0m\u001b[0;34m,\u001b[0m \u001b[0mv\u001b[0m \u001b[0;32min\u001b[0m \u001b[0mself\u001b[0m\u001b[0;34m.\u001b[0m\u001b[0mshow_topic\u001b[0m\u001b[0;34m(\u001b[0m\u001b[0mtopicno\u001b[0m\u001b[0;34m,\u001b[0m \u001b[0mtopn\u001b[0m\u001b[0;34m)\u001b[0m\u001b[0;34m]\u001b[0m\u001b[0;34m)\u001b[0m\u001b[0;34m\u001b[0m\u001b[0m\n\u001b[0m\u001b[1;32m     11\u001b[0m \u001b[0;34m\u001b[0m\u001b[0m\n\u001b[1;32m     12\u001b[0m     \u001b[0;32mdef\u001b[0m \u001b[0mprint_topics\u001b[0m\u001b[0;34m(\u001b[0m\u001b[0mself\u001b[0m\u001b[0;34m,\u001b[0m \u001b[0mnum_topics\u001b[0m\u001b[0;34m=\u001b[0m\u001b[0;36m20\u001b[0m\u001b[0;34m,\u001b[0m \u001b[0mnum_words\u001b[0m\u001b[0;34m=\u001b[0m\u001b[0;36m10\u001b[0m\u001b[0;34m)\u001b[0m\u001b[0;34m:\u001b[0m\u001b[0;34m\u001b[0m\u001b[0m\n",
      "\u001b[0;32m~/miniconda3/envs/ml1labs/lib/python3.6/site-packages/gensim/models/lsimodel.py\u001b[0m in \u001b[0;36mshow_topic\u001b[0;34m(self, topicno, topn)\u001b[0m\n\u001b[1;32m    530\u001b[0m         \u001b[0mnorm\u001b[0m \u001b[0;34m=\u001b[0m \u001b[0mnp\u001b[0m\u001b[0;34m.\u001b[0m\u001b[0msqrt\u001b[0m\u001b[0;34m(\u001b[0m\u001b[0mnp\u001b[0m\u001b[0;34m.\u001b[0m\u001b[0msum\u001b[0m\u001b[0;34m(\u001b[0m\u001b[0mnp\u001b[0m\u001b[0;34m.\u001b[0m\u001b[0mdot\u001b[0m\u001b[0;34m(\u001b[0m\u001b[0mc\u001b[0m\u001b[0;34m,\u001b[0m \u001b[0mc\u001b[0m\u001b[0;34m)\u001b[0m\u001b[0;34m)\u001b[0m\u001b[0;34m)\u001b[0m\u001b[0;34m\u001b[0m\u001b[0m\n\u001b[1;32m    531\u001b[0m         \u001b[0mmost\u001b[0m \u001b[0;34m=\u001b[0m \u001b[0mmatutils\u001b[0m\u001b[0;34m.\u001b[0m\u001b[0margsort\u001b[0m\u001b[0;34m(\u001b[0m\u001b[0mnp\u001b[0m\u001b[0;34m.\u001b[0m\u001b[0mabs\u001b[0m\u001b[0;34m(\u001b[0m\u001b[0mc\u001b[0m\u001b[0;34m)\u001b[0m\u001b[0;34m,\u001b[0m \u001b[0mtopn\u001b[0m\u001b[0;34m,\u001b[0m \u001b[0mreverse\u001b[0m\u001b[0;34m=\u001b[0m\u001b[0;32mTrue\u001b[0m\u001b[0;34m)\u001b[0m\u001b[0;34m\u001b[0m\u001b[0m\n\u001b[0;32m--> 532\u001b[0;31m         \u001b[0;32mreturn\u001b[0m \u001b[0;34m[\u001b[0m\u001b[0;34m(\u001b[0m\u001b[0mself\u001b[0m\u001b[0;34m.\u001b[0m\u001b[0mid2word\u001b[0m\u001b[0;34m[\u001b[0m\u001b[0mval\u001b[0m\u001b[0;34m]\u001b[0m\u001b[0;34m,\u001b[0m \u001b[0;36m1.0\u001b[0m \u001b[0;34m*\u001b[0m \u001b[0mc\u001b[0m\u001b[0;34m[\u001b[0m\u001b[0mval\u001b[0m\u001b[0;34m]\u001b[0m \u001b[0;34m/\u001b[0m \u001b[0mnorm\u001b[0m\u001b[0;34m)\u001b[0m \u001b[0;32mfor\u001b[0m \u001b[0mval\u001b[0m \u001b[0;32min\u001b[0m \u001b[0mmost\u001b[0m\u001b[0;34m]\u001b[0m\u001b[0;34m\u001b[0m\u001b[0m\n\u001b[0m\u001b[1;32m    533\u001b[0m \u001b[0;34m\u001b[0m\u001b[0m\n\u001b[1;32m    534\u001b[0m     \u001b[0;32mdef\u001b[0m \u001b[0mshow_topics\u001b[0m\u001b[0;34m(\u001b[0m\u001b[0mself\u001b[0m\u001b[0;34m,\u001b[0m \u001b[0mnum_topics\u001b[0m\u001b[0;34m=\u001b[0m\u001b[0;34m-\u001b[0m\u001b[0;36m1\u001b[0m\u001b[0;34m,\u001b[0m \u001b[0mnum_words\u001b[0m\u001b[0;34m=\u001b[0m\u001b[0;36m10\u001b[0m\u001b[0;34m,\u001b[0m \u001b[0mlog\u001b[0m\u001b[0;34m=\u001b[0m\u001b[0;32mFalse\u001b[0m\u001b[0;34m,\u001b[0m \u001b[0mformatted\u001b[0m\u001b[0;34m=\u001b[0m\u001b[0;32mTrue\u001b[0m\u001b[0;34m)\u001b[0m\u001b[0;34m:\u001b[0m\u001b[0;34m\u001b[0m\u001b[0m\n",
      "\u001b[0;32m~/miniconda3/envs/ml1labs/lib/python3.6/site-packages/gensim/models/lsimodel.py\u001b[0m in \u001b[0;36m<listcomp>\u001b[0;34m(.0)\u001b[0m\n\u001b[1;32m    530\u001b[0m         \u001b[0mnorm\u001b[0m \u001b[0;34m=\u001b[0m \u001b[0mnp\u001b[0m\u001b[0;34m.\u001b[0m\u001b[0msqrt\u001b[0m\u001b[0;34m(\u001b[0m\u001b[0mnp\u001b[0m\u001b[0;34m.\u001b[0m\u001b[0msum\u001b[0m\u001b[0;34m(\u001b[0m\u001b[0mnp\u001b[0m\u001b[0;34m.\u001b[0m\u001b[0mdot\u001b[0m\u001b[0;34m(\u001b[0m\u001b[0mc\u001b[0m\u001b[0;34m,\u001b[0m \u001b[0mc\u001b[0m\u001b[0;34m)\u001b[0m\u001b[0;34m)\u001b[0m\u001b[0;34m)\u001b[0m\u001b[0;34m\u001b[0m\u001b[0m\n\u001b[1;32m    531\u001b[0m         \u001b[0mmost\u001b[0m \u001b[0;34m=\u001b[0m \u001b[0mmatutils\u001b[0m\u001b[0;34m.\u001b[0m\u001b[0margsort\u001b[0m\u001b[0;34m(\u001b[0m\u001b[0mnp\u001b[0m\u001b[0;34m.\u001b[0m\u001b[0mabs\u001b[0m\u001b[0;34m(\u001b[0m\u001b[0mc\u001b[0m\u001b[0;34m)\u001b[0m\u001b[0;34m,\u001b[0m \u001b[0mtopn\u001b[0m\u001b[0;34m,\u001b[0m \u001b[0mreverse\u001b[0m\u001b[0;34m=\u001b[0m\u001b[0;32mTrue\u001b[0m\u001b[0;34m)\u001b[0m\u001b[0;34m\u001b[0m\u001b[0m\n\u001b[0;32m--> 532\u001b[0;31m         \u001b[0;32mreturn\u001b[0m \u001b[0;34m[\u001b[0m\u001b[0;34m(\u001b[0m\u001b[0mself\u001b[0m\u001b[0;34m.\u001b[0m\u001b[0mid2word\u001b[0m\u001b[0;34m[\u001b[0m\u001b[0mval\u001b[0m\u001b[0;34m]\u001b[0m\u001b[0;34m,\u001b[0m \u001b[0;36m1.0\u001b[0m \u001b[0;34m*\u001b[0m \u001b[0mc\u001b[0m\u001b[0;34m[\u001b[0m\u001b[0mval\u001b[0m\u001b[0;34m]\u001b[0m \u001b[0;34m/\u001b[0m \u001b[0mnorm\u001b[0m\u001b[0;34m)\u001b[0m \u001b[0;32mfor\u001b[0m \u001b[0mval\u001b[0m \u001b[0;32min\u001b[0m \u001b[0mmost\u001b[0m\u001b[0;34m]\u001b[0m\u001b[0;34m\u001b[0m\u001b[0m\n\u001b[0m\u001b[1;32m    533\u001b[0m \u001b[0;34m\u001b[0m\u001b[0m\n\u001b[1;32m    534\u001b[0m     \u001b[0;32mdef\u001b[0m \u001b[0mshow_topics\u001b[0m\u001b[0;34m(\u001b[0m\u001b[0mself\u001b[0m\u001b[0;34m,\u001b[0m \u001b[0mnum_topics\u001b[0m\u001b[0;34m=\u001b[0m\u001b[0;34m-\u001b[0m\u001b[0;36m1\u001b[0m\u001b[0;34m,\u001b[0m \u001b[0mnum_words\u001b[0m\u001b[0;34m=\u001b[0m\u001b[0;36m10\u001b[0m\u001b[0;34m,\u001b[0m \u001b[0mlog\u001b[0m\u001b[0;34m=\u001b[0m\u001b[0;32mFalse\u001b[0m\u001b[0;34m,\u001b[0m \u001b[0mformatted\u001b[0m\u001b[0;34m=\u001b[0m\u001b[0;32mTrue\u001b[0m\u001b[0;34m)\u001b[0m\u001b[0;34m:\u001b[0m\u001b[0;34m\u001b[0m\u001b[0m\n",
      "\u001b[0;32m~/miniconda3/envs/ml1labs/lib/python3.6/site-packages/pyndri/dictionary.py\u001b[0m in \u001b[0;36m__getitem__\u001b[0;34m(self, token_id)\u001b[0m\n\u001b[1;32m     30\u001b[0m \u001b[0;34m\u001b[0m\u001b[0m\n\u001b[1;32m     31\u001b[0m     \u001b[0;32mdef\u001b[0m \u001b[0m__getitem__\u001b[0m\u001b[0;34m(\u001b[0m\u001b[0mself\u001b[0m\u001b[0;34m,\u001b[0m \u001b[0mtoken_id\u001b[0m\u001b[0;34m)\u001b[0m\u001b[0;34m:\u001b[0m\u001b[0;34m\u001b[0m\u001b[0m\n\u001b[0;32m---> 32\u001b[0;31m         \u001b[0;32mreturn\u001b[0m \u001b[0mself\u001b[0m\u001b[0;34m.\u001b[0m\u001b[0mid2token\u001b[0m\u001b[0;34m[\u001b[0m\u001b[0mtoken_id\u001b[0m\u001b[0;34m]\u001b[0m\u001b[0;34m\u001b[0m\u001b[0m\n\u001b[0m\u001b[1;32m     33\u001b[0m \u001b[0;34m\u001b[0m\u001b[0m\n\u001b[1;32m     34\u001b[0m     \u001b[0;32mdef\u001b[0m \u001b[0m__contains__\u001b[0m\u001b[0;34m(\u001b[0m\u001b[0mself\u001b[0m\u001b[0;34m,\u001b[0m \u001b[0mtoken_id\u001b[0m\u001b[0;34m)\u001b[0m\u001b[0;34m:\u001b[0m\u001b[0;34m\u001b[0m\u001b[0m\n",
      "\u001b[0;31mKeyError\u001b[0m: 0"
     ]
    }
   ],
   "source": [
    "# Own implementation of connector\n",
    "import pyndri.compat\n",
    "\n",
    "# Note: rerunning line 5 may throw internal errors... Not sure why.\n",
    "index = pyndri.Index('index/')\n",
    "\n",
    "# Builds the dictionary:\n",
    "dictionary = pyndri.extract_dictionary(index)\n",
    "\n",
    "# Builds an iterable object for computational- and memory efficiency:\n",
    "sentences = pyndri.compat.IndriSentences(index, dictionary)\n",
    "\n",
    "print(\"Number of unique terms / Dictionary: \", len(sentences.dictionary))\n",
    "print(\"Number of documents: \", sentences.index)\n",
    "\n",
    "corpus = []\n",
    "\n",
    "for doc in range(index.document_base(), index.maximum_document()):\n",
    "    corpus.append(dictionary.doc2bow(index.document(doc)[1]))\n",
    "\n",
    "for i, doc in enumerate(corpus):\n",
    "    print(doc)\n",
    "    \n",
    "    # Print only first 5 document representations:\n",
    "    if i == 5:\n",
    "        break\n",
    "        \n",
    "gensim.corpora.MmCorpus.serialize('/tmp/simple_bow.mm', corpus)\n",
    "\n",
    "corpus = gensim.corpora.MmCorpus('/tmp/simple_bow.mm')\n",
    "\n",
    "# This contains a bug; \"KeyError: 0\", will be fixed next commit...\n",
    "%time lsi = gensim.models.LsiModel(corpus, id2word=dictionary, num_topics=300)"
   ]
  },
  {
   "cell_type": "code",
   "execution_count": null,
   "metadata": {},
   "outputs": [],
   "source": [
    "\n",
    "# Example use of iterable sentences object:\n",
    "for i, sentence in enumerate(sentences):\n",
    "    print(sentence)\n",
    "    \n",
    "    if i == 5:\n",
    "        break"
   ]
  },
  {
   "cell_type": "code",
   "execution_count": 125,
   "metadata": {},
   "outputs": [
    {
     "name": "stdout",
     "output_type": "stream",
     "text": [
      "Dictionary(12 unique tokens: ['human', 'interface', 'computer', 'survey', 'user']...)\n",
      "{'human': 0, 'interface': 1, 'computer': 2, 'survey': 3, 'user': 4, 'system': 5, 'response': 6, 'time': 7, 'eps': 8, 'trees': 9, 'graph': 10, 'minors': 11}\n",
      "[[(0, 1), (1, 1), (2, 1)], [(2, 1), (3, 1), (4, 1), (5, 1), (6, 1), (7, 1)], [(1, 1), (4, 1), (5, 1), (8, 1)], [(0, 1), (5, 2), (8, 1)], [(4, 1), (6, 1), (7, 1)], [(9, 1)], [(9, 1), (10, 1)], [(9, 1), (10, 1), (11, 1)], [(3, 1), (10, 1), (11, 1)]]\n",
      "MmCorpus(9 documents, 12 features, 28 non-zero entries)\n",
      "TfidfModel(num_docs=9, num_nnz=28)\n",
      "<gensim.interfaces.TransformedCorpus object at 0x1d7af3358>\n",
      "[(0, '-0.644*\"system\" + -0.404*\"user\" + -0.301*\"eps\" + -0.265*\"response\" + -0.265*\"time\" + -0.240*\"computer\" + -0.221*\"human\" + -0.206*\"survey\" + -0.198*\"interface\" + -0.036*\"graph\"'), (1, '0.623*\"graph\" + 0.490*\"trees\" + 0.451*\"minors\" + 0.274*\"survey\" + -0.167*\"system\" + -0.141*\"eps\" + -0.113*\"human\" + 0.107*\"time\" + 0.107*\"response\" + -0.072*\"interface\"'), (2, '0.426*\"response\" + 0.426*\"time\" + -0.361*\"system\" + 0.338*\"user\" + -0.330*\"eps\" + -0.289*\"human\" + -0.231*\"trees\" + -0.223*\"graph\" + 0.178*\"survey\" + 0.164*\"computer\"'), (3, '0.595*\"computer\" + 0.552*\"interface\" + 0.415*\"human\" + -0.333*\"system\" + -0.188*\"eps\" + -0.099*\"user\" + -0.074*\"time\" + -0.074*\"response\" + 0.032*\"survey\" + -0.025*\"trees\"'), (4, '0.594*\"trees\" + -0.537*\"survey\" + 0.332*\"user\" + -0.300*\"minors\" + 0.282*\"interface\" + -0.159*\"system\" + 0.115*\"eps\" + -0.107*\"computer\" + -0.106*\"human\" + 0.080*\"response\"')]\n"
     ]
    }
   ],
   "source": [
    "# Gensim tutorial to see how it works, no Pyndri included:\n",
    "\n",
    "texts = [['human', 'interface', 'computer'],\n",
    "         ['survey', 'user', 'computer', 'system', 'response', 'time'],\n",
    "         ['eps', 'user', 'interface', 'system'],\n",
    "         ['system', 'human', 'system', 'eps'],\n",
    "         ['user', 'response', 'time'],\n",
    "         ['trees'],\n",
    "         ['graph', 'trees'],\n",
    "         ['graph', 'minors', 'trees'],\n",
    "         ['graph', 'minors', 'survey']]\n",
    "\n",
    "dictionary = gensim.corpora.Dictionary(texts)\n",
    "print(dictionary)\n",
    "\n",
    "token2id = dictionary.token2id\n",
    "print(token2id)\n",
    "\n",
    "corpus = [dictionary.doc2bow(text) for text in texts]\n",
    "print(corpus)\n",
    "\n",
    "gensim.corpora.MmCorpus.serialize('/tmp/sample.mm', corpus)\n",
    "\n",
    "corpus = gensim.corpora.MmCorpus('/tmp/sample.mm')\n",
    "print(corpus)\n",
    "\n",
    "tfidf = gensim.models.TfidfModel(corpus)\n",
    "print(tfidf)\n",
    "\n",
    "corpus_tfidf = tfidf[corpus]\n",
    "print(corpus_tfidf)\n",
    "\n",
    "lsi = gensim.models.LsiModel(corpus, id2word=dictionary, num_topics=10)\n",
    "print(lsi.print_topics(5))\n"
   ]
  },
  {
   "cell_type": "markdown",
   "metadata": {},
   "source": [
    "### Task 3:  Word embeddings for ranking [20 points] (open-ended) ###\n",
    "\n",
    "First create word embeddings on the corpus we provided using [word2vec](http://arxiv.org/abs/1411.2738) -- [gensim implementation](https://radimrehurek.com/gensim/models/word2vec.html). You should extract the indexed documents using pyndri and provide them to gensim for training a model (see example [here](https://github.com/nickvosk/pyndri/blob/master/examples/word2vec.py)).\n",
    "   \n",
    "This is an open-ended task. It is left up you to decide how you will combine word embeddings to derive query and document representations. Note that since we provide the implementation for training word2vec, you will be graded based on your creativity on combining word embeddings for building query and document representations.\n",
    "\n",
    "Note: If you want to experiment with pre-trained word embeddings on a different corpus, you can use the word embeddings we provide alongside the assignment (./data/reduced_vectors_google.txt.tar.gz). These are the [google word2vec word embeddings](https://code.google.com/archive/p/word2vec/), reduced to only the words that appear in the document collection we use in this assignment."
   ]
  },
  {
   "cell_type": "code",
   "execution_count": null,
   "metadata": {
    "collapsed": true
   },
   "outputs": [],
   "source": []
  },
  {
   "cell_type": "markdown",
   "metadata": {},
   "source": [
    "### Task 4: Learning to rank (LTR) [15 points] (open-ended) ###\n",
    "\n",
    "In this task you will get an introduction into learning to rank for information retrieval.\n",
    "\n",
    "You can explore different ways for devising features for the model. Obviously, you can use the retrieval methods you implemented in Task 1, Task 2 and Task 3 as features. Think about other features you can use (e.g. query/document length). Creativity on devising new features and providing motivation for them will be taken into account when grading.\n",
    "\n",
    "For every query, first create a document candidate set using the top-1000 documents using TF-IDF, and subsequently compute features given a query and a document. Note that the feature values of different retrieval methods are likely to be distributed differently.\n",
    "\n",
    "You are adviced to start some pointwise learning to rank algorithm e.g. logistic regression, implemented in [scikit-learn](http://scikit-learn.org/stable/modules/generated/sklearn.linear_model.LogisticRegression.html).\n",
    "Train your LTR model using 10-fold cross validation on the test set. More advanced learning to rank algorithms will be appreciated when grading."
   ]
  },
  {
   "cell_type": "code",
   "execution_count": null,
   "metadata": {},
   "outputs": [],
   "source": []
  },
  {
   "cell_type": "markdown",
   "metadata": {
    "collapsed": true
   },
   "source": [
    "### Task 4: Write a report [15 points; instant FAIL if not provided] ###\n",
    "\n",
    "The report should be a PDF file created using the [sigconf ACM template](https://www.acm.org/publications/proceedings-template) and will determine a significant part of your grade.\n",
    "\n",
    "   * It should explain what you have implemented, motivate your experiments and detail what you expect to learn from them. **[10 points]**\n",
    "   * Lastly, provide a convincing analysis of your results and conclude the report accordingly. **[10 points]**\n",
    "      * Do all methods perform similarly on all queries? Why?\n",
    "      * Is there a single retrieval model that outperforms all other retrieval models (i.e., silver bullet)?\n",
    "      * ...\n",
    "\n",
    "**Hand in the report and your self-contained implementation source files.** Only send us the files that matter, organized in a well-documented zip/tgz file with clear instructions on how to reproduce your results. That is, we want to be able to regenerate all your results with minimal effort. You can assume that the index and ground-truth information is present in the same file structure as the one we have provided.\n"
   ]
  },
  {
   "cell_type": "code",
   "execution_count": null,
   "metadata": {
    "collapsed": true
   },
   "outputs": [],
   "source": []
  }
 ],
 "metadata": {
  "anaconda-cloud": {},
  "kernelspec": {
   "display_name": "ml1labs",
   "language": "python",
   "name": "ml1labs"
  },
  "language_info": {
   "codemirror_mode": {
    "name": "ipython",
    "version": 3
   },
   "file_extension": ".py",
   "mimetype": "text/x-python",
   "name": "python",
   "nbconvert_exporter": "python",
   "pygments_lexer": "ipython3",
   "version": "3.6.2"
  }
 },
 "nbformat": 4,
 "nbformat_minor": 1
}
